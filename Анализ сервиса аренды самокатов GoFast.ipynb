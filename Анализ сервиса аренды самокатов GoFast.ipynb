{
 "cells": [
  {
   "cell_type": "markdown",
   "id": "86ad0d49",
   "metadata": {},
   "source": [
    "# Анализ сервиса аренды самокатов GoFast"
   ]
  },
  {
   "cell_type": "markdown",
   "id": "3a3edd7a",
   "metadata": {},
   "source": [
    "## Описание проекта\n",
    "\n",
    "Вы аналитик популярного сервиса аренды самокатов GoFast. Вам передали данные о некоторых пользователях из нескольких городов, а также об их поездках. Проанализируйте данные и проверьте некоторые гипотезы, которые могут помочь бизнесу вырасти.\n",
    "\n",
    "Чтобы совершать поездки по городу, пользователи сервиса GoFast пользуются мобильным приложением.\n",
    "\n",
    "Сервисом можно пользоваться:\n",
    "- без подписки\n",
    "    - абонентская плата отсутствует;\n",
    "    - стоимость одной минуты поездки —  8 рублей;\n",
    "    - стоимость старта (начала поездки) — 50 рублей;\n",
    "- с подпиской Ultra\n",
    "    - абонентская плата — 199 рублей в месяц;\n",
    "    - стоимость одной минуты поездки — 6 рублей;\n",
    "    - стоимость старта — бесплатно.\n",
    "    \n",
    "### Описание данных\n",
    "\n",
    "В основных данных есть информация о пользователях, их поездках и подписках.\n",
    "\n",
    "- Пользователи — users_go.csv\n",
    "    - user_id - уникальный идентификатор пользователя\n",
    "    - name - имя пользователя\n",
    "    - age -\tвозраст\n",
    "    - city - город\n",
    "    - subscription_type\t- тип подписки (free, ultra)\n",
    "\n",
    "\n",
    "- Поездки — rides_go.csv\n",
    "\n",
    "    - user_id - уникальный идентификатор пользователя\n",
    "    - distance - расстояние, которое пользователь проехал в текущей сессии (в метрах)\n",
    "    - duration - продолжительность сессии (в минутах) — время с того момента, как пользователь нажал кнопку «Начать поездку» до момента, как он нажал кнопку «Завершить поездку»\n",
    "    - date - дата совершения поездки\n",
    "\n",
    "\n",
    "- Подписки — subscriptions_go.csv\n",
    "    - subscription_type - тип подписки\n",
    "    - minute_price - стоимость одной минуты поездки по данной подписке\n",
    "    - start_ride_price - стоимость начала поездки\n",
    "    - subscription_fee - стоимость ежемесячного платежа\n",
    "    \n",
    "### Инструкция по выполнению проекта\n",
    "\n",
    "#### Шаг 1. Загрузка данных\n",
    "- Считайте CSV-файлы с данными с помощью библиотеки pandas и сохраните их в датафреймы. Пути к файлам:\n",
    "    - /datasets/users_go.csv\n",
    "    - /datasets/rides_go.csv\n",
    "    - /datasets/subscriptions_go.csv\n",
    "- Выведите первые строки каждого набора данных. Изучите общую информацию о каждом датафрейме.\n",
    "\n",
    "#### Шаг 2. Предобработка данных\n",
    "- Приведите столбец date к типу даты pandas.\n",
    "- Создайте новый столбец с номером месяца на основе столбца date.\n",
    "- Проверьте наличие пропущенных значений и дубликатов в датафреймах. Обработайте их, если такие значения присутствуют.\n",
    "\n",
    "#### Шаг 3. Исследовательский анализ данных\n",
    "Опишите и визуализируйте общую информацию о пользователях и поездках:\n",
    "- частота встречаемости городов;\n",
    "- соотношение пользователей с подпиской и без подписки;\n",
    "- возраст пользователей;\n",
    "- расстояние, которое пользователь преодолел за одну поездку;\n",
    "- продолжительность поездок.\n",
    "\n",
    "#### Шаг 4. Объединение данных\n",
    "- Объедините данные о пользователях, поездках и подписках в один датафрейм. Для этого воспользуйтесь методом merge().\n",
    "- Создайте ещё два датафрейма из датафрейма, созданного на этапе 4.1:\n",
    "    - c данными о пользователях без подписки;\n",
    "    - с данными о пользователях с подпиской.\n",
    "- Визуализируйте информацию о расстоянии и времени поездок для пользователей обеих категорий.\n",
    "\n",
    "#### Шаг 5. Подсчёт выручки\n",
    "- Создайте датафрейм с агрегированными данными о поездках на основе датафрейма с объединёнными данными из шага 4: найдите суммарное расстояние, количество поездок и суммарное время для каждого пользователя за каждый месяц.\n",
    "- В этот же датафрейм добавьте столбец с помесячной выручкой, которую принёс каждый пользователь. Для этого обратитесь к информации об условиях оплаты для подписчиков и тех, у кого нет подписки. Продолжительность каждой поездки в каждой строке исходного датафрейма для подсчёта стоимости округляется до следующего целого числа: например, значения 25.3, 25.5 и 26.0 должны быть преобразованы к 26.\n",
    "\n",
    "#### Шаг 6. Проверка гипотез\n",
    "Продакт-менеджеры сервиса хотят увеличить количество пользователей с подпиской. Для этого они будут проводить различные акции, но сначала нужно выяснить несколько важных моментов.\n",
    "- Важно понять, тратят ли пользователи с подпиской больше времени на поездки? Если да, то пользователи с подпиской могут быть «выгоднее» для компании. Проверьте гипотезу. Используйте исходные данные о продолжительности каждой сессии — отдельно для подписчиков и тех, у кого нет подписки.\n",
    "- Расстояние одной поездки в 3130 метров — оптимальное с точки зрения износа самоката. Можно ли сказать, что среднее расстояние, которое проезжают пользователи с подпиской за одну поездку, не превышает 3130 метров? Проверьте гипотезу и сделайте выводы.\n",
    "- Проверьте гипотезу о том, будет ли помесячная выручка от пользователей с подпиской по месяцам выше, чем выручка от пользователей без подписки. Сделайте вывод.\n",
    "- Представьте такую ситуацию: техническая команда сервиса обновила сервера, с которыми взаимодействует мобильное приложение. Она надеется, что из-за этого количество обращений в техподдержку значимо снизилось. Некоторый файл содержит для каждого пользователя данные о количестве обращений до обновления и после него. Какой тест вам понадобился бы для проверки этой гипотезы?\n",
    "\n",
    "### Написать общий вывод"
   ]
  },
  {
   "cell_type": "markdown",
   "id": "1047bf66",
   "metadata": {},
   "source": [
    "## Загрузка данных"
   ]
  },
  {
   "cell_type": "code",
   "execution_count": 1,
   "id": "373fe1e8",
   "metadata": {},
   "outputs": [],
   "source": [
    "# импортируем необходимые библиотеки\n",
    "import pandas as pd\n",
    "import matplotlib.pyplot as plt\n",
    "import seaborn as sns\n",
    "import numpy as np\n",
    "from scipy import stats as st"
   ]
  },
  {
   "cell_type": "code",
   "execution_count": 2,
   "id": "e1f537cf",
   "metadata": {},
   "outputs": [],
   "source": [
    "# прочитаем файлы и сохраним их в переменные\n",
    "users_go = pd.read_csv('/datasets/users_go.csv')\n",
    "rides_go = pd.read_csv('/datasets/rides_go.csv', parse_dates=['date'], dayfirst=True)\n",
    "subs_go = pd.read_csv('/datasets/subscriptions_go.csv')"
   ]
  },
  {
   "cell_type": "code",
   "execution_count": 3,
   "id": "837cb73f",
   "metadata": {},
   "outputs": [],
   "source": [
    "# создадим функцию для быстрого просмотра всей нужной информации датафреймов\n",
    "def display_and_info(df):\n",
    "    display(df.head())\n",
    "    display(df.info())\n",
    "    display(df.describe().T)"
   ]
  },
  {
   "cell_type": "markdown",
   "id": "b63aa534",
   "metadata": {},
   "source": [
    "### Изучаем датафрейм c пользователями"
   ]
  },
  {
   "cell_type": "code",
   "execution_count": 4,
   "id": "f9236f43",
   "metadata": {},
   "outputs": [
    {
     "data": {
      "text/html": [
       "<div>\n",
       "<style scoped>\n",
       "    .dataframe tbody tr th:only-of-type {\n",
       "        vertical-align: middle;\n",
       "    }\n",
       "\n",
       "    .dataframe tbody tr th {\n",
       "        vertical-align: top;\n",
       "    }\n",
       "\n",
       "    .dataframe thead th {\n",
       "        text-align: right;\n",
       "    }\n",
       "</style>\n",
       "<table border=\"1\" class=\"dataframe\">\n",
       "  <thead>\n",
       "    <tr style=\"text-align: right;\">\n",
       "      <th></th>\n",
       "      <th>user_id</th>\n",
       "      <th>name</th>\n",
       "      <th>age</th>\n",
       "      <th>city</th>\n",
       "      <th>subscription_type</th>\n",
       "    </tr>\n",
       "  </thead>\n",
       "  <tbody>\n",
       "    <tr>\n",
       "      <th>0</th>\n",
       "      <td>1</td>\n",
       "      <td>Кира</td>\n",
       "      <td>22</td>\n",
       "      <td>Тюмень</td>\n",
       "      <td>ultra</td>\n",
       "    </tr>\n",
       "    <tr>\n",
       "      <th>1</th>\n",
       "      <td>2</td>\n",
       "      <td>Станислав</td>\n",
       "      <td>31</td>\n",
       "      <td>Омск</td>\n",
       "      <td>ultra</td>\n",
       "    </tr>\n",
       "    <tr>\n",
       "      <th>2</th>\n",
       "      <td>3</td>\n",
       "      <td>Алексей</td>\n",
       "      <td>20</td>\n",
       "      <td>Москва</td>\n",
       "      <td>ultra</td>\n",
       "    </tr>\n",
       "    <tr>\n",
       "      <th>3</th>\n",
       "      <td>4</td>\n",
       "      <td>Константин</td>\n",
       "      <td>26</td>\n",
       "      <td>Ростов-на-Дону</td>\n",
       "      <td>ultra</td>\n",
       "    </tr>\n",
       "    <tr>\n",
       "      <th>4</th>\n",
       "      <td>5</td>\n",
       "      <td>Адель</td>\n",
       "      <td>28</td>\n",
       "      <td>Омск</td>\n",
       "      <td>ultra</td>\n",
       "    </tr>\n",
       "  </tbody>\n",
       "</table>\n",
       "</div>"
      ],
      "text/plain": [
       "   user_id        name  age            city subscription_type\n",
       "0        1        Кира   22          Тюмень             ultra\n",
       "1        2   Станислав   31            Омск             ultra\n",
       "2        3     Алексей   20          Москва             ultra\n",
       "3        4  Константин   26  Ростов-на-Дону             ultra\n",
       "4        5       Адель   28            Омск             ultra"
      ]
     },
     "metadata": {},
     "output_type": "display_data"
    },
    {
     "name": "stdout",
     "output_type": "stream",
     "text": [
      "<class 'pandas.core.frame.DataFrame'>\n",
      "RangeIndex: 1565 entries, 0 to 1564\n",
      "Data columns (total 5 columns):\n",
      " #   Column             Non-Null Count  Dtype \n",
      "---  ------             --------------  ----- \n",
      " 0   user_id            1565 non-null   int64 \n",
      " 1   name               1565 non-null   object\n",
      " 2   age                1565 non-null   int64 \n",
      " 3   city               1565 non-null   object\n",
      " 4   subscription_type  1565 non-null   object\n",
      "dtypes: int64(2), object(3)\n",
      "memory usage: 61.3+ KB\n"
     ]
    },
    {
     "data": {
      "text/plain": [
       "None"
      ]
     },
     "metadata": {},
     "output_type": "display_data"
    },
    {
     "data": {
      "text/html": [
       "<div>\n",
       "<style scoped>\n",
       "    .dataframe tbody tr th:only-of-type {\n",
       "        vertical-align: middle;\n",
       "    }\n",
       "\n",
       "    .dataframe tbody tr th {\n",
       "        vertical-align: top;\n",
       "    }\n",
       "\n",
       "    .dataframe thead th {\n",
       "        text-align: right;\n",
       "    }\n",
       "</style>\n",
       "<table border=\"1\" class=\"dataframe\">\n",
       "  <thead>\n",
       "    <tr style=\"text-align: right;\">\n",
       "      <th></th>\n",
       "      <th>count</th>\n",
       "      <th>mean</th>\n",
       "      <th>std</th>\n",
       "      <th>min</th>\n",
       "      <th>25%</th>\n",
       "      <th>50%</th>\n",
       "      <th>75%</th>\n",
       "      <th>max</th>\n",
       "    </tr>\n",
       "  </thead>\n",
       "  <tbody>\n",
       "    <tr>\n",
       "      <th>user_id</th>\n",
       "      <td>1565.0</td>\n",
       "      <td>762.633866</td>\n",
       "      <td>443.260155</td>\n",
       "      <td>1.0</td>\n",
       "      <td>378.0</td>\n",
       "      <td>762.0</td>\n",
       "      <td>1146.0</td>\n",
       "      <td>1534.0</td>\n",
       "    </tr>\n",
       "    <tr>\n",
       "      <th>age</th>\n",
       "      <td>1565.0</td>\n",
       "      <td>24.922045</td>\n",
       "      <td>4.553496</td>\n",
       "      <td>12.0</td>\n",
       "      <td>22.0</td>\n",
       "      <td>25.0</td>\n",
       "      <td>28.0</td>\n",
       "      <td>43.0</td>\n",
       "    </tr>\n",
       "  </tbody>\n",
       "</table>\n",
       "</div>"
      ],
      "text/plain": [
       "          count        mean         std   min    25%    50%     75%     max\n",
       "user_id  1565.0  762.633866  443.260155   1.0  378.0  762.0  1146.0  1534.0\n",
       "age      1565.0   24.922045    4.553496  12.0   22.0   25.0    28.0    43.0"
      ]
     },
     "metadata": {},
     "output_type": "display_data"
    }
   ],
   "source": [
    "# посмотрим на датафрейм 'users_go'\n",
    "display_and_info(users_go)"
   ]
  },
  {
   "cell_type": "markdown",
   "id": "0a3d5cd0",
   "metadata": {},
   "source": [
    "В датафрейме с пользователями все столбцы имеют \"змеиный\" стиль. В каждом столбце имеются все данные без пропусков. Типы данных всех столбцов соответствуют своему типу данных."
   ]
  },
  {
   "cell_type": "markdown",
   "id": "ec6f2205",
   "metadata": {},
   "source": [
    "### Изучаем датафрейм с поездками"
   ]
  },
  {
   "cell_type": "code",
   "execution_count": 5,
   "id": "cb2f664b",
   "metadata": {},
   "outputs": [
    {
     "data": {
      "text/html": [
       "<div>\n",
       "<style scoped>\n",
       "    .dataframe tbody tr th:only-of-type {\n",
       "        vertical-align: middle;\n",
       "    }\n",
       "\n",
       "    .dataframe tbody tr th {\n",
       "        vertical-align: top;\n",
       "    }\n",
       "\n",
       "    .dataframe thead th {\n",
       "        text-align: right;\n",
       "    }\n",
       "</style>\n",
       "<table border=\"1\" class=\"dataframe\">\n",
       "  <thead>\n",
       "    <tr style=\"text-align: right;\">\n",
       "      <th></th>\n",
       "      <th>user_id</th>\n",
       "      <th>distance</th>\n",
       "      <th>duration</th>\n",
       "      <th>date</th>\n",
       "    </tr>\n",
       "  </thead>\n",
       "  <tbody>\n",
       "    <tr>\n",
       "      <th>0</th>\n",
       "      <td>1</td>\n",
       "      <td>4409.919140</td>\n",
       "      <td>25.599769</td>\n",
       "      <td>2021-01-01</td>\n",
       "    </tr>\n",
       "    <tr>\n",
       "      <th>1</th>\n",
       "      <td>1</td>\n",
       "      <td>2617.592153</td>\n",
       "      <td>15.816871</td>\n",
       "      <td>2021-01-18</td>\n",
       "    </tr>\n",
       "    <tr>\n",
       "      <th>2</th>\n",
       "      <td>1</td>\n",
       "      <td>754.159807</td>\n",
       "      <td>6.232113</td>\n",
       "      <td>2021-04-20</td>\n",
       "    </tr>\n",
       "    <tr>\n",
       "      <th>3</th>\n",
       "      <td>1</td>\n",
       "      <td>2694.783254</td>\n",
       "      <td>18.511000</td>\n",
       "      <td>2021-08-11</td>\n",
       "    </tr>\n",
       "    <tr>\n",
       "      <th>4</th>\n",
       "      <td>1</td>\n",
       "      <td>4028.687306</td>\n",
       "      <td>26.265803</td>\n",
       "      <td>2021-08-28</td>\n",
       "    </tr>\n",
       "  </tbody>\n",
       "</table>\n",
       "</div>"
      ],
      "text/plain": [
       "   user_id     distance   duration       date\n",
       "0        1  4409.919140  25.599769 2021-01-01\n",
       "1        1  2617.592153  15.816871 2021-01-18\n",
       "2        1   754.159807   6.232113 2021-04-20\n",
       "3        1  2694.783254  18.511000 2021-08-11\n",
       "4        1  4028.687306  26.265803 2021-08-28"
      ]
     },
     "metadata": {},
     "output_type": "display_data"
    },
    {
     "name": "stdout",
     "output_type": "stream",
     "text": [
      "<class 'pandas.core.frame.DataFrame'>\n",
      "RangeIndex: 18068 entries, 0 to 18067\n",
      "Data columns (total 4 columns):\n",
      " #   Column    Non-Null Count  Dtype         \n",
      "---  ------    --------------  -----         \n",
      " 0   user_id   18068 non-null  int64         \n",
      " 1   distance  18068 non-null  float64       \n",
      " 2   duration  18068 non-null  float64       \n",
      " 3   date      18068 non-null  datetime64[ns]\n",
      "dtypes: datetime64[ns](1), float64(2), int64(1)\n",
      "memory usage: 564.8 KB\n"
     ]
    },
    {
     "data": {
      "text/plain": [
       "None"
      ]
     },
     "metadata": {},
     "output_type": "display_data"
    },
    {
     "data": {
      "text/html": [
       "<div>\n",
       "<style scoped>\n",
       "    .dataframe tbody tr th:only-of-type {\n",
       "        vertical-align: middle;\n",
       "    }\n",
       "\n",
       "    .dataframe tbody tr th {\n",
       "        vertical-align: top;\n",
       "    }\n",
       "\n",
       "    .dataframe thead th {\n",
       "        text-align: right;\n",
       "    }\n",
       "</style>\n",
       "<table border=\"1\" class=\"dataframe\">\n",
       "  <thead>\n",
       "    <tr style=\"text-align: right;\">\n",
       "      <th></th>\n",
       "      <th>count</th>\n",
       "      <th>mean</th>\n",
       "      <th>std</th>\n",
       "      <th>min</th>\n",
       "      <th>25%</th>\n",
       "      <th>50%</th>\n",
       "      <th>75%</th>\n",
       "      <th>max</th>\n",
       "    </tr>\n",
       "  </thead>\n",
       "  <tbody>\n",
       "    <tr>\n",
       "      <th>user_id</th>\n",
       "      <td>18068.0</td>\n",
       "      <td>842.869936</td>\n",
       "      <td>434.734317</td>\n",
       "      <td>1.000000</td>\n",
       "      <td>487.000000</td>\n",
       "      <td>889.000000</td>\n",
       "      <td>1213.250000</td>\n",
       "      <td>1534.000000</td>\n",
       "    </tr>\n",
       "    <tr>\n",
       "      <th>distance</th>\n",
       "      <td>18068.0</td>\n",
       "      <td>3070.659976</td>\n",
       "      <td>1116.831209</td>\n",
       "      <td>0.855683</td>\n",
       "      <td>2543.226360</td>\n",
       "      <td>3133.609994</td>\n",
       "      <td>3776.222735</td>\n",
       "      <td>7211.007745</td>\n",
       "    </tr>\n",
       "    <tr>\n",
       "      <th>duration</th>\n",
       "      <td>18068.0</td>\n",
       "      <td>17.805011</td>\n",
       "      <td>6.091051</td>\n",
       "      <td>0.500000</td>\n",
       "      <td>13.597563</td>\n",
       "      <td>17.678395</td>\n",
       "      <td>21.724800</td>\n",
       "      <td>40.823963</td>\n",
       "    </tr>\n",
       "  </tbody>\n",
       "</table>\n",
       "</div>"
      ],
      "text/plain": [
       "            count         mean          std       min          25%  \\\n",
       "user_id   18068.0   842.869936   434.734317  1.000000   487.000000   \n",
       "distance  18068.0  3070.659976  1116.831209  0.855683  2543.226360   \n",
       "duration  18068.0    17.805011     6.091051  0.500000    13.597563   \n",
       "\n",
       "                  50%          75%          max  \n",
       "user_id    889.000000  1213.250000  1534.000000  \n",
       "distance  3133.609994  3776.222735  7211.007745  \n",
       "duration    17.678395    21.724800    40.823963  "
      ]
     },
     "metadata": {},
     "output_type": "display_data"
    }
   ],
   "source": [
    "# посмотрим на датафрейм 'rides_go'\n",
    "display_and_info(rides_go)"
   ]
  },
  {
   "cell_type": "markdown",
   "id": "43ae23ad",
   "metadata": {},
   "source": [
    "В датафрейме с поездками все столбцы имеют \"змеиный\" стиль. В каждом столбце имеются все данные без пропусков. Типы данных всех столбцов соответствуют своему типу данных."
   ]
  },
  {
   "cell_type": "markdown",
   "id": "d378e65e",
   "metadata": {},
   "source": [
    "### Изучаем датафрейм с подписками"
   ]
  },
  {
   "cell_type": "code",
   "execution_count": 6,
   "id": "b6220844",
   "metadata": {},
   "outputs": [
    {
     "data": {
      "text/html": [
       "<div>\n",
       "<style scoped>\n",
       "    .dataframe tbody tr th:only-of-type {\n",
       "        vertical-align: middle;\n",
       "    }\n",
       "\n",
       "    .dataframe tbody tr th {\n",
       "        vertical-align: top;\n",
       "    }\n",
       "\n",
       "    .dataframe thead th {\n",
       "        text-align: right;\n",
       "    }\n",
       "</style>\n",
       "<table border=\"1\" class=\"dataframe\">\n",
       "  <thead>\n",
       "    <tr style=\"text-align: right;\">\n",
       "      <th></th>\n",
       "      <th>subscription_type</th>\n",
       "      <th>minute_price</th>\n",
       "      <th>start_ride_price</th>\n",
       "      <th>subscription_fee</th>\n",
       "    </tr>\n",
       "  </thead>\n",
       "  <tbody>\n",
       "    <tr>\n",
       "      <th>0</th>\n",
       "      <td>free</td>\n",
       "      <td>8</td>\n",
       "      <td>50</td>\n",
       "      <td>0</td>\n",
       "    </tr>\n",
       "    <tr>\n",
       "      <th>1</th>\n",
       "      <td>ultra</td>\n",
       "      <td>6</td>\n",
       "      <td>0</td>\n",
       "      <td>199</td>\n",
       "    </tr>\n",
       "  </tbody>\n",
       "</table>\n",
       "</div>"
      ],
      "text/plain": [
       "  subscription_type  minute_price  start_ride_price  subscription_fee\n",
       "0              free             8                50                 0\n",
       "1             ultra             6                 0               199"
      ]
     },
     "metadata": {},
     "output_type": "display_data"
    },
    {
     "name": "stdout",
     "output_type": "stream",
     "text": [
      "<class 'pandas.core.frame.DataFrame'>\n",
      "RangeIndex: 2 entries, 0 to 1\n",
      "Data columns (total 4 columns):\n",
      " #   Column             Non-Null Count  Dtype \n",
      "---  ------             --------------  ----- \n",
      " 0   subscription_type  2 non-null      object\n",
      " 1   minute_price       2 non-null      int64 \n",
      " 2   start_ride_price   2 non-null      int64 \n",
      " 3   subscription_fee   2 non-null      int64 \n",
      "dtypes: int64(3), object(1)\n",
      "memory usage: 192.0+ bytes\n"
     ]
    },
    {
     "data": {
      "text/plain": [
       "None"
      ]
     },
     "metadata": {},
     "output_type": "display_data"
    },
    {
     "data": {
      "text/html": [
       "<div>\n",
       "<style scoped>\n",
       "    .dataframe tbody tr th:only-of-type {\n",
       "        vertical-align: middle;\n",
       "    }\n",
       "\n",
       "    .dataframe tbody tr th {\n",
       "        vertical-align: top;\n",
       "    }\n",
       "\n",
       "    .dataframe thead th {\n",
       "        text-align: right;\n",
       "    }\n",
       "</style>\n",
       "<table border=\"1\" class=\"dataframe\">\n",
       "  <thead>\n",
       "    <tr style=\"text-align: right;\">\n",
       "      <th></th>\n",
       "      <th>count</th>\n",
       "      <th>mean</th>\n",
       "      <th>std</th>\n",
       "      <th>min</th>\n",
       "      <th>25%</th>\n",
       "      <th>50%</th>\n",
       "      <th>75%</th>\n",
       "      <th>max</th>\n",
       "    </tr>\n",
       "  </thead>\n",
       "  <tbody>\n",
       "    <tr>\n",
       "      <th>minute_price</th>\n",
       "      <td>2.0</td>\n",
       "      <td>7.0</td>\n",
       "      <td>1.414214</td>\n",
       "      <td>6.0</td>\n",
       "      <td>6.50</td>\n",
       "      <td>7.0</td>\n",
       "      <td>7.50</td>\n",
       "      <td>8.0</td>\n",
       "    </tr>\n",
       "    <tr>\n",
       "      <th>start_ride_price</th>\n",
       "      <td>2.0</td>\n",
       "      <td>25.0</td>\n",
       "      <td>35.355339</td>\n",
       "      <td>0.0</td>\n",
       "      <td>12.50</td>\n",
       "      <td>25.0</td>\n",
       "      <td>37.50</td>\n",
       "      <td>50.0</td>\n",
       "    </tr>\n",
       "    <tr>\n",
       "      <th>subscription_fee</th>\n",
       "      <td>2.0</td>\n",
       "      <td>99.5</td>\n",
       "      <td>140.714249</td>\n",
       "      <td>0.0</td>\n",
       "      <td>49.75</td>\n",
       "      <td>99.5</td>\n",
       "      <td>149.25</td>\n",
       "      <td>199.0</td>\n",
       "    </tr>\n",
       "  </tbody>\n",
       "</table>\n",
       "</div>"
      ],
      "text/plain": [
       "                  count  mean         std  min    25%   50%     75%    max\n",
       "minute_price        2.0   7.0    1.414214  6.0   6.50   7.0    7.50    8.0\n",
       "start_ride_price    2.0  25.0   35.355339  0.0  12.50  25.0   37.50   50.0\n",
       "subscription_fee    2.0  99.5  140.714249  0.0  49.75  99.5  149.25  199.0"
      ]
     },
     "metadata": {},
     "output_type": "display_data"
    }
   ],
   "source": [
    "# посмотрим на датафрейм 'subs_go'\n",
    "display_and_info(subs_go)"
   ]
  },
  {
   "cell_type": "markdown",
   "id": "6894c401",
   "metadata": {},
   "source": [
    "В датафрейме с подписками все столбцы имеют \"змеиный\" стиль. В каждом столбце имеются все данные без пропусков. Типы данных всех столбцов соответствуют своему типу данных."
   ]
  },
  {
   "cell_type": "markdown",
   "id": "2e87cb7e",
   "metadata": {},
   "source": [
    "Вывод:\n",
    "- Загрузили и изучили наши таблицы.\n",
    "- Ознакомились с общей информацией и вывели первые строки каждой таблицы.\n",
    "- Во всех датафреймах соблюдён \"змеиный\" стиль.\n",
    "- Датафреймы не имеют пропусков и типы данных соответствуют своим типам данных."
   ]
  },
  {
   "cell_type": "markdown",
   "id": "2e1b59b5",
   "metadata": {},
   "source": [
    "## Предобработка данных"
   ]
  },
  {
   "cell_type": "markdown",
   "id": "e07e8357",
   "metadata": {},
   "source": [
    "### Посмотрим на количество пропусков в таблицах"
   ]
  },
  {
   "cell_type": "code",
   "execution_count": 7,
   "id": "42e3963e",
   "metadata": {},
   "outputs": [
    {
     "data": {
      "text/plain": [
       "user_id              0\n",
       "name                 0\n",
       "age                  0\n",
       "city                 0\n",
       "subscription_type    0\n",
       "dtype: int64"
      ]
     },
     "execution_count": 7,
     "metadata": {},
     "output_type": "execute_result"
    }
   ],
   "source": [
    "# посмотрим на пропуски в таблице с пользователями\n",
    "users_go.isna().sum()"
   ]
  },
  {
   "cell_type": "code",
   "execution_count": 8,
   "id": "844e3fba",
   "metadata": {},
   "outputs": [
    {
     "data": {
      "text/plain": [
       "user_id     0\n",
       "distance    0\n",
       "duration    0\n",
       "date        0\n",
       "dtype: int64"
      ]
     },
     "execution_count": 8,
     "metadata": {},
     "output_type": "execute_result"
    }
   ],
   "source": [
    "# посмотрим на пропуски в таблице с поездками\n",
    "rides_go.isna().sum()"
   ]
  },
  {
   "cell_type": "code",
   "execution_count": 9,
   "id": "7bc1da33",
   "metadata": {},
   "outputs": [
    {
     "data": {
      "text/plain": [
       "subscription_type    0\n",
       "minute_price         0\n",
       "start_ride_price     0\n",
       "subscription_fee     0\n",
       "dtype: int64"
      ]
     },
     "execution_count": 9,
     "metadata": {},
     "output_type": "execute_result"
    }
   ],
   "source": [
    "# посмотрим на пропуски в таблице с подписками\n",
    "subs_go.isna().sum()"
   ]
  },
  {
   "cell_type": "markdown",
   "id": "f4a47c21",
   "metadata": {},
   "source": [
    "### Создадим новый столбец с номером месяца на основе столбца 'date'"
   ]
  },
  {
   "cell_type": "code",
   "execution_count": 10,
   "id": "2a50101b",
   "metadata": {},
   "outputs": [
    {
     "data": {
      "text/plain": [
       "array([2021])"
      ]
     },
     "execution_count": 10,
     "metadata": {},
     "output_type": "execute_result"
    }
   ],
   "source": [
    "# сначала проверим за какой год представлены данные\n",
    "rides_go['date'].dt.year.unique()"
   ]
  },
  {
   "cell_type": "code",
   "execution_count": 11,
   "id": "0b6971fd",
   "metadata": {},
   "outputs": [
    {
     "data": {
      "text/plain": [
       "0     1\n",
       "1     1\n",
       "2     4\n",
       "3     8\n",
       "4     8\n",
       "5    10\n",
       "6    10\n",
       "7    11\n",
       "8    11\n",
       "9    11\n",
       "Name: month, dtype: int64"
      ]
     },
     "execution_count": 11,
     "metadata": {},
     "output_type": "execute_result"
    }
   ],
   "source": [
    "# данные представлены только за один год, значит месяца не продублируются за разные года\n",
    "rides_go['month'] = rides_go['date'].dt.month\n",
    "# посмотрим первые 10 строк нового столбца\n",
    "rides_go['month'].head(10)"
   ]
  },
  {
   "cell_type": "markdown",
   "id": "b435666b",
   "metadata": {},
   "source": [
    "### Проверим на наличие дубликатов"
   ]
  },
  {
   "cell_type": "code",
   "execution_count": 12,
   "id": "34f8b7ed",
   "metadata": {},
   "outputs": [
    {
     "data": {
      "text/plain": [
       "31"
      ]
     },
     "execution_count": 12,
     "metadata": {},
     "output_type": "execute_result"
    }
   ],
   "source": [
    "# посмотрим на пропуски в таблице с пользователями\n",
    "users_go.duplicated().sum()"
   ]
  },
  {
   "cell_type": "code",
   "execution_count": 13,
   "id": "e3074e55",
   "metadata": {},
   "outputs": [],
   "source": [
    "# удаляем дубликаты\n",
    "users_go.drop_duplicates(inplace=True)"
   ]
  },
  {
   "cell_type": "code",
   "execution_count": 14,
   "id": "d38b5b49",
   "metadata": {},
   "outputs": [
    {
     "data": {
      "text/plain": [
       "0"
      ]
     },
     "execution_count": 14,
     "metadata": {},
     "output_type": "execute_result"
    }
   ],
   "source": [
    "# проверяем еще раз на наличие пропусков в таблице с пользователями\n",
    "users_go.duplicated().sum()"
   ]
  },
  {
   "cell_type": "code",
   "execution_count": 15,
   "id": "28fb868f",
   "metadata": {},
   "outputs": [
    {
     "data": {
      "text/plain": [
       "0"
      ]
     },
     "execution_count": 15,
     "metadata": {},
     "output_type": "execute_result"
    }
   ],
   "source": [
    "# посмотрим на пропуски в таблице с поездками\n",
    "rides_go.duplicated().sum()"
   ]
  },
  {
   "cell_type": "code",
   "execution_count": 16,
   "id": "30b86c66",
   "metadata": {},
   "outputs": [
    {
     "data": {
      "text/plain": [
       "0"
      ]
     },
     "execution_count": 16,
     "metadata": {},
     "output_type": "execute_result"
    }
   ],
   "source": [
    "# посмотрим на пропуски в таблице с подписками\n",
    "rides_go.duplicated().sum()"
   ]
  },
  {
   "cell_type": "markdown",
   "id": "38214778",
   "metadata": {},
   "source": [
    "Вывод:\n",
    "- Пропусков нет\n",
    "- Добавили новый столбец с номером месяца\n",
    "- Дубликаты были только в таблице 'user_go', их удалили. Теперь дубликатов нет"
   ]
  },
  {
   "cell_type": "markdown",
   "id": "d3946e85",
   "metadata": {},
   "source": [
    "## Исследовательский анализ данных"
   ]
  },
  {
   "cell_type": "markdown",
   "id": "1e56b745",
   "metadata": {},
   "source": [
    "### Посмотрим на частоту встречаемости городов"
   ]
  },
  {
   "cell_type": "code",
   "execution_count": 17,
   "id": "aafbe8c4",
   "metadata": {},
   "outputs": [
    {
     "data": {
      "text/plain": [
       "Пятигорск         219\n",
       "Екатеринбург      204\n",
       "Ростов-на-Дону    198\n",
       "Краснодар         193\n",
       "Сочи              189\n",
       "Омск              183\n",
       "Тюмень            180\n",
       "Москва            168\n",
       "Name: city, dtype: int64"
      ]
     },
     "execution_count": 17,
     "metadata": {},
     "output_type": "execute_result"
    }
   ],
   "source": [
    "# создадим переменную для подсчета количества пользователей из каждого города\n",
    "count_users = users_go['city'].value_counts()\n",
    "count_users"
   ]
  },
  {
   "cell_type": "code",
   "execution_count": 18,
   "id": "c84d98e1",
   "metadata": {},
   "outputs": [
    {
     "data": {
      "text/plain": [
       "Пятигорск         14.276402\n",
       "Екатеринбург      13.298566\n",
       "Ростов-на-Дону    12.907432\n",
       "Краснодар         12.581486\n",
       "Сочи              12.320730\n",
       "Омск              11.929596\n",
       "Тюмень            11.734029\n",
       "Москва            10.951760\n",
       "Name: city, dtype: float64"
      ]
     },
     "execution_count": 18,
     "metadata": {},
     "output_type": "execute_result"
    }
   ],
   "source": [
    "# создадим переменную для подсчёта доли каждого города от общего числа пользователей в %\n",
    "fraction = count_users / count_users.sum() * 100\n",
    "fraction"
   ]
  },
  {
   "cell_type": "code",
   "execution_count": 19,
   "id": "7f33ea49",
   "metadata": {},
   "outputs": [
    {
     "data": {
      "image/png": "[encoded data removed]",
      "text/plain": [
       "<Figure size 864x576 with 1 Axes>"
      ]
     },
     "metadata": {
      "needs_background": "light"
     },
     "output_type": "display_data"
    }
   ],
   "source": [
    "# построим график количества пользователей по городам\n",
    "count_users.sort_values().plot(y='city', kind='barh', figsize=(12, 8), grid=True);"
   ]
  },
  {
   "cell_type": "markdown",
   "id": "8f995836",
   "metadata": {},
   "source": [
    "### Изучим соотношение пользователей с подпиской и без подписки"
   ]
  },
  {
   "cell_type": "code",
   "execution_count": 20,
   "id": "417bd922",
   "metadata": {},
   "outputs": [
    {
     "data": {
      "text/plain": [
       "free     835\n",
       "ultra    699\n",
       "Name: subscription_type, dtype: int64"
      ]
     },
     "execution_count": 20,
     "metadata": {},
     "output_type": "execute_result"
    }
   ],
   "source": [
    "# создадим переменную для просмотра количества пользователей с подпиской и без\n",
    "count_subs = users_go['subscription_type'].value_counts()\n",
    "count_subs"
   ]
  },
  {
   "cell_type": "code",
   "execution_count": 21,
   "id": "3a367a1e",
   "metadata": {},
   "outputs": [
    {
     "data": {
      "image/png": "[encoded data removed]",
      "text/plain": [
       "<Figure size 576x576 with 1 Axes>"
      ]
     },
     "metadata": {},
     "output_type": "display_data"
    }
   ],
   "source": [
    "# посмотрим на процентное соотношение польвателей с подпиской и без\n",
    "users_go['subscription_type'].value_counts().plot(\n",
    "    kind = 'pie',\n",
    "    y = count_users,\n",
    "    autopct = '%1.2f%%',\n",
    "    figsize=(8,8), \n",
    "    title = 'Распределение пользователей по подпискам');"
   ]
  },
  {
   "cell_type": "markdown",
   "id": "6bc8db6a",
   "metadata": {},
   "source": [
    "### Изучим возраст пользователей"
   ]
  },
  {
   "cell_type": "code",
   "execution_count": 22,
   "id": "6445de00",
   "metadata": {},
   "outputs": [
    {
     "data": {
      "text/plain": [
       "count    1534.000000\n",
       "mean       24.903520\n",
       "std         4.572367\n",
       "min        12.000000\n",
       "25%        22.000000\n",
       "50%        25.000000\n",
       "75%        28.000000\n",
       "max        43.000000\n",
       "Name: age, dtype: float64"
      ]
     },
     "execution_count": 22,
     "metadata": {},
     "output_type": "execute_result"
    }
   ],
   "source": [
    "# посмотрим на числовое описание данных по возрасту пользователей\n",
    "users_go['age'].describe()"
   ]
  },
  {
   "cell_type": "code",
   "execution_count": 23,
   "id": "ab080a4b",
   "metadata": {},
   "outputs": [
    {
     "data": {
      "image/png": "[encoded data removed]",
      "text/plain": [
       "<Figure size 864x576 with 1 Axes>"
      ]
     },
     "metadata": {
      "needs_background": "light"
     },
     "output_type": "display_data"
    }
   ],
   "source": [
    "# построим гистограмму по столбцу 'age'\n",
    "users_go['age'].plot(y='age', kind='hist', bins=20, figsize=(12, 8), grid=True, legend=True)\n",
    "plt.title('Возраст пользователей')\n",
    "plt.xlabel('Возраст')\n",
    "plt.ylabel('Количество пользователей')\n",
    "plt.show()"
   ]
  },
  {
   "cell_type": "markdown",
   "id": "a79b8f59",
   "metadata": {},
   "source": [
    "### Посмотрим на расстояние, которое пользователь преодолел за одну поездку"
   ]
  },
  {
   "cell_type": "code",
   "execution_count": 24,
   "id": "c7b86cbb",
   "metadata": {},
   "outputs": [
    {
     "data": {
      "text/plain": [
       "count    18068.000000\n",
       "mean      3070.659976\n",
       "std       1116.831209\n",
       "min          0.855683\n",
       "25%       2543.226360\n",
       "50%       3133.609994\n",
       "75%       3776.222735\n",
       "max       7211.007745\n",
       "Name: distance, dtype: float64"
      ]
     },
     "execution_count": 24,
     "metadata": {},
     "output_type": "execute_result"
    }
   ],
   "source": [
    "# посмотрим на числовое описание данных по поездкам\n",
    "rides_go['distance'].describe()"
   ]
  },
  {
   "cell_type": "code",
   "execution_count": 25,
   "id": "f166253a",
   "metadata": {},
   "outputs": [
    {
     "data": {
      "image/png": "[encoded data removed]",
      "text/plain": [
       "<Figure size 864x576 with 1 Axes>"
      ]
     },
     "metadata": {
      "needs_background": "light"
     },
     "output_type": "display_data"
    }
   ],
   "source": [
    "# построим гистограмму по столбцу 'distance'\n",
    "rides_go['distance'].plot(y='distance', kind='hist', bins=20, figsize=(12, 8), grid=True, legend=True)\n",
    "plt.title('Расстояние преодолённое за одну поездку')\n",
    "plt.xlabel('Расстояние, м')\n",
    "plt.ylabel('Количество пользователей')\n",
    "plt.show()"
   ]
  },
  {
   "cell_type": "markdown",
   "id": "fe729f5f",
   "metadata": {},
   "source": [
    "Здесь мы видим небольшой пик на расстоянии до 1 км. Тут скорее всего пользователи просто добираются более быстрым способом допустим до места учёбы, работы или пересаживаются уже на общественный транспорт. В общем от дома до остановки, до метро или же наоборот. Такая короткая дистанция явна не прогулки на самокате, а экономия времени. Конечно тут уже очень скорее такие пользователи оформили подписку чтобы не платить каждый раз за старт, но всё бывает"
   ]
  },
  {
   "cell_type": "markdown",
   "id": "65512f8c",
   "metadata": {},
   "source": [
    "### Изучим продолжительность поездок"
   ]
  },
  {
   "cell_type": "code",
   "execution_count": 26,
   "id": "6bf9449f",
   "metadata": {},
   "outputs": [
    {
     "data": {
      "text/plain": [
       "count    18068.000000\n",
       "mean        17.805011\n",
       "std          6.091051\n",
       "min          0.500000\n",
       "25%         13.597563\n",
       "50%         17.678395\n",
       "75%         21.724800\n",
       "max         40.823963\n",
       "Name: duration, dtype: float64"
      ]
     },
     "execution_count": 26,
     "metadata": {},
     "output_type": "execute_result"
    }
   ],
   "source": [
    "# посмотрим на числовое описание данных по продолжительности поездки\n",
    "rides_go['duration'].describe()"
   ]
  },
  {
   "cell_type": "code",
   "execution_count": 27,
   "id": "de6aa7d6",
   "metadata": {},
   "outputs": [
    {
     "data": {
      "image/png": "[encoded data removed]",
      "text/plain": [
       "<Figure size 864x576 with 1 Axes>"
      ]
     },
     "metadata": {
      "needs_background": "light"
     },
     "output_type": "display_data"
    }
   ],
   "source": [
    "# построим гистограмму по столбцу 'duration'\n",
    "rides_go['duration'].plot(y='duration', kind='hist', bins=50, figsize=(12, 8), grid=True, legend=True)\n",
    "plt.title('Продолжительность одной поездки')\n",
    "plt.xlabel('Продолжительность одной поездки, мин')\n",
    "plt.ylabel('Количество пользователей')\n",
    "plt.show()"
   ]
  },
  {
   "cell_type": "markdown",
   "id": "364b8ad7",
   "metadata": {},
   "source": [
    "Пик возле 0 минут скорее всего связан со взятием самоката в аренду, а уже после прям обнаружение какой-либо неисправности в самокате. Естественно окончание аренды и отсюда 0 минут."
   ]
  },
  {
   "cell_type": "markdown",
   "id": "354dee43",
   "metadata": {},
   "source": [
    "### Вывод по исследовательскому анализу\n",
    "\n",
    "- Частота встречаемости городов\n",
    "\n",
    "Пользователи распределены почти равномерно. Больше всего в Пятигорске - 219 пользователей (14,27%), а меньше всего в Москве - 168 (10,95%)\n",
    "  \n",
    "- Соотношение пользователей с подпиской и без подписки\n",
    "\n",
    "Пользователей без подписки немного больше - 835 (54,43%), а с подпиской - 699 (45,57%)\n",
    "\n",
    "- Возраст пользователей\n",
    "\n",
    "Основной возраст пользователей которые пользуются приложением от 20 до 29 лет.\n",
    "Самый младший возраст - 12 лет, а самый старший - 43 года.\n",
    "\n",
    "- Расстояние которое пользователь преодолел за одну поездку\n",
    "\n",
    "В среднем пользователи проезжают от 2100 до 4300 метров.\n",
    "Самая короткая поездка была меньше 1 метра - 0,85 метра, что очень странно. Скорее всего неисправность самоката.\n",
    "Самая длинная поездка больше 7 км - 7211 метров.\n",
    "\n",
    "- Продолжительность поездок\n",
    "\n",
    "В среднем у пользователей продолжительность поездки составляет от 10 до 24 минут.\n",
    "Самая короткая поездка по времени была полминуты, что очень странно. Скорее всего также из-за неисправности самоката.\n",
    "Самая продолжительная поездка был почти 41 минуту - 40,82 минуты (если перевести правильно в минуты и секунды, то выйдет 40 минут и 49 секунд)."
   ]
  },
  {
   "cell_type": "markdown",
   "id": "19fab547",
   "metadata": {},
   "source": [
    "## Объединение данных"
   ]
  },
  {
   "cell_type": "markdown",
   "id": "19a4b8c0",
   "metadata": {},
   "source": [
    "### Объединим данные о пользователях, поездках и подписках в один датафрейм"
   ]
  },
  {
   "cell_type": "code",
   "execution_count": 28,
   "id": "9ca74138",
   "metadata": {},
   "outputs": [],
   "source": [
    "# для начала объединим данные о пользователях и поездках\n",
    "df = users_go.merge(rides_go, how='inner')"
   ]
  },
  {
   "cell_type": "code",
   "execution_count": 29,
   "id": "feeb4f87",
   "metadata": {},
   "outputs": [],
   "source": [
    "# теперь объединим новый датафрейм с данными о подписках\n",
    "df = df.merge(subs_go, how='inner')"
   ]
  },
  {
   "cell_type": "code",
   "execution_count": 30,
   "id": "59e05792",
   "metadata": {},
   "outputs": [
    {
     "data": {
      "text/html": [
       "<div>\n",
       "<style scoped>\n",
       "    .dataframe tbody tr th:only-of-type {\n",
       "        vertical-align: middle;\n",
       "    }\n",
       "\n",
       "    .dataframe tbody tr th {\n",
       "        vertical-align: top;\n",
       "    }\n",
       "\n",
       "    .dataframe thead th {\n",
       "        text-align: right;\n",
       "    }\n",
       "</style>\n",
       "<table border=\"1\" class=\"dataframe\">\n",
       "  <thead>\n",
       "    <tr style=\"text-align: right;\">\n",
       "      <th></th>\n",
       "      <th>user_id</th>\n",
       "      <th>name</th>\n",
       "      <th>age</th>\n",
       "      <th>city</th>\n",
       "      <th>subscription_type</th>\n",
       "      <th>distance</th>\n",
       "      <th>duration</th>\n",
       "      <th>date</th>\n",
       "      <th>month</th>\n",
       "      <th>minute_price</th>\n",
       "      <th>start_ride_price</th>\n",
       "      <th>subscription_fee</th>\n",
       "    </tr>\n",
       "  </thead>\n",
       "  <tbody>\n",
       "    <tr>\n",
       "      <th>0</th>\n",
       "      <td>1</td>\n",
       "      <td>Кира</td>\n",
       "      <td>22</td>\n",
       "      <td>Тюмень</td>\n",
       "      <td>ultra</td>\n",
       "      <td>4409.919140</td>\n",
       "      <td>25.599769</td>\n",
       "      <td>2021-01-01</td>\n",
       "      <td>1</td>\n",
       "      <td>6</td>\n",
       "      <td>0</td>\n",
       "      <td>199</td>\n",
       "    </tr>\n",
       "    <tr>\n",
       "      <th>1</th>\n",
       "      <td>1</td>\n",
       "      <td>Кира</td>\n",
       "      <td>22</td>\n",
       "      <td>Тюмень</td>\n",
       "      <td>ultra</td>\n",
       "      <td>2617.592153</td>\n",
       "      <td>15.816871</td>\n",
       "      <td>2021-01-18</td>\n",
       "      <td>1</td>\n",
       "      <td>6</td>\n",
       "      <td>0</td>\n",
       "      <td>199</td>\n",
       "    </tr>\n",
       "    <tr>\n",
       "      <th>2</th>\n",
       "      <td>1</td>\n",
       "      <td>Кира</td>\n",
       "      <td>22</td>\n",
       "      <td>Тюмень</td>\n",
       "      <td>ultra</td>\n",
       "      <td>754.159807</td>\n",
       "      <td>6.232113</td>\n",
       "      <td>2021-04-20</td>\n",
       "      <td>4</td>\n",
       "      <td>6</td>\n",
       "      <td>0</td>\n",
       "      <td>199</td>\n",
       "    </tr>\n",
       "    <tr>\n",
       "      <th>3</th>\n",
       "      <td>1</td>\n",
       "      <td>Кира</td>\n",
       "      <td>22</td>\n",
       "      <td>Тюмень</td>\n",
       "      <td>ultra</td>\n",
       "      <td>2694.783254</td>\n",
       "      <td>18.511000</td>\n",
       "      <td>2021-08-11</td>\n",
       "      <td>8</td>\n",
       "      <td>6</td>\n",
       "      <td>0</td>\n",
       "      <td>199</td>\n",
       "    </tr>\n",
       "    <tr>\n",
       "      <th>4</th>\n",
       "      <td>1</td>\n",
       "      <td>Кира</td>\n",
       "      <td>22</td>\n",
       "      <td>Тюмень</td>\n",
       "      <td>ultra</td>\n",
       "      <td>4028.687306</td>\n",
       "      <td>26.265803</td>\n",
       "      <td>2021-08-28</td>\n",
       "      <td>8</td>\n",
       "      <td>6</td>\n",
       "      <td>0</td>\n",
       "      <td>199</td>\n",
       "    </tr>\n",
       "  </tbody>\n",
       "</table>\n",
       "</div>"
      ],
      "text/plain": [
       "   user_id  name  age    city subscription_type     distance   duration  \\\n",
       "0        1  Кира   22  Тюмень             ultra  4409.919140  25.599769   \n",
       "1        1  Кира   22  Тюмень             ultra  2617.592153  15.816871   \n",
       "2        1  Кира   22  Тюмень             ultra   754.159807   6.232113   \n",
       "3        1  Кира   22  Тюмень             ultra  2694.783254  18.511000   \n",
       "4        1  Кира   22  Тюмень             ultra  4028.687306  26.265803   \n",
       "\n",
       "        date  month  minute_price  start_ride_price  subscription_fee  \n",
       "0 2021-01-01      1             6                 0               199  \n",
       "1 2021-01-18      1             6                 0               199  \n",
       "2 2021-04-20      4             6                 0               199  \n",
       "3 2021-08-11      8             6                 0               199  \n",
       "4 2021-08-28      8             6                 0               199  "
      ]
     },
     "execution_count": 30,
     "metadata": {},
     "output_type": "execute_result"
    }
   ],
   "source": [
    "# посмотрим на новый датафрейм\n",
    "df.head()"
   ]
  },
  {
   "cell_type": "code",
   "execution_count": 31,
   "id": "d352da22",
   "metadata": {},
   "outputs": [
    {
     "data": {
      "text/plain": [
       "18068"
      ]
     },
     "metadata": {},
     "output_type": "display_data"
    },
    {
     "data": {
      "text/plain": [
       "18068"
      ]
     },
     "metadata": {},
     "output_type": "display_data"
    }
   ],
   "source": [
    "# проверим количество строк датафрейма о поездках и сравним с количеством строк нового объединённого датафрейма\n",
    "display(len(rides_go))\n",
    "display(len(df))"
   ]
  },
  {
   "cell_type": "code",
   "execution_count": 32,
   "id": "7cdb4663",
   "metadata": {},
   "outputs": [],
   "source": [
    "# округлим значения столбца 'duration' c помощью метода \"потолок\"\n",
    "df['duration'] = np.ceil(df['duration'])"
   ]
  },
  {
   "cell_type": "markdown",
   "id": "d6a3c590",
   "metadata": {},
   "source": [
    "### Создадим новый датафрейм о пользователях без подписки"
   ]
  },
  {
   "cell_type": "code",
   "execution_count": 33,
   "id": "da003341",
   "metadata": {},
   "outputs": [
    {
     "data": {
      "text/html": [
       "<div>\n",
       "<style scoped>\n",
       "    .dataframe tbody tr th:only-of-type {\n",
       "        vertical-align: middle;\n",
       "    }\n",
       "\n",
       "    .dataframe tbody tr th {\n",
       "        vertical-align: top;\n",
       "    }\n",
       "\n",
       "    .dataframe thead th {\n",
       "        text-align: right;\n",
       "    }\n",
       "</style>\n",
       "<table border=\"1\" class=\"dataframe\">\n",
       "  <thead>\n",
       "    <tr style=\"text-align: right;\">\n",
       "      <th></th>\n",
       "      <th>user_id</th>\n",
       "      <th>name</th>\n",
       "      <th>age</th>\n",
       "      <th>city</th>\n",
       "      <th>subscription_type</th>\n",
       "      <th>distance</th>\n",
       "      <th>duration</th>\n",
       "      <th>date</th>\n",
       "      <th>month</th>\n",
       "      <th>minute_price</th>\n",
       "      <th>start_ride_price</th>\n",
       "      <th>subscription_fee</th>\n",
       "    </tr>\n",
       "  </thead>\n",
       "  <tbody>\n",
       "    <tr>\n",
       "      <th>6500</th>\n",
       "      <td>700</td>\n",
       "      <td>Айдар</td>\n",
       "      <td>22</td>\n",
       "      <td>Омск</td>\n",
       "      <td>free</td>\n",
       "      <td>2515.690719</td>\n",
       "      <td>15.0</td>\n",
       "      <td>2021-01-02</td>\n",
       "      <td>1</td>\n",
       "      <td>8</td>\n",
       "      <td>50</td>\n",
       "      <td>0</td>\n",
       "    </tr>\n",
       "    <tr>\n",
       "      <th>6501</th>\n",
       "      <td>700</td>\n",
       "      <td>Айдар</td>\n",
       "      <td>22</td>\n",
       "      <td>Омск</td>\n",
       "      <td>free</td>\n",
       "      <td>846.932642</td>\n",
       "      <td>17.0</td>\n",
       "      <td>2021-02-01</td>\n",
       "      <td>2</td>\n",
       "      <td>8</td>\n",
       "      <td>50</td>\n",
       "      <td>0</td>\n",
       "    </tr>\n",
       "    <tr>\n",
       "      <th>6502</th>\n",
       "      <td>700</td>\n",
       "      <td>Айдар</td>\n",
       "      <td>22</td>\n",
       "      <td>Омск</td>\n",
       "      <td>free</td>\n",
       "      <td>4004.434142</td>\n",
       "      <td>21.0</td>\n",
       "      <td>2021-02-04</td>\n",
       "      <td>2</td>\n",
       "      <td>8</td>\n",
       "      <td>50</td>\n",
       "      <td>0</td>\n",
       "    </tr>\n",
       "    <tr>\n",
       "      <th>6503</th>\n",
       "      <td>700</td>\n",
       "      <td>Айдар</td>\n",
       "      <td>22</td>\n",
       "      <td>Омск</td>\n",
       "      <td>free</td>\n",
       "      <td>1205.911290</td>\n",
       "      <td>10.0</td>\n",
       "      <td>2021-02-10</td>\n",
       "      <td>2</td>\n",
       "      <td>8</td>\n",
       "      <td>50</td>\n",
       "      <td>0</td>\n",
       "    </tr>\n",
       "    <tr>\n",
       "      <th>6504</th>\n",
       "      <td>700</td>\n",
       "      <td>Айдар</td>\n",
       "      <td>22</td>\n",
       "      <td>Омск</td>\n",
       "      <td>free</td>\n",
       "      <td>3047.379435</td>\n",
       "      <td>18.0</td>\n",
       "      <td>2021-02-14</td>\n",
       "      <td>2</td>\n",
       "      <td>8</td>\n",
       "      <td>50</td>\n",
       "      <td>0</td>\n",
       "    </tr>\n",
       "    <tr>\n",
       "      <th>...</th>\n",
       "      <td>...</td>\n",
       "      <td>...</td>\n",
       "      <td>...</td>\n",
       "      <td>...</td>\n",
       "      <td>...</td>\n",
       "      <td>...</td>\n",
       "      <td>...</td>\n",
       "      <td>...</td>\n",
       "      <td>...</td>\n",
       "      <td>...</td>\n",
       "      <td>...</td>\n",
       "      <td>...</td>\n",
       "    </tr>\n",
       "    <tr>\n",
       "      <th>18063</th>\n",
       "      <td>1534</td>\n",
       "      <td>Альберт</td>\n",
       "      <td>25</td>\n",
       "      <td>Краснодар</td>\n",
       "      <td>free</td>\n",
       "      <td>3781.098080</td>\n",
       "      <td>20.0</td>\n",
       "      <td>2021-11-04</td>\n",
       "      <td>11</td>\n",
       "      <td>8</td>\n",
       "      <td>50</td>\n",
       "      <td>0</td>\n",
       "    </tr>\n",
       "    <tr>\n",
       "      <th>18064</th>\n",
       "      <td>1534</td>\n",
       "      <td>Альберт</td>\n",
       "      <td>25</td>\n",
       "      <td>Краснодар</td>\n",
       "      <td>free</td>\n",
       "      <td>2840.423057</td>\n",
       "      <td>22.0</td>\n",
       "      <td>2021-11-16</td>\n",
       "      <td>11</td>\n",
       "      <td>8</td>\n",
       "      <td>50</td>\n",
       "      <td>0</td>\n",
       "    </tr>\n",
       "    <tr>\n",
       "      <th>18065</th>\n",
       "      <td>1534</td>\n",
       "      <td>Альберт</td>\n",
       "      <td>25</td>\n",
       "      <td>Краснодар</td>\n",
       "      <td>free</td>\n",
       "      <td>3826.185507</td>\n",
       "      <td>19.0</td>\n",
       "      <td>2021-11-18</td>\n",
       "      <td>11</td>\n",
       "      <td>8</td>\n",
       "      <td>50</td>\n",
       "      <td>0</td>\n",
       "    </tr>\n",
       "    <tr>\n",
       "      <th>18066</th>\n",
       "      <td>1534</td>\n",
       "      <td>Альберт</td>\n",
       "      <td>25</td>\n",
       "      <td>Краснодар</td>\n",
       "      <td>free</td>\n",
       "      <td>2902.308661</td>\n",
       "      <td>17.0</td>\n",
       "      <td>2021-11-27</td>\n",
       "      <td>11</td>\n",
       "      <td>8</td>\n",
       "      <td>50</td>\n",
       "      <td>0</td>\n",
       "    </tr>\n",
       "    <tr>\n",
       "      <th>18067</th>\n",
       "      <td>1534</td>\n",
       "      <td>Альберт</td>\n",
       "      <td>25</td>\n",
       "      <td>Краснодар</td>\n",
       "      <td>free</td>\n",
       "      <td>2371.711192</td>\n",
       "      <td>16.0</td>\n",
       "      <td>2021-12-29</td>\n",
       "      <td>12</td>\n",
       "      <td>8</td>\n",
       "      <td>50</td>\n",
       "      <td>0</td>\n",
       "    </tr>\n",
       "  </tbody>\n",
       "</table>\n",
       "<p>11568 rows × 12 columns</p>\n",
       "</div>"
      ],
      "text/plain": [
       "       user_id     name  age       city subscription_type     distance  \\\n",
       "6500       700    Айдар   22       Омск              free  2515.690719   \n",
       "6501       700    Айдар   22       Омск              free   846.932642   \n",
       "6502       700    Айдар   22       Омск              free  4004.434142   \n",
       "6503       700    Айдар   22       Омск              free  1205.911290   \n",
       "6504       700    Айдар   22       Омск              free  3047.379435   \n",
       "...        ...      ...  ...        ...               ...          ...   \n",
       "18063     1534  Альберт   25  Краснодар              free  3781.098080   \n",
       "18064     1534  Альберт   25  Краснодар              free  2840.423057   \n",
       "18065     1534  Альберт   25  Краснодар              free  3826.185507   \n",
       "18066     1534  Альберт   25  Краснодар              free  2902.308661   \n",
       "18067     1534  Альберт   25  Краснодар              free  2371.711192   \n",
       "\n",
       "       duration       date  month  minute_price  start_ride_price  \\\n",
       "6500       15.0 2021-01-02      1             8                50   \n",
       "6501       17.0 2021-02-01      2             8                50   \n",
       "6502       21.0 2021-02-04      2             8                50   \n",
       "6503       10.0 2021-02-10      2             8                50   \n",
       "6504       18.0 2021-02-14      2             8                50   \n",
       "...         ...        ...    ...           ...               ...   \n",
       "18063      20.0 2021-11-04     11             8                50   \n",
       "18064      22.0 2021-11-16     11             8                50   \n",
       "18065      19.0 2021-11-18     11             8                50   \n",
       "18066      17.0 2021-11-27     11             8                50   \n",
       "18067      16.0 2021-12-29     12             8                50   \n",
       "\n",
       "       subscription_fee  \n",
       "6500                  0  \n",
       "6501                  0  \n",
       "6502                  0  \n",
       "6503                  0  \n",
       "6504                  0  \n",
       "...                 ...  \n",
       "18063                 0  \n",
       "18064                 0  \n",
       "18065                 0  \n",
       "18066                 0  \n",
       "18067                 0  \n",
       "\n",
       "[11568 rows x 12 columns]"
      ]
     },
     "execution_count": 33,
     "metadata": {},
     "output_type": "execute_result"
    }
   ],
   "source": [
    "# создадим новую переменную куда войдут данные только пользователей без подписки из нового датафрейма\n",
    "df_subs_free = df.query(\"subscription_type == 'free'\")\n",
    "df_subs_free"
   ]
  },
  {
   "cell_type": "code",
   "execution_count": 34,
   "id": "7b2b7438",
   "metadata": {},
   "outputs": [
    {
     "data": {
      "text/html": [
       "<div>\n",
       "<style scoped>\n",
       "    .dataframe tbody tr th:only-of-type {\n",
       "        vertical-align: middle;\n",
       "    }\n",
       "\n",
       "    .dataframe tbody tr th {\n",
       "        vertical-align: top;\n",
       "    }\n",
       "\n",
       "    .dataframe thead th {\n",
       "        text-align: right;\n",
       "    }\n",
       "</style>\n",
       "<table border=\"1\" class=\"dataframe\">\n",
       "  <thead>\n",
       "    <tr style=\"text-align: right;\">\n",
       "      <th></th>\n",
       "      <th>user_id</th>\n",
       "      <th>age</th>\n",
       "      <th>distance</th>\n",
       "      <th>duration</th>\n",
       "      <th>month</th>\n",
       "      <th>minute_price</th>\n",
       "      <th>start_ride_price</th>\n",
       "      <th>subscription_fee</th>\n",
       "    </tr>\n",
       "  </thead>\n",
       "  <tbody>\n",
       "    <tr>\n",
       "      <th>count</th>\n",
       "      <td>11568.000000</td>\n",
       "      <td>11568.000000</td>\n",
       "      <td>11568.000000</td>\n",
       "      <td>11568.000000</td>\n",
       "      <td>11568.000000</td>\n",
       "      <td>11568.0</td>\n",
       "      <td>11568.0</td>\n",
       "      <td>11568.0</td>\n",
       "    </tr>\n",
       "    <tr>\n",
       "      <th>mean</th>\n",
       "      <td>1120.527230</td>\n",
       "      <td>24.893326</td>\n",
       "      <td>3045.495282</td>\n",
       "      <td>17.890992</td>\n",
       "      <td>6.522994</td>\n",
       "      <td>8.0</td>\n",
       "      <td>50.0</td>\n",
       "      <td>0.0</td>\n",
       "    </tr>\n",
       "    <tr>\n",
       "      <th>std</th>\n",
       "      <td>241.165628</td>\n",
       "      <td>4.481100</td>\n",
       "      <td>1246.173806</td>\n",
       "      <td>6.330250</td>\n",
       "      <td>3.449770</td>\n",
       "      <td>0.0</td>\n",
       "      <td>0.0</td>\n",
       "      <td>0.0</td>\n",
       "    </tr>\n",
       "    <tr>\n",
       "      <th>min</th>\n",
       "      <td>700.000000</td>\n",
       "      <td>12.000000</td>\n",
       "      <td>0.855683</td>\n",
       "      <td>1.000000</td>\n",
       "      <td>1.000000</td>\n",
       "      <td>8.0</td>\n",
       "      <td>50.0</td>\n",
       "      <td>0.0</td>\n",
       "    </tr>\n",
       "    <tr>\n",
       "      <th>25%</th>\n",
       "      <td>915.000000</td>\n",
       "      <td>22.000000</td>\n",
       "      <td>2366.562689</td>\n",
       "      <td>13.000000</td>\n",
       "      <td>4.000000</td>\n",
       "      <td>8.0</td>\n",
       "      <td>50.0</td>\n",
       "      <td>0.0</td>\n",
       "    </tr>\n",
       "    <tr>\n",
       "      <th>50%</th>\n",
       "      <td>1123.000000</td>\n",
       "      <td>25.000000</td>\n",
       "      <td>3114.648465</td>\n",
       "      <td>18.000000</td>\n",
       "      <td>7.000000</td>\n",
       "      <td>8.0</td>\n",
       "      <td>50.0</td>\n",
       "      <td>0.0</td>\n",
       "    </tr>\n",
       "    <tr>\n",
       "      <th>75%</th>\n",
       "      <td>1328.000000</td>\n",
       "      <td>28.000000</td>\n",
       "      <td>3905.697894</td>\n",
       "      <td>22.000000</td>\n",
       "      <td>9.000000</td>\n",
       "      <td>8.0</td>\n",
       "      <td>50.0</td>\n",
       "      <td>0.0</td>\n",
       "    </tr>\n",
       "    <tr>\n",
       "      <th>max</th>\n",
       "      <td>1534.000000</td>\n",
       "      <td>43.000000</td>\n",
       "      <td>7211.007745</td>\n",
       "      <td>35.000000</td>\n",
       "      <td>12.000000</td>\n",
       "      <td>8.0</td>\n",
       "      <td>50.0</td>\n",
       "      <td>0.0</td>\n",
       "    </tr>\n",
       "  </tbody>\n",
       "</table>\n",
       "</div>"
      ],
      "text/plain": [
       "            user_id           age      distance      duration         month  \\\n",
       "count  11568.000000  11568.000000  11568.000000  11568.000000  11568.000000   \n",
       "mean    1120.527230     24.893326   3045.495282     17.890992      6.522994   \n",
       "std      241.165628      4.481100   1246.173806      6.330250      3.449770   \n",
       "min      700.000000     12.000000      0.855683      1.000000      1.000000   \n",
       "25%      915.000000     22.000000   2366.562689     13.000000      4.000000   \n",
       "50%     1123.000000     25.000000   3114.648465     18.000000      7.000000   \n",
       "75%     1328.000000     28.000000   3905.697894     22.000000      9.000000   \n",
       "max     1534.000000     43.000000   7211.007745     35.000000     12.000000   \n",
       "\n",
       "       minute_price  start_ride_price  subscription_fee  \n",
       "count       11568.0           11568.0           11568.0  \n",
       "mean            8.0              50.0               0.0  \n",
       "std             0.0               0.0               0.0  \n",
       "min             8.0              50.0               0.0  \n",
       "25%             8.0              50.0               0.0  \n",
       "50%             8.0              50.0               0.0  \n",
       "75%             8.0              50.0               0.0  \n",
       "max             8.0              50.0               0.0  "
      ]
     },
     "execution_count": 34,
     "metadata": {},
     "output_type": "execute_result"
    }
   ],
   "source": [
    "# посмотрим на числовое описание данных датафрейма пользователей без подписки\n",
    "df_subs_free.describe()"
   ]
  },
  {
   "cell_type": "markdown",
   "id": "986d3a9e",
   "metadata": {},
   "source": [
    "Визуализируем информацию о расстоянии и времени поездок для пользователей без подписки"
   ]
  },
  {
   "cell_type": "code",
   "execution_count": 35,
   "id": "52059370",
   "metadata": {},
   "outputs": [
    {
     "data": {
      "image/png": "[encoded data removed]",
      "text/plain": [
       "<Figure size 864x576 with 1 Axes>"
      ]
     },
     "metadata": {
      "needs_background": "light"
     },
     "output_type": "display_data"
    }
   ],
   "source": [
    "# построим гистограмму о преодолённом расстоянии для пользователей без подписки\n",
    "df_subs_free['distance'].plot(y='distance', kind='hist', bins=20, figsize=(12, 8), grid=True, legend=True)\n",
    "plt.title('Расстояние преодолённое пользователями без подписки за одну поездку')\n",
    "plt.xlabel('Расстояние, м')\n",
    "plt.ylabel('Количество пользователей')\n",
    "plt.show()"
   ]
  },
  {
   "cell_type": "code",
   "execution_count": 36,
   "id": "03a8f9ff",
   "metadata": {},
   "outputs": [
    {
     "data": {
      "image/png": "[encoded data removed]",
      "text/plain": [
       "<Figure size 864x576 with 1 Axes>"
      ]
     },
     "metadata": {
      "needs_background": "light"
     },
     "output_type": "display_data"
    }
   ],
   "source": [
    "# построим гистограмму о продолжительности поездки для пользователей без подписки\n",
    "df_subs_free['duration'].plot(y='duration', kind='hist', bins=20, figsize=(12, 8), grid=True, legend=True)\n",
    "plt.title('Продолжительность одной поездки пользователей без подписки')\n",
    "plt.xlabel('Продолжительность одной поездки, мин')\n",
    "plt.ylabel('Количество пользователей')\n",
    "plt.show()"
   ]
  },
  {
   "cell_type": "markdown",
   "id": "30332f32",
   "metadata": {},
   "source": [
    "### Создадим новый датафрейм о пользователях с подпиской"
   ]
  },
  {
   "cell_type": "code",
   "execution_count": 37,
   "id": "2bec508d",
   "metadata": {},
   "outputs": [
    {
     "data": {
      "text/html": [
       "<div>\n",
       "<style scoped>\n",
       "    .dataframe tbody tr th:only-of-type {\n",
       "        vertical-align: middle;\n",
       "    }\n",
       "\n",
       "    .dataframe tbody tr th {\n",
       "        vertical-align: top;\n",
       "    }\n",
       "\n",
       "    .dataframe thead th {\n",
       "        text-align: right;\n",
       "    }\n",
       "</style>\n",
       "<table border=\"1\" class=\"dataframe\">\n",
       "  <thead>\n",
       "    <tr style=\"text-align: right;\">\n",
       "      <th></th>\n",
       "      <th>user_id</th>\n",
       "      <th>name</th>\n",
       "      <th>age</th>\n",
       "      <th>city</th>\n",
       "      <th>subscription_type</th>\n",
       "      <th>distance</th>\n",
       "      <th>duration</th>\n",
       "      <th>date</th>\n",
       "      <th>month</th>\n",
       "      <th>minute_price</th>\n",
       "      <th>start_ride_price</th>\n",
       "      <th>subscription_fee</th>\n",
       "    </tr>\n",
       "  </thead>\n",
       "  <tbody>\n",
       "    <tr>\n",
       "      <th>0</th>\n",
       "      <td>1</td>\n",
       "      <td>Кира</td>\n",
       "      <td>22</td>\n",
       "      <td>Тюмень</td>\n",
       "      <td>ultra</td>\n",
       "      <td>4409.919140</td>\n",
       "      <td>26.0</td>\n",
       "      <td>2021-01-01</td>\n",
       "      <td>1</td>\n",
       "      <td>6</td>\n",
       "      <td>0</td>\n",
       "      <td>199</td>\n",
       "    </tr>\n",
       "    <tr>\n",
       "      <th>1</th>\n",
       "      <td>1</td>\n",
       "      <td>Кира</td>\n",
       "      <td>22</td>\n",
       "      <td>Тюмень</td>\n",
       "      <td>ultra</td>\n",
       "      <td>2617.592153</td>\n",
       "      <td>16.0</td>\n",
       "      <td>2021-01-18</td>\n",
       "      <td>1</td>\n",
       "      <td>6</td>\n",
       "      <td>0</td>\n",
       "      <td>199</td>\n",
       "    </tr>\n",
       "    <tr>\n",
       "      <th>2</th>\n",
       "      <td>1</td>\n",
       "      <td>Кира</td>\n",
       "      <td>22</td>\n",
       "      <td>Тюмень</td>\n",
       "      <td>ultra</td>\n",
       "      <td>754.159807</td>\n",
       "      <td>7.0</td>\n",
       "      <td>2021-04-20</td>\n",
       "      <td>4</td>\n",
       "      <td>6</td>\n",
       "      <td>0</td>\n",
       "      <td>199</td>\n",
       "    </tr>\n",
       "    <tr>\n",
       "      <th>3</th>\n",
       "      <td>1</td>\n",
       "      <td>Кира</td>\n",
       "      <td>22</td>\n",
       "      <td>Тюмень</td>\n",
       "      <td>ultra</td>\n",
       "      <td>2694.783254</td>\n",
       "      <td>19.0</td>\n",
       "      <td>2021-08-11</td>\n",
       "      <td>8</td>\n",
       "      <td>6</td>\n",
       "      <td>0</td>\n",
       "      <td>199</td>\n",
       "    </tr>\n",
       "    <tr>\n",
       "      <th>4</th>\n",
       "      <td>1</td>\n",
       "      <td>Кира</td>\n",
       "      <td>22</td>\n",
       "      <td>Тюмень</td>\n",
       "      <td>ultra</td>\n",
       "      <td>4028.687306</td>\n",
       "      <td>27.0</td>\n",
       "      <td>2021-08-28</td>\n",
       "      <td>8</td>\n",
       "      <td>6</td>\n",
       "      <td>0</td>\n",
       "      <td>199</td>\n",
       "    </tr>\n",
       "    <tr>\n",
       "      <th>...</th>\n",
       "      <td>...</td>\n",
       "      <td>...</td>\n",
       "      <td>...</td>\n",
       "      <td>...</td>\n",
       "      <td>...</td>\n",
       "      <td>...</td>\n",
       "      <td>...</td>\n",
       "      <td>...</td>\n",
       "      <td>...</td>\n",
       "      <td>...</td>\n",
       "      <td>...</td>\n",
       "      <td>...</td>\n",
       "    </tr>\n",
       "    <tr>\n",
       "      <th>6495</th>\n",
       "      <td>699</td>\n",
       "      <td>Оксана</td>\n",
       "      <td>22</td>\n",
       "      <td>Москва</td>\n",
       "      <td>ultra</td>\n",
       "      <td>3973.046497</td>\n",
       "      <td>25.0</td>\n",
       "      <td>2021-08-29</td>\n",
       "      <td>8</td>\n",
       "      <td>6</td>\n",
       "      <td>0</td>\n",
       "      <td>199</td>\n",
       "    </tr>\n",
       "    <tr>\n",
       "      <th>6496</th>\n",
       "      <td>699</td>\n",
       "      <td>Оксана</td>\n",
       "      <td>22</td>\n",
       "      <td>Москва</td>\n",
       "      <td>ultra</td>\n",
       "      <td>3288.702563</td>\n",
       "      <td>16.0</td>\n",
       "      <td>2021-09-12</td>\n",
       "      <td>9</td>\n",
       "      <td>6</td>\n",
       "      <td>0</td>\n",
       "      <td>199</td>\n",
       "    </tr>\n",
       "    <tr>\n",
       "      <th>6497</th>\n",
       "      <td>699</td>\n",
       "      <td>Оксана</td>\n",
       "      <td>22</td>\n",
       "      <td>Москва</td>\n",
       "      <td>ultra</td>\n",
       "      <td>3076.159348</td>\n",
       "      <td>15.0</td>\n",
       "      <td>2021-09-26</td>\n",
       "      <td>9</td>\n",
       "      <td>6</td>\n",
       "      <td>0</td>\n",
       "      <td>199</td>\n",
       "    </tr>\n",
       "    <tr>\n",
       "      <th>6498</th>\n",
       "      <td>699</td>\n",
       "      <td>Оксана</td>\n",
       "      <td>22</td>\n",
       "      <td>Москва</td>\n",
       "      <td>ultra</td>\n",
       "      <td>4707.845501</td>\n",
       "      <td>16.0</td>\n",
       "      <td>2021-10-17</td>\n",
       "      <td>10</td>\n",
       "      <td>6</td>\n",
       "      <td>0</td>\n",
       "      <td>199</td>\n",
       "    </tr>\n",
       "    <tr>\n",
       "      <th>6499</th>\n",
       "      <td>699</td>\n",
       "      <td>Оксана</td>\n",
       "      <td>22</td>\n",
       "      <td>Москва</td>\n",
       "      <td>ultra</td>\n",
       "      <td>3202.890770</td>\n",
       "      <td>26.0</td>\n",
       "      <td>2021-12-03</td>\n",
       "      <td>12</td>\n",
       "      <td>6</td>\n",
       "      <td>0</td>\n",
       "      <td>199</td>\n",
       "    </tr>\n",
       "  </tbody>\n",
       "</table>\n",
       "<p>6500 rows × 12 columns</p>\n",
       "</div>"
      ],
      "text/plain": [
       "      user_id    name  age    city subscription_type     distance  duration  \\\n",
       "0           1    Кира   22  Тюмень             ultra  4409.919140      26.0   \n",
       "1           1    Кира   22  Тюмень             ultra  2617.592153      16.0   \n",
       "2           1    Кира   22  Тюмень             ultra   754.159807       7.0   \n",
       "3           1    Кира   22  Тюмень             ultra  2694.783254      19.0   \n",
       "4           1    Кира   22  Тюмень             ultra  4028.687306      27.0   \n",
       "...       ...     ...  ...     ...               ...          ...       ...   \n",
       "6495      699  Оксана   22  Москва             ultra  3973.046497      25.0   \n",
       "6496      699  Оксана   22  Москва             ultra  3288.702563      16.0   \n",
       "6497      699  Оксана   22  Москва             ultra  3076.159348      15.0   \n",
       "6498      699  Оксана   22  Москва             ultra  4707.845501      16.0   \n",
       "6499      699  Оксана   22  Москва             ultra  3202.890770      26.0   \n",
       "\n",
       "           date  month  minute_price  start_ride_price  subscription_fee  \n",
       "0    2021-01-01      1             6                 0               199  \n",
       "1    2021-01-18      1             6                 0               199  \n",
       "2    2021-04-20      4             6                 0               199  \n",
       "3    2021-08-11      8             6                 0               199  \n",
       "4    2021-08-28      8             6                 0               199  \n",
       "...         ...    ...           ...               ...               ...  \n",
       "6495 2021-08-29      8             6                 0               199  \n",
       "6496 2021-09-12      9             6                 0               199  \n",
       "6497 2021-09-26      9             6                 0               199  \n",
       "6498 2021-10-17     10             6                 0               199  \n",
       "6499 2021-12-03     12             6                 0               199  \n",
       "\n",
       "[6500 rows x 12 columns]"
      ]
     },
     "execution_count": 37,
     "metadata": {},
     "output_type": "execute_result"
    }
   ],
   "source": [
    "# создадим новую переменную куда войдут данные только пользователей с подпиской из нового датафрейма\n",
    "df_subs_ultra = df.query(\"subscription_type == 'ultra'\")\n",
    "df_subs_ultra"
   ]
  },
  {
   "cell_type": "code",
   "execution_count": 38,
   "id": "674c16b1",
   "metadata": {},
   "outputs": [
    {
     "data": {
      "text/html": [
       "<div>\n",
       "<style scoped>\n",
       "    .dataframe tbody tr th:only-of-type {\n",
       "        vertical-align: middle;\n",
       "    }\n",
       "\n",
       "    .dataframe tbody tr th {\n",
       "        vertical-align: top;\n",
       "    }\n",
       "\n",
       "    .dataframe thead th {\n",
       "        text-align: right;\n",
       "    }\n",
       "</style>\n",
       "<table border=\"1\" class=\"dataframe\">\n",
       "  <thead>\n",
       "    <tr style=\"text-align: right;\">\n",
       "      <th></th>\n",
       "      <th>user_id</th>\n",
       "      <th>age</th>\n",
       "      <th>distance</th>\n",
       "      <th>duration</th>\n",
       "      <th>month</th>\n",
       "      <th>minute_price</th>\n",
       "      <th>start_ride_price</th>\n",
       "      <th>subscription_fee</th>\n",
       "    </tr>\n",
       "  </thead>\n",
       "  <tbody>\n",
       "    <tr>\n",
       "      <th>count</th>\n",
       "      <td>6500.000000</td>\n",
       "      <td>6500.000000</td>\n",
       "      <td>6500.000000</td>\n",
       "      <td>6500.000000</td>\n",
       "      <td>6500.000000</td>\n",
       "      <td>6500.0</td>\n",
       "      <td>6500.0</td>\n",
       "      <td>6500.0</td>\n",
       "    </tr>\n",
       "    <tr>\n",
       "      <th>mean</th>\n",
       "      <td>348.725385</td>\n",
       "      <td>24.892615</td>\n",
       "      <td>3115.445388</td>\n",
       "      <td>19.037692</td>\n",
       "      <td>6.422308</td>\n",
       "      <td>6.0</td>\n",
       "      <td>0.0</td>\n",
       "      <td>199.0</td>\n",
       "    </tr>\n",
       "    <tr>\n",
       "      <th>std</th>\n",
       "      <td>201.099339</td>\n",
       "      <td>4.757208</td>\n",
       "      <td>836.895330</td>\n",
       "      <td>5.577439</td>\n",
       "      <td>3.414616</td>\n",
       "      <td>0.0</td>\n",
       "      <td>0.0</td>\n",
       "      <td>0.0</td>\n",
       "    </tr>\n",
       "    <tr>\n",
       "      <th>min</th>\n",
       "      <td>1.000000</td>\n",
       "      <td>12.000000</td>\n",
       "      <td>244.210438</td>\n",
       "      <td>4.000000</td>\n",
       "      <td>1.000000</td>\n",
       "      <td>6.0</td>\n",
       "      <td>0.0</td>\n",
       "      <td>199.0</td>\n",
       "    </tr>\n",
       "    <tr>\n",
       "      <th>25%</th>\n",
       "      <td>175.000000</td>\n",
       "      <td>22.000000</td>\n",
       "      <td>2785.444017</td>\n",
       "      <td>15.000000</td>\n",
       "      <td>4.000000</td>\n",
       "      <td>6.0</td>\n",
       "      <td>0.0</td>\n",
       "      <td>199.0</td>\n",
       "    </tr>\n",
       "    <tr>\n",
       "      <th>50%</th>\n",
       "      <td>351.000000</td>\n",
       "      <td>25.000000</td>\n",
       "      <td>3148.637229</td>\n",
       "      <td>19.000000</td>\n",
       "      <td>6.000000</td>\n",
       "      <td>6.0</td>\n",
       "      <td>0.0</td>\n",
       "      <td>199.0</td>\n",
       "    </tr>\n",
       "    <tr>\n",
       "      <th>75%</th>\n",
       "      <td>525.000000</td>\n",
       "      <td>28.000000</td>\n",
       "      <td>3560.574425</td>\n",
       "      <td>22.000000</td>\n",
       "      <td>9.000000</td>\n",
       "      <td>6.0</td>\n",
       "      <td>0.0</td>\n",
       "      <td>199.0</td>\n",
       "    </tr>\n",
       "    <tr>\n",
       "      <th>max</th>\n",
       "      <td>699.000000</td>\n",
       "      <td>38.000000</td>\n",
       "      <td>5699.769662</td>\n",
       "      <td>41.000000</td>\n",
       "      <td>12.000000</td>\n",
       "      <td>6.0</td>\n",
       "      <td>0.0</td>\n",
       "      <td>199.0</td>\n",
       "    </tr>\n",
       "  </tbody>\n",
       "</table>\n",
       "</div>"
      ],
      "text/plain": [
       "           user_id          age     distance     duration        month  \\\n",
       "count  6500.000000  6500.000000  6500.000000  6500.000000  6500.000000   \n",
       "mean    348.725385    24.892615  3115.445388    19.037692     6.422308   \n",
       "std     201.099339     4.757208   836.895330     5.577439     3.414616   \n",
       "min       1.000000    12.000000   244.210438     4.000000     1.000000   \n",
       "25%     175.000000    22.000000  2785.444017    15.000000     4.000000   \n",
       "50%     351.000000    25.000000  3148.637229    19.000000     6.000000   \n",
       "75%     525.000000    28.000000  3560.574425    22.000000     9.000000   \n",
       "max     699.000000    38.000000  5699.769662    41.000000    12.000000   \n",
       "\n",
       "       minute_price  start_ride_price  subscription_fee  \n",
       "count        6500.0            6500.0            6500.0  \n",
       "mean            6.0               0.0             199.0  \n",
       "std             0.0               0.0               0.0  \n",
       "min             6.0               0.0             199.0  \n",
       "25%             6.0               0.0             199.0  \n",
       "50%             6.0               0.0             199.0  \n",
       "75%             6.0               0.0             199.0  \n",
       "max             6.0               0.0             199.0  "
      ]
     },
     "execution_count": 38,
     "metadata": {},
     "output_type": "execute_result"
    }
   ],
   "source": [
    "# посмотрим на числовое описание данных датафрейма пользователей с подпиской\n",
    "df_subs_ultra.describe()"
   ]
  },
  {
   "cell_type": "markdown",
   "id": "4a8ad98a",
   "metadata": {},
   "source": [
    "Визуализируем информацию о расстоянии и времени поездок для пользователей с подпиской"
   ]
  },
  {
   "cell_type": "code",
   "execution_count": 39,
   "id": "1e6ed845",
   "metadata": {},
   "outputs": [
    {
     "data": {
      "image/png": "[encoded data removed]",
      "text/plain": [
       "<Figure size 864x576 with 1 Axes>"
      ]
     },
     "metadata": {
      "needs_background": "light"
     },
     "output_type": "display_data"
    }
   ],
   "source": [
    "# построим гистограмму о преодолённом расстоянии для пользователей с подпиской\n",
    "df_subs_ultra['distance'].plot(y='distance', kind='hist', bins=20, figsize=(12, 8), grid=True, legend=True)\n",
    "plt.title('Расстояние преодолённое пользователями с подпиской за одну поездку')\n",
    "plt.xlabel('Расстояние, м')\n",
    "plt.ylabel('Количество пользователей')\n",
    "plt.show()"
   ]
  },
  {
   "cell_type": "code",
   "execution_count": 40,
   "id": "228a43da",
   "metadata": {},
   "outputs": [
    {
     "data": {
      "image/png": "[encoded data removed]",
      "text/plain": [
       "<Figure size 864x576 with 1 Axes>"
      ]
     },
     "metadata": {
      "needs_background": "light"
     },
     "output_type": "display_data"
    }
   ],
   "source": [
    "# построим гистограмму о продолжительности поездки для пользователей с подпиской\n",
    "df_subs_ultra['duration'].plot(y='duration', kind='hist', bins=20, figsize=(12, 8), grid=True, legend=True)\n",
    "plt.title('Продолжительность одной поездки пользователей с подпиской')\n",
    "plt.xlabel('Продолжительность одной поездки, мин')\n",
    "plt.ylabel('Количество пользователей')\n",
    "plt.show()"
   ]
  },
  {
   "cell_type": "markdown",
   "id": "e73468a6",
   "metadata": {},
   "source": [
    "### Сравним гистограммы о расстоянии и времени поездок для пользователей с подпиской и без подписки"
   ]
  },
  {
   "cell_type": "code",
   "execution_count": 41,
   "id": "01c2558f",
   "metadata": {},
   "outputs": [],
   "source": [
    "# переименуем наименования столбцов для корректного отображения на общей гистограмме\n",
    "df_subs_free = df_subs_free.rename(columns={'distance': 'distance_free', 'duration': 'duration_free'})\n",
    "df_subs_ultra = df_subs_ultra.rename(columns={'distance': 'distance_ultra', 'duration': 'duration_ultra'})"
   ]
  },
  {
   "cell_type": "code",
   "execution_count": 42,
   "id": "72974839",
   "metadata": {},
   "outputs": [
    {
     "data": {
      "image/png": "[encoded data removed]",
      "text/plain": [
       "<Figure size 864x576 with 1 Axes>"
      ]
     },
     "metadata": {
      "needs_background": "light"
     },
     "output_type": "display_data"
    }
   ],
   "source": [
    "# сравним гистограммы преодолённого расстояния за одну поездку пользователя без подписки и с подпиской\n",
    "df_subs_free['distance_free'].plot(y='distance', kind='hist', bins=20, figsize=(12, 8), grid=True, legend=True)\n",
    "df_subs_ultra['distance_ultra'].plot(y='distance', kind='hist', bins=20, figsize=(12, 8), grid=True, legend=True)\n",
    "plt.title('Расстояние преодолённое пользователями с подпиской и без за одну поездку')\n",
    "plt.xlabel('Расстояние, м')\n",
    "plt.ylabel('Количество пользователей')\n",
    "plt.show()"
   ]
  },
  {
   "cell_type": "code",
   "execution_count": 43,
   "id": "b225f0eb",
   "metadata": {},
   "outputs": [
    {
     "data": {
      "image/png": "[encoded data removed]",
      "text/plain": [
       "<Figure size 864x576 with 1 Axes>"
      ]
     },
     "metadata": {
      "needs_background": "light"
     },
     "output_type": "display_data"
    }
   ],
   "source": [
    "# сравним гистограммы продолжительности одной поездки пользователей без подписки и с подпиской\n",
    "df_subs_free['duration_free'].plot(y='duration', kind='hist', bins=20, figsize=(12, 8), grid=True, legend=True)\n",
    "df_subs_ultra['duration_ultra'].plot(y='duration', kind='hist', bins=20, figsize=(12, 8), grid=True, legend=True)\n",
    "plt.title('Продолжительность одной поездки пользователей с подпиской и без за одну поездку')\n",
    "plt.xlabel('Продолжительность одной поездки, мин')\n",
    "plt.ylabel('Количество пользователей')\n",
    "plt.show()"
   ]
  },
  {
   "cell_type": "markdown",
   "id": "28c97544",
   "metadata": {},
   "source": [
    "Вывод\n",
    "\n",
    "- Объединили все 3 датафрейма в один\n",
    "- Создали 2 новых датафрейма из объеденённого:\n",
    "    - пользователей без подписки ('df_subs_free')\n",
    "    - пользователей с подпиской ('df_subs_ultra')\n",
    "- Визуализировали преодолённое расстояние и продолжительность одной поездки для пользователей без подписки.\n",
    "\n",
    "Пользователи без подписки в основном проезжают от 1,9 км до 4,7 км за одну поездку, затрачивая при этом от 9 до 25 минут.\n",
    "\n",
    "- Визуализировали преодолённое расстояние и продолжительность одной поездки для пользователей с подпиской.\n",
    "\n",
    "Пользователи с подпиской в основном проезжают от 2,4 км до 4,8 км за одну поездку, затрачивая при этом от 11 до 24 минут.\n",
    "\n",
    "В целом данные по визуализации примерно одинаковые также как и возраст (самые младшие имеют возраст по 12 лет, а самые старшие 38 лет с подпиской и 43 года без подписки).\n",
    "Причём поездок пользователей без подписки гораздо больше поездок пользователей с подпиской (11568 и 6500 соответственно)"
   ]
  },
  {
   "cell_type": "markdown",
   "id": "7ae337ca",
   "metadata": {},
   "source": [
    "## Подсчёт выручки"
   ]
  },
  {
   "cell_type": "markdown",
   "id": "316a609d",
   "metadata": {},
   "source": [
    "### Создадим датафрейм с агрегированными данными о поездах на основе датафрейма 'df'"
   ]
  },
  {
   "cell_type": "code",
   "execution_count": 44,
   "id": "d392a3fa",
   "metadata": {},
   "outputs": [
    {
     "data": {
      "text/html": [
       "<div>\n",
       "<style scoped>\n",
       "    .dataframe tbody tr th:only-of-type {\n",
       "        vertical-align: middle;\n",
       "    }\n",
       "\n",
       "    .dataframe tbody tr th {\n",
       "        vertical-align: top;\n",
       "    }\n",
       "\n",
       "    .dataframe thead th {\n",
       "        text-align: right;\n",
       "    }\n",
       "</style>\n",
       "<table border=\"1\" class=\"dataframe\">\n",
       "  <thead>\n",
       "    <tr style=\"text-align: right;\">\n",
       "      <th></th>\n",
       "      <th></th>\n",
       "      <th>distance</th>\n",
       "      <th>duration</th>\n",
       "      <th>minute_price</th>\n",
       "      <th>name</th>\n",
       "      <th>start_ride_price</th>\n",
       "      <th>subscription_fee</th>\n",
       "      <th>subscription_type</th>\n",
       "    </tr>\n",
       "    <tr>\n",
       "      <th>month</th>\n",
       "      <th>user_id</th>\n",
       "      <th></th>\n",
       "      <th></th>\n",
       "      <th></th>\n",
       "      <th></th>\n",
       "      <th></th>\n",
       "      <th></th>\n",
       "      <th></th>\n",
       "    </tr>\n",
       "  </thead>\n",
       "  <tbody>\n",
       "    <tr>\n",
       "      <th rowspan=\"5\" valign=\"top\">1</th>\n",
       "      <th>1</th>\n",
       "      <td>7027.511294</td>\n",
       "      <td>42.0</td>\n",
       "      <td>6</td>\n",
       "      <td>2</td>\n",
       "      <td>0</td>\n",
       "      <td>199</td>\n",
       "      <td>ultra</td>\n",
       "    </tr>\n",
       "    <tr>\n",
       "      <th>3</th>\n",
       "      <td>3061.777147</td>\n",
       "      <td>13.0</td>\n",
       "      <td>6</td>\n",
       "      <td>1</td>\n",
       "      <td>0</td>\n",
       "      <td>199</td>\n",
       "      <td>ultra</td>\n",
       "    </tr>\n",
       "    <tr>\n",
       "      <th>5</th>\n",
       "      <td>3914.646990</td>\n",
       "      <td>13.0</td>\n",
       "      <td>6</td>\n",
       "      <td>1</td>\n",
       "      <td>0</td>\n",
       "      <td>199</td>\n",
       "      <td>ultra</td>\n",
       "    </tr>\n",
       "    <tr>\n",
       "      <th>7</th>\n",
       "      <td>6478.080979</td>\n",
       "      <td>28.0</td>\n",
       "      <td>6</td>\n",
       "      <td>2</td>\n",
       "      <td>0</td>\n",
       "      <td>199</td>\n",
       "      <td>ultra</td>\n",
       "    </tr>\n",
       "    <tr>\n",
       "      <th>12</th>\n",
       "      <td>3577.151148</td>\n",
       "      <td>33.0</td>\n",
       "      <td>6</td>\n",
       "      <td>1</td>\n",
       "      <td>0</td>\n",
       "      <td>199</td>\n",
       "      <td>ultra</td>\n",
       "    </tr>\n",
       "    <tr>\n",
       "      <th>...</th>\n",
       "      <th>...</th>\n",
       "      <td>...</td>\n",
       "      <td>...</td>\n",
       "      <td>...</td>\n",
       "      <td>...</td>\n",
       "      <td>...</td>\n",
       "      <td>...</td>\n",
       "      <td>...</td>\n",
       "    </tr>\n",
       "    <tr>\n",
       "      <th rowspan=\"5\" valign=\"top\">12</th>\n",
       "      <th>1525</th>\n",
       "      <td>4597.854350</td>\n",
       "      <td>34.0</td>\n",
       "      <td>8</td>\n",
       "      <td>1</td>\n",
       "      <td>50</td>\n",
       "      <td>0</td>\n",
       "      <td>free</td>\n",
       "    </tr>\n",
       "    <tr>\n",
       "      <th>1526</th>\n",
       "      <td>3644.121544</td>\n",
       "      <td>23.0</td>\n",
       "      <td>8</td>\n",
       "      <td>1</td>\n",
       "      <td>50</td>\n",
       "      <td>0</td>\n",
       "      <td>free</td>\n",
       "    </tr>\n",
       "    <tr>\n",
       "      <th>1528</th>\n",
       "      <td>3998.569324</td>\n",
       "      <td>11.0</td>\n",
       "      <td>8</td>\n",
       "      <td>1</td>\n",
       "      <td>50</td>\n",
       "      <td>0</td>\n",
       "      <td>free</td>\n",
       "    </tr>\n",
       "    <tr>\n",
       "      <th>1532</th>\n",
       "      <td>6111.889853</td>\n",
       "      <td>42.0</td>\n",
       "      <td>8</td>\n",
       "      <td>2</td>\n",
       "      <td>50</td>\n",
       "      <td>0</td>\n",
       "      <td>free</td>\n",
       "    </tr>\n",
       "    <tr>\n",
       "      <th>1534</th>\n",
       "      <td>2371.711192</td>\n",
       "      <td>16.0</td>\n",
       "      <td>8</td>\n",
       "      <td>1</td>\n",
       "      <td>50</td>\n",
       "      <td>0</td>\n",
       "      <td>free</td>\n",
       "    </tr>\n",
       "  </tbody>\n",
       "</table>\n",
       "<p>11331 rows × 7 columns</p>\n",
       "</div>"
      ],
      "text/plain": [
       "                  distance  duration  minute_price  name  start_ride_price  \\\n",
       "month user_id                                                                \n",
       "1     1        7027.511294      42.0             6     2                 0   \n",
       "      3        3061.777147      13.0             6     1                 0   \n",
       "      5        3914.646990      13.0             6     1                 0   \n",
       "      7        6478.080979      28.0             6     2                 0   \n",
       "      12       3577.151148      33.0             6     1                 0   \n",
       "...                    ...       ...           ...   ...               ...   \n",
       "12    1525     4597.854350      34.0             8     1                50   \n",
       "      1526     3644.121544      23.0             8     1                50   \n",
       "      1528     3998.569324      11.0             8     1                50   \n",
       "      1532     6111.889853      42.0             8     2                50   \n",
       "      1534     2371.711192      16.0             8     1                50   \n",
       "\n",
       "               subscription_fee subscription_type  \n",
       "month user_id                                      \n",
       "1     1                     199             ultra  \n",
       "      3                     199             ultra  \n",
       "      5                     199             ultra  \n",
       "      7                     199             ultra  \n",
       "      12                    199             ultra  \n",
       "...                         ...               ...  \n",
       "12    1525                    0              free  \n",
       "      1526                    0              free  \n",
       "      1528                    0              free  \n",
       "      1532                    0              free  \n",
       "      1534                    0              free  \n",
       "\n",
       "[11331 rows x 7 columns]"
      ]
     },
     "execution_count": 44,
     "metadata": {},
     "output_type": "execute_result"
    }
   ],
   "source": [
    "# создадим переменную с данными по каждому пользователю за каждый месяц\n",
    "users_go_month = df.pivot_table(\n",
    "    index= ('month', 'user_id'),\n",
    "    values = ('distance', 'duration', 'name', 'subscription_type', 'minute_price', 'start_ride_price', 'subscription_fee'),\n",
    "    aggfunc = {'distance': sum, 'duration': sum, 'name': len,\n",
    "               'subscription_type': min, 'minute_price': min, 'start_ride_price': min, 'subscription_fee': min})\n",
    "# посмотрим на новую таблицу\n",
    "users_go_month"
   ]
  },
  {
   "cell_type": "code",
   "execution_count": 45,
   "id": "a6b7adb4",
   "metadata": {
    "scrolled": true
   },
   "outputs": [
    {
     "data": {
      "text/html": [
       "<div>\n",
       "<style scoped>\n",
       "    .dataframe tbody tr th:only-of-type {\n",
       "        vertical-align: middle;\n",
       "    }\n",
       "\n",
       "    .dataframe tbody tr th {\n",
       "        vertical-align: top;\n",
       "    }\n",
       "\n",
       "    .dataframe thead th {\n",
       "        text-align: right;\n",
       "    }\n",
       "</style>\n",
       "<table border=\"1\" class=\"dataframe\">\n",
       "  <thead>\n",
       "    <tr style=\"text-align: right;\">\n",
       "      <th></th>\n",
       "      <th></th>\n",
       "      <th>distance</th>\n",
       "      <th>duration</th>\n",
       "      <th>minute_price</th>\n",
       "      <th>count_month</th>\n",
       "      <th>start_ride_price</th>\n",
       "      <th>subscription_fee</th>\n",
       "      <th>subscription_type</th>\n",
       "    </tr>\n",
       "    <tr>\n",
       "      <th>month</th>\n",
       "      <th>user_id</th>\n",
       "      <th></th>\n",
       "      <th></th>\n",
       "      <th></th>\n",
       "      <th></th>\n",
       "      <th></th>\n",
       "      <th></th>\n",
       "      <th></th>\n",
       "    </tr>\n",
       "  </thead>\n",
       "  <tbody>\n",
       "    <tr>\n",
       "      <th rowspan=\"10\" valign=\"top\">1</th>\n",
       "      <th>1</th>\n",
       "      <td>7027.511294</td>\n",
       "      <td>42.0</td>\n",
       "      <td>6</td>\n",
       "      <td>2</td>\n",
       "      <td>0</td>\n",
       "      <td>199</td>\n",
       "      <td>ultra</td>\n",
       "    </tr>\n",
       "    <tr>\n",
       "      <th>3</th>\n",
       "      <td>3061.777147</td>\n",
       "      <td>13.0</td>\n",
       "      <td>6</td>\n",
       "      <td>1</td>\n",
       "      <td>0</td>\n",
       "      <td>199</td>\n",
       "      <td>ultra</td>\n",
       "    </tr>\n",
       "    <tr>\n",
       "      <th>5</th>\n",
       "      <td>3914.646990</td>\n",
       "      <td>13.0</td>\n",
       "      <td>6</td>\n",
       "      <td>1</td>\n",
       "      <td>0</td>\n",
       "      <td>199</td>\n",
       "      <td>ultra</td>\n",
       "    </tr>\n",
       "    <tr>\n",
       "      <th>7</th>\n",
       "      <td>6478.080979</td>\n",
       "      <td>28.0</td>\n",
       "      <td>6</td>\n",
       "      <td>2</td>\n",
       "      <td>0</td>\n",
       "      <td>199</td>\n",
       "      <td>ultra</td>\n",
       "    </tr>\n",
       "    <tr>\n",
       "      <th>12</th>\n",
       "      <td>3577.151148</td>\n",
       "      <td>33.0</td>\n",
       "      <td>6</td>\n",
       "      <td>1</td>\n",
       "      <td>0</td>\n",
       "      <td>199</td>\n",
       "      <td>ultra</td>\n",
       "    </tr>\n",
       "    <tr>\n",
       "      <th>13</th>\n",
       "      <td>6687.987446</td>\n",
       "      <td>42.0</td>\n",
       "      <td>6</td>\n",
       "      <td>2</td>\n",
       "      <td>0</td>\n",
       "      <td>199</td>\n",
       "      <td>ultra</td>\n",
       "    </tr>\n",
       "    <tr>\n",
       "      <th>14</th>\n",
       "      <td>7699.643820</td>\n",
       "      <td>35.0</td>\n",
       "      <td>6</td>\n",
       "      <td>2</td>\n",
       "      <td>0</td>\n",
       "      <td>199</td>\n",
       "      <td>ultra</td>\n",
       "    </tr>\n",
       "    <tr>\n",
       "      <th>15</th>\n",
       "      <td>4187.621459</td>\n",
       "      <td>39.0</td>\n",
       "      <td>6</td>\n",
       "      <td>1</td>\n",
       "      <td>0</td>\n",
       "      <td>199</td>\n",
       "      <td>ultra</td>\n",
       "    </tr>\n",
       "    <tr>\n",
       "      <th>20</th>\n",
       "      <td>3516.719208</td>\n",
       "      <td>29.0</td>\n",
       "      <td>6</td>\n",
       "      <td>1</td>\n",
       "      <td>0</td>\n",
       "      <td>199</td>\n",
       "      <td>ultra</td>\n",
       "    </tr>\n",
       "    <tr>\n",
       "      <th>22</th>\n",
       "      <td>3058.692225</td>\n",
       "      <td>13.0</td>\n",
       "      <td>6</td>\n",
       "      <td>1</td>\n",
       "      <td>0</td>\n",
       "      <td>199</td>\n",
       "      <td>ultra</td>\n",
       "    </tr>\n",
       "  </tbody>\n",
       "</table>\n",
       "</div>"
      ],
      "text/plain": [
       "                  distance  duration  minute_price  count_month  \\\n",
       "month user_id                                                     \n",
       "1     1        7027.511294      42.0             6            2   \n",
       "      3        3061.777147      13.0             6            1   \n",
       "      5        3914.646990      13.0             6            1   \n",
       "      7        6478.080979      28.0             6            2   \n",
       "      12       3577.151148      33.0             6            1   \n",
       "      13       6687.987446      42.0             6            2   \n",
       "      14       7699.643820      35.0             6            2   \n",
       "      15       4187.621459      39.0             6            1   \n",
       "      20       3516.719208      29.0             6            1   \n",
       "      22       3058.692225      13.0             6            1   \n",
       "\n",
       "               start_ride_price  subscription_fee subscription_type  \n",
       "month user_id                                                        \n",
       "1     1                       0               199             ultra  \n",
       "      3                       0               199             ultra  \n",
       "      5                       0               199             ultra  \n",
       "      7                       0               199             ultra  \n",
       "      12                      0               199             ultra  \n",
       "      13                      0               199             ultra  \n",
       "      14                      0               199             ultra  \n",
       "      15                      0               199             ultra  \n",
       "      20                      0               199             ultra  \n",
       "      22                      0               199             ultra  "
      ]
     },
     "execution_count": 45,
     "metadata": {},
     "output_type": "execute_result"
    }
   ],
   "source": [
    "# переименуем столбец 'name' в 'count_month' (количество поездок за месяц)\n",
    "users_go_month.rename(columns = {'name' : 'count_month'}, inplace=True)\n",
    "# посмотрим на первые 10 строк новой таблицы\n",
    "users_go_month.head(10)"
   ]
  },
  {
   "cell_type": "markdown",
   "id": "771dea5a",
   "metadata": {},
   "source": [
    "### Создадим новый столбец с помесячной выручкой, которую принёс каждый пользователь"
   ]
  },
  {
   "cell_type": "code",
   "execution_count": 46,
   "id": "bbbcf558",
   "metadata": {},
   "outputs": [],
   "source": [
    "# создадим новый столбец с помесячной выручкой\n",
    "users_go_month['revenue_month'] = (\n",
    "(users_go_month['minute_price'] * users_go_month['duration']) + \n",
    "(users_go_month['count_month'] * users_go_month['start_ride_price']) + users_go_month['subscription_fee'])"
   ]
  },
  {
   "cell_type": "code",
   "execution_count": 47,
   "id": "93bd76d6",
   "metadata": {},
   "outputs": [
    {
     "data": {
      "text/html": [
       "<div>\n",
       "<style scoped>\n",
       "    .dataframe tbody tr th:only-of-type {\n",
       "        vertical-align: middle;\n",
       "    }\n",
       "\n",
       "    .dataframe tbody tr th {\n",
       "        vertical-align: top;\n",
       "    }\n",
       "\n",
       "    .dataframe thead th {\n",
       "        text-align: right;\n",
       "    }\n",
       "</style>\n",
       "<table border=\"1\" class=\"dataframe\">\n",
       "  <thead>\n",
       "    <tr style=\"text-align: right;\">\n",
       "      <th></th>\n",
       "      <th></th>\n",
       "      <th>distance</th>\n",
       "      <th>duration</th>\n",
       "      <th>minute_price</th>\n",
       "      <th>count_month</th>\n",
       "      <th>start_ride_price</th>\n",
       "      <th>subscription_fee</th>\n",
       "      <th>subscription_type</th>\n",
       "      <th>revenue_month</th>\n",
       "    </tr>\n",
       "    <tr>\n",
       "      <th>month</th>\n",
       "      <th>user_id</th>\n",
       "      <th></th>\n",
       "      <th></th>\n",
       "      <th></th>\n",
       "      <th></th>\n",
       "      <th></th>\n",
       "      <th></th>\n",
       "      <th></th>\n",
       "      <th></th>\n",
       "    </tr>\n",
       "  </thead>\n",
       "  <tbody>\n",
       "    <tr>\n",
       "      <th rowspan=\"5\" valign=\"top\">1</th>\n",
       "      <th>1</th>\n",
       "      <td>7027.511294</td>\n",
       "      <td>42.0</td>\n",
       "      <td>6</td>\n",
       "      <td>2</td>\n",
       "      <td>0</td>\n",
       "      <td>199</td>\n",
       "      <td>ultra</td>\n",
       "      <td>451.0</td>\n",
       "    </tr>\n",
       "    <tr>\n",
       "      <th>3</th>\n",
       "      <td>3061.777147</td>\n",
       "      <td>13.0</td>\n",
       "      <td>6</td>\n",
       "      <td>1</td>\n",
       "      <td>0</td>\n",
       "      <td>199</td>\n",
       "      <td>ultra</td>\n",
       "      <td>277.0</td>\n",
       "    </tr>\n",
       "    <tr>\n",
       "      <th>5</th>\n",
       "      <td>3914.646990</td>\n",
       "      <td>13.0</td>\n",
       "      <td>6</td>\n",
       "      <td>1</td>\n",
       "      <td>0</td>\n",
       "      <td>199</td>\n",
       "      <td>ultra</td>\n",
       "      <td>277.0</td>\n",
       "    </tr>\n",
       "    <tr>\n",
       "      <th>7</th>\n",
       "      <td>6478.080979</td>\n",
       "      <td>28.0</td>\n",
       "      <td>6</td>\n",
       "      <td>2</td>\n",
       "      <td>0</td>\n",
       "      <td>199</td>\n",
       "      <td>ultra</td>\n",
       "      <td>367.0</td>\n",
       "    </tr>\n",
       "    <tr>\n",
       "      <th>12</th>\n",
       "      <td>3577.151148</td>\n",
       "      <td>33.0</td>\n",
       "      <td>6</td>\n",
       "      <td>1</td>\n",
       "      <td>0</td>\n",
       "      <td>199</td>\n",
       "      <td>ultra</td>\n",
       "      <td>397.0</td>\n",
       "    </tr>\n",
       "  </tbody>\n",
       "</table>\n",
       "</div>"
      ],
      "text/plain": [
       "                  distance  duration  minute_price  count_month  \\\n",
       "month user_id                                                     \n",
       "1     1        7027.511294      42.0             6            2   \n",
       "      3        3061.777147      13.0             6            1   \n",
       "      5        3914.646990      13.0             6            1   \n",
       "      7        6478.080979      28.0             6            2   \n",
       "      12       3577.151148      33.0             6            1   \n",
       "\n",
       "               start_ride_price  subscription_fee subscription_type  \\\n",
       "month user_id                                                         \n",
       "1     1                       0               199             ultra   \n",
       "      3                       0               199             ultra   \n",
       "      5                       0               199             ultra   \n",
       "      7                       0               199             ultra   \n",
       "      12                      0               199             ultra   \n",
       "\n",
       "               revenue_month  \n",
       "month user_id                 \n",
       "1     1                451.0  \n",
       "      3                277.0  \n",
       "      5                277.0  \n",
       "      7                367.0  \n",
       "      12               397.0  "
      ]
     },
     "execution_count": 47,
     "metadata": {},
     "output_type": "execute_result"
    }
   ],
   "source": [
    "# посмотрим на наш датафрейм с добавлением нового столбца\n",
    "users_go_month.head()"
   ]
  },
  {
   "cell_type": "code",
   "execution_count": 48,
   "id": "aa3cb672",
   "metadata": {},
   "outputs": [
    {
     "data": {
      "text/html": [
       "<div>\n",
       "<style scoped>\n",
       "    .dataframe tbody tr th:only-of-type {\n",
       "        vertical-align: middle;\n",
       "    }\n",
       "\n",
       "    .dataframe tbody tr th {\n",
       "        vertical-align: top;\n",
       "    }\n",
       "\n",
       "    .dataframe thead th {\n",
       "        text-align: right;\n",
       "    }\n",
       "</style>\n",
       "<table border=\"1\" class=\"dataframe\">\n",
       "  <thead>\n",
       "    <tr style=\"text-align: right;\">\n",
       "      <th></th>\n",
       "      <th></th>\n",
       "      <th>distance</th>\n",
       "      <th>duration</th>\n",
       "      <th>minute_price</th>\n",
       "      <th>count_month</th>\n",
       "      <th>start_ride_price</th>\n",
       "      <th>subscription_fee</th>\n",
       "      <th>subscription_type</th>\n",
       "      <th>revenue_month</th>\n",
       "    </tr>\n",
       "    <tr>\n",
       "      <th>month</th>\n",
       "      <th>user_id</th>\n",
       "      <th></th>\n",
       "      <th></th>\n",
       "      <th></th>\n",
       "      <th></th>\n",
       "      <th></th>\n",
       "      <th></th>\n",
       "      <th></th>\n",
       "      <th></th>\n",
       "    </tr>\n",
       "  </thead>\n",
       "  <tbody>\n",
       "    <tr>\n",
       "      <th>1</th>\n",
       "      <th>1</th>\n",
       "      <td>7027.511294</td>\n",
       "      <td>42.0</td>\n",
       "      <td>6</td>\n",
       "      <td>2</td>\n",
       "      <td>0</td>\n",
       "      <td>199</td>\n",
       "      <td>ultra</td>\n",
       "      <td>451.0</td>\n",
       "    </tr>\n",
       "    <tr>\n",
       "      <th>4</th>\n",
       "      <th>1</th>\n",
       "      <td>754.159807</td>\n",
       "      <td>7.0</td>\n",
       "      <td>6</td>\n",
       "      <td>1</td>\n",
       "      <td>0</td>\n",
       "      <td>199</td>\n",
       "      <td>ultra</td>\n",
       "      <td>241.0</td>\n",
       "    </tr>\n",
       "    <tr>\n",
       "      <th>8</th>\n",
       "      <th>1</th>\n",
       "      <td>6723.470560</td>\n",
       "      <td>46.0</td>\n",
       "      <td>6</td>\n",
       "      <td>2</td>\n",
       "      <td>0</td>\n",
       "      <td>199</td>\n",
       "      <td>ultra</td>\n",
       "      <td>475.0</td>\n",
       "    </tr>\n",
       "    <tr>\n",
       "      <th>10</th>\n",
       "      <th>1</th>\n",
       "      <td>5809.911100</td>\n",
       "      <td>32.0</td>\n",
       "      <td>6</td>\n",
       "      <td>2</td>\n",
       "      <td>0</td>\n",
       "      <td>199</td>\n",
       "      <td>ultra</td>\n",
       "      <td>391.0</td>\n",
       "    </tr>\n",
       "    <tr>\n",
       "      <th>11</th>\n",
       "      <th>1</th>\n",
       "      <td>7003.499363</td>\n",
       "      <td>56.0</td>\n",
       "      <td>6</td>\n",
       "      <td>3</td>\n",
       "      <td>0</td>\n",
       "      <td>199</td>\n",
       "      <td>ultra</td>\n",
       "      <td>535.0</td>\n",
       "    </tr>\n",
       "    <tr>\n",
       "      <th>12</th>\n",
       "      <th>1</th>\n",
       "      <td>6751.629942</td>\n",
       "      <td>28.0</td>\n",
       "      <td>6</td>\n",
       "      <td>2</td>\n",
       "      <td>0</td>\n",
       "      <td>199</td>\n",
       "      <td>ultra</td>\n",
       "      <td>367.0</td>\n",
       "    </tr>\n",
       "  </tbody>\n",
       "</table>\n",
       "</div>"
      ],
      "text/plain": [
       "                  distance  duration  minute_price  count_month  \\\n",
       "month user_id                                                     \n",
       "1     1        7027.511294      42.0             6            2   \n",
       "4     1         754.159807       7.0             6            1   \n",
       "8     1        6723.470560      46.0             6            2   \n",
       "10    1        5809.911100      32.0             6            2   \n",
       "11    1        7003.499363      56.0             6            3   \n",
       "12    1        6751.629942      28.0             6            2   \n",
       "\n",
       "               start_ride_price  subscription_fee subscription_type  \\\n",
       "month user_id                                                         \n",
       "1     1                       0               199             ultra   \n",
       "4     1                       0               199             ultra   \n",
       "8     1                       0               199             ultra   \n",
       "10    1                       0               199             ultra   \n",
       "11    1                       0               199             ultra   \n",
       "12    1                       0               199             ultra   \n",
       "\n",
       "               revenue_month  \n",
       "month user_id                 \n",
       "1     1                451.0  \n",
       "4     1                241.0  \n",
       "8     1                475.0  \n",
       "10    1                391.0  \n",
       "11    1                535.0  \n",
       "12    1                367.0  "
      ]
     },
     "execution_count": 48,
     "metadata": {},
     "output_type": "execute_result"
    }
   ],
   "source": [
    "# посмотрим также датафрейм не по месяцам, а по пользователям\n",
    "users_go_month.query('user_id == 1')"
   ]
  },
  {
   "cell_type": "markdown",
   "id": "7da99650",
   "metadata": {},
   "source": [
    "Вывод\n",
    "\n",
    "- Создали новый датафрейм с агрегированными данными о поездках\n",
    "- Нашли суммарное расстояние, количество поездок и суммарное время по каждому пользователю по месяцам\n",
    "- Добавили новый столбец с помесячной выручкой по каждому пользователю"
   ]
  },
  {
   "cell_type": "markdown",
   "id": "9c824adf",
   "metadata": {},
   "source": [
    "## Проверка гипотез"
   ]
  },
  {
   "cell_type": "markdown",
   "id": "cde997f3",
   "metadata": {},
   "source": [
    "### Важно понять, тратят ли пользователи с подпиской больше времени на поездки? Если да, то пользователи с подпиской могут быть «выгоднее» для компании. Проверьте гипотезу. Используйте исходные данные о продолжительности каждой сессии — отдельно для подписчиков и тех, у кого нет подписки."
   ]
  },
  {
   "cell_type": "markdown",
   "id": "b18cbad4",
   "metadata": {},
   "source": [
    "Проверим гипотезу.\n",
    "\n",
    "H_0: Время пользователей с подпиской = время пользователей без подписки ('duration' пользователей 'ultra' = 'duration' пользователей 'free')\n",
    "\n",
    "H_1: 'duration' пользователей 'ultra' > 'duration' пользователей 'free'\n",
    "\n",
    "alpha = 0.05"
   ]
  },
  {
   "cell_type": "code",
   "execution_count": 49,
   "id": "0ac8eea7",
   "metadata": {},
   "outputs": [
    {
     "name": "stdout",
     "output_type": "stream",
     "text": [
      "2.4959453720736625e-34\n",
      "Отвергаем нулевую гипотезу\n",
      "В среднем пользователи с подпиской тратят 19.0 минут\n",
      "В среднем пользователи без подписки тратят 17.9 минут\n"
     ]
    }
   ],
   "source": [
    "# проверим нулевую гипотезу\n",
    "ultra = df_subs_ultra['duration_ultra']\n",
    "free = df_subs_free['duration_free']\n",
    "\n",
    "results = st.ttest_ind(ultra, free, alternative='greater')\n",
    "alpha = 0.05\n",
    "\n",
    "print(results.pvalue)\n",
    "\n",
    "if results.pvalue < alpha:\n",
    "    print('Отвергаем нулевую гипотезу')\n",
    "else:\n",
    "    print('Не удалось отвергнуть нулевую гипотезу')\n",
    "    \n",
    "    \n",
    "print('В среднем пользователи с подпиской тратят', ultra.mean().round(1), 'минут')\n",
    "print('В среднем пользователи без подписки тратят', free.mean().round(1), 'минут')"
   ]
  },
  {
   "cell_type": "markdown",
   "id": "2df6a6d4",
   "metadata": {},
   "source": [
    "Вывод: Проверили нулевую гипотезу и отвергли её, т.к. пользователи с подпиской больше тратят времени на поездки чем пользователи без подписки"
   ]
  },
  {
   "cell_type": "markdown",
   "id": "765a21ea",
   "metadata": {},
   "source": [
    "### Расстояние одной поездки в 3130 метров — оптимальное с точки зрения износа самоката. Можно ли сказать, что среднее расстояние, которое проезжают пользователи с подпиской за одну поездку, не превышает 3130 метров?\n",
    "\n",
    "Проверим гипотезу."
   ]
  },
  {
   "cell_type": "markdown",
   "id": "bdde5e51",
   "metadata": {},
   "source": [
    "H_0: Расстояние пользователей с подпиской за одну поездку = 3130 метров ('distance' пользователей 'ultra' за одну поездку = 3130 метров.\n",
    "\n",
    "H_1: 'distance' пользователей 'ultra' > 3130 метров\n",
    "\n",
    "alpha = 0.05"
   ]
  },
  {
   "cell_type": "code",
   "execution_count": 50,
   "id": "cbc78f78",
   "metadata": {},
   "outputs": [
    {
     "name": "stdout",
     "output_type": "stream",
     "text": [
      "0.9195368847849785\n",
      "Не удалось отвергнуть нулевую гипотезу\n",
      "В среднем пользователи с подпиской проезжают 3115.4 метров за одну поездку\n"
     ]
    }
   ],
   "source": [
    "# проверим нулевую гипотезу\n",
    "ultra_dist = df_subs_ultra['distance_ultra']\n",
    "interested_value = 3130\n",
    "\n",
    "results = st.ttest_1samp(ultra_dist, interested_value, alternative='greater')\n",
    "alpha = 0.05\n",
    "\n",
    "print(results.pvalue)\n",
    "\n",
    "if results.pvalue < alpha:\n",
    "    print('Отвергаем нулевую гипотезу')\n",
    "else:\n",
    "    print('Не удалось отвергнуть нулевую гипотезу')\n",
    "    \n",
    "print('В среднем пользователи с подпиской проезжают', ultra_dist.mean().round(1), 'метров за одну поездку')"
   ]
  },
  {
   "cell_type": "markdown",
   "id": "6ba05872",
   "metadata": {},
   "source": [
    "Вывод: Проверили нулевую гипотезу, и не смогли её отвергнуть, т.к. среднее расстояние пользователей с подпиской за одну поездку меньше 3130 метров."
   ]
  },
  {
   "cell_type": "markdown",
   "id": "076b959f",
   "metadata": {},
   "source": [
    "### Проверим гипотезу о том, будет ли помесячная выручка от пользователей с подпиской по месяцам выше, чем выручка от пользователей без подписки. "
   ]
  },
  {
   "cell_type": "markdown",
   "id": "057f1211",
   "metadata": {},
   "source": [
    "H_0: Помесячная выручка пользователей с подпиской = помесячная выручка пользователей без подписки ('revenue_month' пользователей 'ultra' = 'revenue_month' пользователей 'free')\n",
    "\n",
    "H_1:c 'revenue_month' пользователей 'ultra' > 'revenue_month' пользователей 'free'\n",
    "\n",
    "alpha = 0.05"
   ]
  },
  {
   "cell_type": "code",
   "execution_count": 51,
   "id": "84cd2ccf",
   "metadata": {},
   "outputs": [
    {
     "name": "stdout",
     "output_type": "stream",
     "text": [
      "1.8850394384715216e-31\n",
      "Отвергаем нулевую гипотезу\n",
      "В среднем помесячная выручка пользователей с подпиской составляет 362.8 рублей\n",
      "В среднем помесячная выручка пользователей без подписки составляет 328.6 рублей\n"
     ]
    }
   ],
   "source": [
    "# проверим нулевую гипотезу\n",
    "ultra_month = users_go_month.loc[users_go_month.subscription_type == 'ultra', 'revenue_month']\n",
    "free_month = users_go_month.loc[users_go_month.subscription_type == 'free', 'revenue_month']\n",
    "\n",
    "results = st.ttest_ind(ultra_month, free_month, alternative='greater')\n",
    "alpha = 0.05\n",
    "\n",
    "print(results.pvalue)\n",
    "\n",
    "if results.pvalue < alpha:\n",
    "    print('Отвергаем нулевую гипотезу')\n",
    "else:\n",
    "    print('Не удалось отвергнуть нулевую гипотезу')\n",
    "    \n",
    "print('В среднем помесячная выручка пользователей с подпиской составляет', ultra_month.mean().round(1), 'рублей')\n",
    "print('В среднем помесячная выручка пользователей без подписки составляет', free_month.mean().round(1), 'рублей')"
   ]
  },
  {
   "cell_type": "markdown",
   "id": "bc1ae4c6",
   "metadata": {},
   "source": [
    "Вывод: Проверили нулевую гипотезу, и отвергли её, т.к. помесячная выручка пользователей с подпиской больше чем помесячная выручка пользователей без подписки"
   ]
  },
  {
   "cell_type": "markdown",
   "id": "b875e43e",
   "metadata": {},
   "source": [
    "### Представьте такую ситуацию: техническая команда сервиса обновила сервера, с которыми взаимодействует мобильное приложение. Она надеется, что из-за этого количество обращений в техподдержку значимо снизилось. Некоторый файл содержит для каждого пользователя данные о количестве обращений до обновления и после него. Какой тест вам понадобился бы для проверки этой гипотезы?"
   ]
  },
  {
   "cell_type": "markdown",
   "id": "af30ebf6",
   "metadata": {},
   "source": [
    "Тут необходимо использовать гипотезу о равенстве средних для зависимых (парных) выборок, т.к. рассматривается один и тот же файл до обновления и после него.\n",
    "\n",
    "Гупотезы в таком случае будут сформулированы так:\n",
    "\n",
    "- H_0: μ1 = μ2\n",
    "- H_1: μ1 > μ2\n",
    "\n",
    "Тут μ1 = μ2 - это количество обращений в техподдержку до обновления (μ1) и после него (μ2).\n",
    "\n",
    "Чтобы проверить эту гипотезу, необходимо применить метод 'scipy.stats.ttest_rel()'"
   ]
  },
  {
   "cell_type": "markdown",
   "id": "f54689fe",
   "metadata": {},
   "source": [
    "## ОБЩИЙ ВЫВОД\n",
    "\n",
    "1. Загрузили 3 таблицы с данными: о пользователях, о поездках и о подписках. Изучили общую информацию каждого датафрейма\n",
    "- все типы данных указаны верно\n",
    "\n",
    "2. Предобработка данных\n",
    "- проверили датафреймы на наличие пропусков. Пропусков нет\n",
    "- привели столбец 'date' к типу даты pandas\n",
    "- создали новый столбец с номером месяца\n",
    "- проверили датафреймы на наличие дубликатов. Было удалён 31 дубликат в датафрейме с пользователями\n",
    "\n",
    "3. Исследовательский анализ данных\n",
    "- частота распределения по городам в целом одинаковая. Больше всего в Пятигорске - 219 пользователей (14,27%), меньше всего в Москве - 168 пользователей (10,95%).\n",
    "- соотношение пользователей с подпиской и без почти равное. 835 пользователей без подписки (54,43%) и 699 пользователей с подпиской (45,57%).\n",
    "- основной возраст пользователей от 20 до 29 лет. Самый младший возраст - 12 лет, а самый старший - 43 года.\n",
    "- в основном пользователи проезжают от 2,1 км до 4.3 км. Самая короткая поездка была - 0,85 метра, а самая длинная - 7,211 км.\n",
    "- в основном у пользователей на дону поездку уходит времени от 10 до 24 минут. Самая быстрачя поездка была полминуты, а самая долгая 40 минут и 49 секунд.\n",
    "\n",
    "4. Объединение данных\n",
    "- объеденили 3 датафрейма в один общий\n",
    "- создали 2 новых датафрейма на основе общего с данными пользователей без подписки и с подпиской\n",
    "- визуализирировали информацию 2х новых датафреймов о расстоянии и времени за одну поездку\n",
    "    - пользователи без подписки в основном проезжают от 1,9 км до 4,7 км за одну поездку, затрачивая при этом от 9 до 25 минут.\n",
    "    - пользователи с подпиской в основном проезжают от 2,4 км до 4,8 км за одну поездку, затрачивая при этом от 11 до 24 минут.\n",
    "\n",
    "5. Подсчёт вырычки\n",
    "- создали датафрейм с агрегированными данными о поездках на основе общего датафрейма\n",
    "- нашли суммарное расстояние, количество поездок и суммарное время по каждому пользователю по месяцам\n",
    "- добавили новый столбец с помесячной выручкой по пользователям\n",
    "\n",
    "6. Проверка гипотез\n",
    "- пользователи с подпиской тратят больше времени на поездки, чем пользователи без подписки.\n",
    "    - Отвергли нулевую гипотезу\n",
    "- пользователи с подпиской проезжают среднее расстояние в 3130 метров.\n",
    "    - Не удалось отвергнуть нулевую гипотезу\n",
    "- помесячная выручка от пользователей с подпиской по месяцам больше чем помесячная выручка от пользователей без подписки\n",
    "    - Отвергли нудевую гипотезу\n",
    "- представьте такую ситуацию: техническая команда сервиса обновила сервера, с которыми взаимодействует мобильное приложение. Она надеется, что из-за этого количество обращений в техподдержку значимо снизилось. Некоторый файл содержит для каждого пользователя данные о количестве обращений до обновления и после него. Какой тест вам понадобился бы для проверки этой гипотезы?\n",
    "    - необходимо использовать гипотезу о равенстве средних для зависимых (парных) выборок с методом  'scipy.stats.ttest_rel()'"
   ]
  }
 ],
 "metadata": {
  "ExecuteTimeLog": [
   {
    "duration": 58,
    "start_time": "2024-02-14T09:27:35.406Z"
   },
   {
    "duration": 415,
    "start_time": "2024-02-14T09:27:53.395Z"
   },
   {
    "duration": 78,
    "start_time": "2024-02-14T09:27:53.812Z"
   },
   {
    "duration": 2,
    "start_time": "2024-02-14T09:27:57.134Z"
   },
   {
    "duration": 29,
    "start_time": "2024-02-14T09:27:58.304Z"
   },
   {
    "duration": 28,
    "start_time": "2024-02-14T09:28:02.696Z"
   },
   {
    "duration": 1033,
    "start_time": "2024-02-14T09:40:47.833Z"
   },
   {
    "duration": 146,
    "start_time": "2024-02-14T09:40:48.869Z"
   },
   {
    "duration": 15,
    "start_time": "2024-02-14T09:43:13.563Z"
   },
   {
    "duration": 9,
    "start_time": "2024-02-14T09:44:40.241Z"
   },
   {
    "duration": 67,
    "start_time": "2024-02-14T09:47:36.739Z"
   },
   {
    "duration": 11,
    "start_time": "2024-02-14T09:48:21.992Z"
   },
   {
    "duration": 217,
    "start_time": "2024-02-14T09:51:23.085Z"
   },
   {
    "duration": 186,
    "start_time": "2024-02-14T09:51:33.219Z"
   },
   {
    "duration": 194,
    "start_time": "2024-02-14T09:52:37.696Z"
   },
   {
    "duration": 183,
    "start_time": "2024-02-14T09:53:07.966Z"
   },
   {
    "duration": 68,
    "start_time": "2024-02-14T09:55:56.938Z"
   },
   {
    "duration": 10,
    "start_time": "2024-02-14T09:56:29.569Z"
   },
   {
    "duration": 13,
    "start_time": "2024-02-14T09:59:56.395Z"
   },
   {
    "duration": 11,
    "start_time": "2024-02-14T10:00:07.358Z"
   },
   {
    "duration": 181,
    "start_time": "2024-02-14T10:00:09.640Z"
   },
   {
    "duration": 9,
    "start_time": "2024-02-14T10:00:41.363Z"
   },
   {
    "duration": 7,
    "start_time": "2024-02-14T10:01:30.402Z"
   },
   {
    "duration": 10,
    "start_time": "2024-02-14T10:01:37.937Z"
   },
   {
    "duration": 8,
    "start_time": "2024-02-14T10:02:43.215Z"
   },
   {
    "duration": 9,
    "start_time": "2024-02-14T10:03:04.239Z"
   },
   {
    "duration": 4,
    "start_time": "2024-02-14T10:03:06.962Z"
   },
   {
    "duration": 83,
    "start_time": "2024-02-14T10:03:06.971Z"
   },
   {
    "duration": 13,
    "start_time": "2024-02-14T10:03:07.057Z"
   },
   {
    "duration": 22,
    "start_time": "2024-02-14T10:03:07.072Z"
   },
   {
    "duration": 216,
    "start_time": "2024-02-14T10:03:07.096Z"
   },
   {
    "duration": 21,
    "start_time": "2024-02-14T10:03:07.315Z"
   },
   {
    "duration": 173,
    "start_time": "2024-02-14T10:03:07.338Z"
   },
   {
    "duration": 172,
    "start_time": "2024-02-14T10:03:25.495Z"
   },
   {
    "duration": 288,
    "start_time": "2024-02-14T10:03:52.736Z"
   },
   {
    "duration": 5,
    "start_time": "2024-02-14T10:06:58.693Z"
   },
   {
    "duration": 140,
    "start_time": "2024-02-14T10:08:48.039Z"
   },
   {
    "duration": 174,
    "start_time": "2024-02-14T10:09:02.168Z"
   },
   {
    "duration": 122,
    "start_time": "2024-02-14T10:12:00.373Z"
   },
   {
    "duration": 116,
    "start_time": "2024-02-14T10:12:26.046Z"
   },
   {
    "duration": 172,
    "start_time": "2024-02-14T10:12:34.546Z"
   },
   {
    "duration": 110,
    "start_time": "2024-02-14T10:12:49.545Z"
   },
   {
    "duration": 9,
    "start_time": "2024-02-14T10:14:27.346Z"
   },
   {
    "duration": 9,
    "start_time": "2024-02-14T10:14:56.769Z"
   },
   {
    "duration": 12,
    "start_time": "2024-02-14T10:15:33.750Z"
   },
   {
    "duration": 10,
    "start_time": "2024-02-14T10:16:42.227Z"
   },
   {
    "duration": 13,
    "start_time": "2024-02-14T10:17:34.542Z"
   },
   {
    "duration": 8,
    "start_time": "2024-02-14T10:18:14.593Z"
   },
   {
    "duration": 9,
    "start_time": "2024-02-14T10:18:18.332Z"
   },
   {
    "duration": 26,
    "start_time": "2024-02-14T10:20:33.171Z"
   },
   {
    "duration": 23,
    "start_time": "2024-02-14T10:21:13.540Z"
   },
   {
    "duration": 10,
    "start_time": "2024-02-14T10:21:47.858Z"
   },
   {
    "duration": 199,
    "start_time": "2024-02-14T10:23:33.257Z"
   },
   {
    "duration": 241,
    "start_time": "2024-02-14T10:23:42.927Z"
   },
   {
    "duration": 200,
    "start_time": "2024-02-14T10:24:03.258Z"
   },
   {
    "duration": 9,
    "start_time": "2024-02-14T10:24:24.729Z"
   },
   {
    "duration": 85,
    "start_time": "2024-02-14T10:33:25.585Z"
   },
   {
    "duration": 173,
    "start_time": "2024-02-14T10:34:16.430Z"
   },
   {
    "duration": 8,
    "start_time": "2024-02-14T11:44:01.262Z"
   },
   {
    "duration": 18,
    "start_time": "2024-02-14T11:44:53.930Z"
   },
   {
    "duration": 6,
    "start_time": "2024-02-14T11:45:10.463Z"
   },
   {
    "duration": 33,
    "start_time": "2024-02-14T11:45:12.519Z"
   },
   {
    "duration": 13,
    "start_time": "2024-02-14T11:49:31.494Z"
   },
   {
    "duration": 13,
    "start_time": "2024-02-14T11:49:46.040Z"
   },
   {
    "duration": 121,
    "start_time": "2024-02-14T11:49:48.627Z"
   },
   {
    "duration": 6,
    "start_time": "2024-02-14T11:51:54.356Z"
   },
   {
    "duration": 76,
    "start_time": "2024-02-14T11:51:59.337Z"
   },
   {
    "duration": 2,
    "start_time": "2024-02-14T11:52:02.364Z"
   },
   {
    "duration": 107,
    "start_time": "2024-02-14T11:52:02.369Z"
   },
   {
    "duration": 9,
    "start_time": "2024-02-14T11:52:02.478Z"
   },
   {
    "duration": 31,
    "start_time": "2024-02-14T11:52:02.488Z"
   },
   {
    "duration": 87,
    "start_time": "2024-02-14T11:52:02.521Z"
   },
   {
    "duration": 50,
    "start_time": "2024-02-14T11:52:02.610Z"
   },
   {
    "duration": 50,
    "start_time": "2024-02-14T11:52:02.661Z"
   },
   {
    "duration": 9,
    "start_time": "2024-02-14T11:52:02.713Z"
   },
   {
    "duration": 33,
    "start_time": "2024-02-14T11:52:02.728Z"
   },
   {
    "duration": 24,
    "start_time": "2024-02-14T11:52:02.762Z"
   },
   {
    "duration": 63,
    "start_time": "2024-02-14T11:52:02.788Z"
   },
   {
    "duration": 44,
    "start_time": "2024-02-14T11:52:02.853Z"
   },
   {
    "duration": 54,
    "start_time": "2024-02-14T11:52:02.899Z"
   },
   {
    "duration": 23,
    "start_time": "2024-02-14T11:52:02.955Z"
   },
   {
    "duration": 182,
    "start_time": "2024-02-14T11:52:02.980Z"
   },
   {
    "duration": 222,
    "start_time": "2024-02-14T11:52:03.164Z"
   },
   {
    "duration": 8,
    "start_time": "2024-02-14T11:56:07.782Z"
   },
   {
    "duration": 6,
    "start_time": "2024-02-14T11:58:03.269Z"
   },
   {
    "duration": 7,
    "start_time": "2024-02-14T12:00:20.673Z"
   },
   {
    "duration": 11,
    "start_time": "2024-02-14T12:02:27.126Z"
   },
   {
    "duration": 7,
    "start_time": "2024-02-14T12:02:55.038Z"
   },
   {
    "duration": 8,
    "start_time": "2024-02-14T12:03:59.664Z"
   },
   {
    "duration": 80,
    "start_time": "2024-02-14T12:04:50.005Z"
   },
   {
    "duration": 33,
    "start_time": "2024-02-14T13:30:44.614Z"
   },
   {
    "duration": 5,
    "start_time": "2024-02-14T13:31:09.663Z"
   },
   {
    "duration": 6,
    "start_time": "2024-02-14T13:32:03.659Z"
   },
   {
    "duration": 10,
    "start_time": "2024-02-14T13:32:04.824Z"
   },
   {
    "duration": 7,
    "start_time": "2024-02-14T13:32:05.680Z"
   },
   {
    "duration": 9,
    "start_time": "2024-02-14T13:33:43.290Z"
   },
   {
    "duration": 9,
    "start_time": "2024-02-14T13:34:40.140Z"
   },
   {
    "duration": 6,
    "start_time": "2024-02-14T13:41:03.459Z"
   },
   {
    "duration": 6,
    "start_time": "2024-02-14T13:44:03.696Z"
   },
   {
    "duration": 185,
    "start_time": "2024-02-14T13:44:52.414Z"
   },
   {
    "duration": 1436,
    "start_time": "2024-02-17T14:53:00.673Z"
   },
   {
    "duration": 300,
    "start_time": "2024-02-17T14:53:02.111Z"
   },
   {
    "duration": 12,
    "start_time": "2024-02-17T14:53:02.413Z"
   },
   {
    "duration": 44,
    "start_time": "2024-02-17T14:53:02.427Z"
   },
   {
    "duration": 9,
    "start_time": "2024-02-17T14:53:02.473Z"
   },
   {
    "duration": 10,
    "start_time": "2024-02-17T14:53:02.483Z"
   },
   {
    "duration": 18,
    "start_time": "2024-02-17T14:53:02.495Z"
   },
   {
    "duration": 7,
    "start_time": "2024-02-17T14:53:02.515Z"
   },
   {
    "duration": 37,
    "start_time": "2024-02-17T14:53:02.524Z"
   },
   {
    "duration": 11,
    "start_time": "2024-02-17T14:53:02.563Z"
   },
   {
    "duration": 13,
    "start_time": "2024-02-17T14:53:02.575Z"
   },
   {
    "duration": 5,
    "start_time": "2024-02-17T14:53:02.589Z"
   },
   {
    "duration": 9,
    "start_time": "2024-02-17T14:53:02.595Z"
   },
   {
    "duration": 8,
    "start_time": "2024-02-17T14:53:02.606Z"
   },
   {
    "duration": 8,
    "start_time": "2024-02-17T14:53:02.617Z"
   },
   {
    "duration": 18,
    "start_time": "2024-02-17T14:53:02.627Z"
   },
   {
    "duration": 11,
    "start_time": "2024-02-17T14:53:02.646Z"
   },
   {
    "duration": 22,
    "start_time": "2024-02-17T14:53:02.659Z"
   },
   {
    "duration": 9,
    "start_time": "2024-02-17T14:53:02.683Z"
   },
   {
    "duration": 9,
    "start_time": "2024-02-17T14:53:02.694Z"
   },
   {
    "duration": 177,
    "start_time": "2024-02-17T14:53:02.705Z"
   },
   {
    "duration": 179,
    "start_time": "2024-02-17T14:53:02.884Z"
   },
   {
    "duration": 150,
    "start_time": "2024-02-17T14:54:03.630Z"
   },
   {
    "duration": 152,
    "start_time": "2024-02-17T14:54:11.258Z"
   },
   {
    "duration": 7,
    "start_time": "2024-02-17T14:57:15.815Z"
   },
   {
    "duration": 103,
    "start_time": "2024-02-17T14:57:52.693Z"
   },
   {
    "duration": 6,
    "start_time": "2024-02-17T14:57:55.195Z"
   },
   {
    "duration": 152,
    "start_time": "2024-02-17T14:57:56.264Z"
   },
   {
    "duration": 5,
    "start_time": "2024-02-17T14:58:26.129Z"
   },
   {
    "duration": 9,
    "start_time": "2024-02-17T14:58:36.738Z"
   },
   {
    "duration": 6,
    "start_time": "2024-02-17T14:59:28.732Z"
   },
   {
    "duration": 5,
    "start_time": "2024-02-17T15:00:25.010Z"
   },
   {
    "duration": 100,
    "start_time": "2024-02-17T15:01:41.320Z"
   },
   {
    "duration": 98,
    "start_time": "2024-02-17T15:02:20.914Z"
   },
   {
    "duration": 7,
    "start_time": "2024-02-17T15:19:22.311Z"
   },
   {
    "duration": 9,
    "start_time": "2024-02-17T15:19:46.640Z"
   },
   {
    "duration": 8,
    "start_time": "2024-02-17T15:20:09.242Z"
   },
   {
    "duration": 8,
    "start_time": "2024-02-17T15:21:41.031Z"
   },
   {
    "duration": 5,
    "start_time": "2024-02-17T15:21:51.806Z"
   },
   {
    "duration": 4,
    "start_time": "2024-02-17T15:22:00.713Z"
   },
   {
    "duration": 5,
    "start_time": "2024-02-17T15:22:33.058Z"
   },
   {
    "duration": 4,
    "start_time": "2024-02-17T15:22:42.930Z"
   },
   {
    "duration": 4,
    "start_time": "2024-02-17T15:22:43.706Z"
   },
   {
    "duration": 9,
    "start_time": "2024-02-17T15:37:29.568Z"
   },
   {
    "duration": 201,
    "start_time": "2024-02-17T15:38:31.921Z"
   },
   {
    "duration": 248,
    "start_time": "2024-02-17T15:38:43.646Z"
   },
   {
    "duration": 135,
    "start_time": "2024-02-17T15:40:04.788Z"
   },
   {
    "duration": 221,
    "start_time": "2024-02-17T15:41:03.173Z"
   },
   {
    "duration": 147,
    "start_time": "2024-02-17T15:42:40.006Z"
   },
   {
    "duration": 151,
    "start_time": "2024-02-17T15:42:55.382Z"
   },
   {
    "duration": 150,
    "start_time": "2024-02-17T15:43:08.301Z"
   },
   {
    "duration": 137,
    "start_time": "2024-02-17T15:43:44.499Z"
   },
   {
    "duration": 148,
    "start_time": "2024-02-17T15:44:18.921Z"
   },
   {
    "duration": 150,
    "start_time": "2024-02-17T15:44:55.132Z"
   },
   {
    "duration": 147,
    "start_time": "2024-02-17T15:46:17.156Z"
   },
   {
    "duration": 1912,
    "start_time": "2024-02-17T15:49:22.706Z"
   },
   {
    "duration": 8,
    "start_time": "2024-02-17T15:49:46.320Z"
   },
   {
    "duration": 142,
    "start_time": "2024-02-17T15:51:12.700Z"
   },
   {
    "duration": 9,
    "start_time": "2024-02-17T15:52:05.258Z"
   },
   {
    "duration": 225,
    "start_time": "2024-02-17T15:53:31.374Z"
   },
   {
    "duration": 48,
    "start_time": "2024-02-18T09:46:45.486Z"
   },
   {
    "duration": 1341,
    "start_time": "2024-02-18T09:46:54.114Z"
   },
   {
    "duration": 246,
    "start_time": "2024-02-18T09:46:55.457Z"
   },
   {
    "duration": 11,
    "start_time": "2024-02-18T09:46:55.705Z"
   },
   {
    "duration": 10,
    "start_time": "2024-02-18T09:46:55.718Z"
   },
   {
    "duration": 10,
    "start_time": "2024-02-18T09:46:55.730Z"
   },
   {
    "duration": 15,
    "start_time": "2024-02-18T09:46:55.741Z"
   },
   {
    "duration": 29,
    "start_time": "2024-02-18T09:46:55.757Z"
   },
   {
    "duration": 7,
    "start_time": "2024-02-18T09:46:55.787Z"
   },
   {
    "duration": 10,
    "start_time": "2024-02-18T09:46:55.795Z"
   },
   {
    "duration": 9,
    "start_time": "2024-02-18T09:46:55.807Z"
   },
   {
    "duration": 7,
    "start_time": "2024-02-18T09:46:55.818Z"
   },
   {
    "duration": 4,
    "start_time": "2024-02-18T09:46:55.827Z"
   },
   {
    "duration": 37,
    "start_time": "2024-02-18T09:46:55.833Z"
   },
   {
    "duration": 7,
    "start_time": "2024-02-18T09:46:55.876Z"
   },
   {
    "duration": 6,
    "start_time": "2024-02-18T09:46:55.885Z"
   },
   {
    "duration": 24,
    "start_time": "2024-02-18T09:46:55.892Z"
   },
   {
    "duration": 17,
    "start_time": "2024-02-18T09:46:55.917Z"
   },
   {
    "duration": 7,
    "start_time": "2024-02-18T09:46:55.936Z"
   },
   {
    "duration": 7,
    "start_time": "2024-02-18T09:46:55.945Z"
   },
   {
    "duration": 4,
    "start_time": "2024-02-18T09:46:55.954Z"
   },
   {
    "duration": 165,
    "start_time": "2024-02-18T09:46:55.960Z"
   },
   {
    "duration": 5,
    "start_time": "2024-02-18T09:46:56.126Z"
   },
   {
    "duration": 106,
    "start_time": "2024-02-18T09:46:56.133Z"
   },
   {
    "duration": 179,
    "start_time": "2024-02-18T09:46:56.241Z"
   },
   {
    "duration": 7,
    "start_time": "2024-02-18T09:46:56.422Z"
   },
   {
    "duration": 150,
    "start_time": "2024-02-18T09:46:56.431Z"
   },
   {
    "duration": 9,
    "start_time": "2024-02-18T09:46:56.583Z"
   },
   {
    "duration": 149,
    "start_time": "2024-02-18T09:46:56.594Z"
   },
   {
    "duration": 200,
    "start_time": "2024-02-18T09:46:56.744Z"
   },
   {
    "duration": 188,
    "start_time": "2024-02-18T09:47:40.991Z"
   },
   {
    "duration": 180,
    "start_time": "2024-02-18T09:48:04.365Z"
   },
   {
    "duration": 238,
    "start_time": "2024-02-18T09:49:39.143Z"
   },
   {
    "duration": 174,
    "start_time": "2024-02-18T09:50:31.777Z"
   },
   {
    "duration": 14,
    "start_time": "2024-02-18T09:52:33.558Z"
   },
   {
    "duration": 160,
    "start_time": "2024-02-18T10:03:00.626Z"
   },
   {
    "duration": 216,
    "start_time": "2024-02-18T10:22:13.743Z"
   },
   {
    "duration": 223,
    "start_time": "2024-02-18T10:37:55.540Z"
   },
   {
    "duration": 289,
    "start_time": "2024-02-18T10:39:28.755Z"
   },
   {
    "duration": 221,
    "start_time": "2024-02-18T10:39:45.063Z"
   },
   {
    "duration": 36,
    "start_time": "2024-02-18T11:17:21.735Z"
   },
   {
    "duration": 12,
    "start_time": "2024-02-18T11:17:52.615Z"
   },
   {
    "duration": 11,
    "start_time": "2024-02-18T11:18:47.107Z"
   },
   {
    "duration": 11,
    "start_time": "2024-02-18T11:19:32.102Z"
   },
   {
    "duration": 10,
    "start_time": "2024-02-18T11:20:25.588Z"
   },
   {
    "duration": 19,
    "start_time": "2024-02-18T11:20:35.577Z"
   },
   {
    "duration": 17,
    "start_time": "2024-02-18T11:21:09.816Z"
   },
   {
    "duration": 66,
    "start_time": "2024-02-18T11:24:01.277Z"
   },
   {
    "duration": 10,
    "start_time": "2024-02-18T11:24:22.944Z"
   },
   {
    "duration": 910,
    "start_time": "2024-02-18T11:24:37.070Z"
   },
   {
    "duration": 929,
    "start_time": "2024-02-18T11:24:48.914Z"
   },
   {
    "duration": 3,
    "start_time": "2024-02-18T11:24:53.635Z"
   },
   {
    "duration": 74,
    "start_time": "2024-02-18T11:24:53.640Z"
   },
   {
    "duration": 9,
    "start_time": "2024-02-18T11:24:53.716Z"
   },
   {
    "duration": 15,
    "start_time": "2024-02-18T11:24:53.726Z"
   },
   {
    "duration": 11,
    "start_time": "2024-02-18T11:24:53.743Z"
   },
   {
    "duration": 19,
    "start_time": "2024-02-18T11:24:53.755Z"
   },
   {
    "duration": 22,
    "start_time": "2024-02-18T11:24:53.775Z"
   },
   {
    "duration": 7,
    "start_time": "2024-02-18T11:24:53.799Z"
   },
   {
    "duration": 21,
    "start_time": "2024-02-18T11:24:53.807Z"
   },
   {
    "duration": 6,
    "start_time": "2024-02-18T11:24:53.829Z"
   },
   {
    "duration": 4,
    "start_time": "2024-02-18T11:24:53.837Z"
   },
   {
    "duration": 25,
    "start_time": "2024-02-18T11:24:53.843Z"
   },
   {
    "duration": 11,
    "start_time": "2024-02-18T11:24:53.870Z"
   },
   {
    "duration": 6,
    "start_time": "2024-02-18T11:24:53.882Z"
   },
   {
    "duration": 5,
    "start_time": "2024-02-18T11:24:53.890Z"
   },
   {
    "duration": 4,
    "start_time": "2024-02-18T11:24:53.896Z"
   },
   {
    "duration": 5,
    "start_time": "2024-02-18T11:24:53.901Z"
   },
   {
    "duration": 7,
    "start_time": "2024-02-18T11:24:53.907Z"
   },
   {
    "duration": 6,
    "start_time": "2024-02-18T11:24:53.916Z"
   },
   {
    "duration": 44,
    "start_time": "2024-02-18T11:24:53.923Z"
   },
   {
    "duration": 147,
    "start_time": "2024-02-18T11:24:53.968Z"
   },
   {
    "duration": 5,
    "start_time": "2024-02-18T11:24:54.117Z"
   },
   {
    "duration": 105,
    "start_time": "2024-02-18T11:24:54.123Z"
   },
   {
    "duration": 7,
    "start_time": "2024-02-18T11:24:54.230Z"
   },
   {
    "duration": 194,
    "start_time": "2024-02-18T11:24:54.238Z"
   },
   {
    "duration": 7,
    "start_time": "2024-02-18T11:24:54.433Z"
   },
   {
    "duration": 190,
    "start_time": "2024-02-18T11:24:54.441Z"
   },
   {
    "duration": 8,
    "start_time": "2024-02-18T11:24:54.632Z"
   },
   {
    "duration": 267,
    "start_time": "2024-02-18T11:24:54.642Z"
   },
   {
    "duration": 9,
    "start_time": "2024-02-18T11:24:54.911Z"
   },
   {
    "duration": 8,
    "start_time": "2024-02-18T11:24:54.921Z"
   },
   {
    "duration": 15,
    "start_time": "2024-02-18T11:24:54.931Z"
   },
   {
    "duration": 939,
    "start_time": "2024-02-18T11:24:54.947Z"
   },
   {
    "duration": 865,
    "start_time": "2024-02-18T11:25:36.884Z"
   },
   {
    "duration": 862,
    "start_time": "2024-02-18T11:25:52.259Z"
   },
   {
    "duration": 985,
    "start_time": "2024-02-18T11:26:20.606Z"
   },
   {
    "duration": 806,
    "start_time": "2024-02-18T11:26:59.148Z"
   },
   {
    "duration": 11,
    "start_time": "2024-02-18T11:30:28.877Z"
   },
   {
    "duration": 850,
    "start_time": "2024-02-18T11:30:46.537Z"
   },
   {
    "duration": 1309,
    "start_time": "2024-02-18T14:02:30.339Z"
   },
   {
    "duration": 199,
    "start_time": "2024-02-18T14:02:31.650Z"
   },
   {
    "duration": 13,
    "start_time": "2024-02-18T14:02:31.850Z"
   },
   {
    "duration": 29,
    "start_time": "2024-02-18T14:02:31.865Z"
   },
   {
    "duration": 31,
    "start_time": "2024-02-18T14:02:31.896Z"
   },
   {
    "duration": 46,
    "start_time": "2024-02-18T14:02:31.929Z"
   },
   {
    "duration": 33,
    "start_time": "2024-02-18T14:02:31.977Z"
   },
   {
    "duration": 21,
    "start_time": "2024-02-18T14:02:32.012Z"
   },
   {
    "duration": 29,
    "start_time": "2024-02-18T14:02:32.035Z"
   },
   {
    "duration": 13,
    "start_time": "2024-02-18T14:02:32.066Z"
   },
   {
    "duration": 38,
    "start_time": "2024-02-18T14:02:32.080Z"
   },
   {
    "duration": 19,
    "start_time": "2024-02-18T14:02:32.119Z"
   },
   {
    "duration": 30,
    "start_time": "2024-02-18T14:02:32.139Z"
   },
   {
    "duration": 17,
    "start_time": "2024-02-18T14:02:32.172Z"
   },
   {
    "duration": 56,
    "start_time": "2024-02-18T14:02:32.190Z"
   },
   {
    "duration": 32,
    "start_time": "2024-02-18T14:02:32.247Z"
   },
   {
    "duration": 22,
    "start_time": "2024-02-18T14:02:32.281Z"
   },
   {
    "duration": 32,
    "start_time": "2024-02-18T14:02:32.304Z"
   },
   {
    "duration": 30,
    "start_time": "2024-02-18T14:02:32.337Z"
   },
   {
    "duration": 39,
    "start_time": "2024-02-18T14:02:32.369Z"
   },
   {
    "duration": 198,
    "start_time": "2024-02-18T14:02:32.409Z"
   },
   {
    "duration": 7,
    "start_time": "2024-02-18T14:02:32.608Z"
   },
   {
    "duration": 100,
    "start_time": "2024-02-18T14:02:32.616Z"
   },
   {
    "duration": 8,
    "start_time": "2024-02-18T14:02:32.717Z"
   },
   {
    "duration": 190,
    "start_time": "2024-02-18T14:02:32.727Z"
   },
   {
    "duration": 7,
    "start_time": "2024-02-18T14:02:32.918Z"
   },
   {
    "duration": 248,
    "start_time": "2024-02-18T14:02:32.926Z"
   },
   {
    "duration": 8,
    "start_time": "2024-02-18T14:02:33.175Z"
   },
   {
    "duration": 205,
    "start_time": "2024-02-18T14:02:33.184Z"
   },
   {
    "duration": 9,
    "start_time": "2024-02-18T14:02:33.390Z"
   },
   {
    "duration": 48,
    "start_time": "2024-02-18T14:02:33.400Z"
   },
   {
    "duration": 26,
    "start_time": "2024-02-18T14:02:33.450Z"
   },
   {
    "duration": 121,
    "start_time": "2024-02-18T14:02:33.477Z"
   },
   {
    "duration": 24,
    "start_time": "2024-02-18T14:03:09.275Z"
   },
   {
    "duration": 8,
    "start_time": "2024-02-18T14:03:17.038Z"
   },
   {
    "duration": 21,
    "start_time": "2024-02-18T14:03:29.007Z"
   },
   {
    "duration": 18,
    "start_time": "2024-02-18T14:04:10.943Z"
   },
   {
    "duration": 17,
    "start_time": "2024-02-18T14:07:12.538Z"
   },
   {
    "duration": 145,
    "start_time": "2024-02-18T14:13:43.933Z"
   },
   {
    "duration": 151,
    "start_time": "2024-02-18T14:14:47.734Z"
   },
   {
    "duration": 143,
    "start_time": "2024-02-18T14:16:20.326Z"
   },
   {
    "duration": 217,
    "start_time": "2024-02-18T14:16:37.071Z"
   },
   {
    "duration": 131,
    "start_time": "2024-02-18T14:16:44.717Z"
   },
   {
    "duration": 100,
    "start_time": "2024-02-18T14:17:05.375Z"
   },
   {
    "duration": 139,
    "start_time": "2024-02-18T14:17:10.612Z"
   },
   {
    "duration": 8,
    "start_time": "2024-02-18T14:18:42.107Z"
   },
   {
    "duration": 137,
    "start_time": "2024-02-18T14:19:03.766Z"
   },
   {
    "duration": 145,
    "start_time": "2024-02-18T14:19:09.804Z"
   },
   {
    "duration": 185,
    "start_time": "2024-02-18T14:19:55.786Z"
   },
   {
    "duration": 190,
    "start_time": "2024-02-18T14:23:17.460Z"
   },
   {
    "duration": 77,
    "start_time": "2024-02-18T14:23:51.959Z"
   },
   {
    "duration": 75,
    "start_time": "2024-02-18T14:24:01.026Z"
   },
   {
    "duration": 82,
    "start_time": "2024-02-18T14:24:34.353Z"
   },
   {
    "duration": 178,
    "start_time": "2024-02-18T14:24:43.823Z"
   },
   {
    "duration": 186,
    "start_time": "2024-02-18T14:24:54.200Z"
   },
   {
    "duration": 174,
    "start_time": "2024-02-18T14:25:45.127Z"
   },
   {
    "duration": 185,
    "start_time": "2024-02-18T14:26:16.104Z"
   },
   {
    "duration": 293,
    "start_time": "2024-02-18T14:28:12.840Z"
   },
   {
    "duration": 166,
    "start_time": "2024-02-18T14:28:45.774Z"
   },
   {
    "duration": 165,
    "start_time": "2024-02-18T14:29:09.249Z"
   },
   {
    "duration": 166,
    "start_time": "2024-02-18T14:29:29.879Z"
   },
   {
    "duration": 30,
    "start_time": "2024-02-18T14:32:22.666Z"
   },
   {
    "duration": 39,
    "start_time": "2024-02-18T14:33:17.771Z"
   },
   {
    "duration": 3,
    "start_time": "2024-02-18T15:08:10.829Z"
   },
   {
    "duration": 89,
    "start_time": "2024-02-18T15:08:10.834Z"
   },
   {
    "duration": 7,
    "start_time": "2024-02-18T15:08:10.925Z"
   },
   {
    "duration": 21,
    "start_time": "2024-02-18T15:08:10.934Z"
   },
   {
    "duration": 11,
    "start_time": "2024-02-18T15:08:10.958Z"
   },
   {
    "duration": 37,
    "start_time": "2024-02-18T15:08:10.971Z"
   },
   {
    "duration": 17,
    "start_time": "2024-02-18T15:08:11.010Z"
   },
   {
    "duration": 7,
    "start_time": "2024-02-18T15:08:11.028Z"
   },
   {
    "duration": 10,
    "start_time": "2024-02-18T15:08:11.036Z"
   },
   {
    "duration": 18,
    "start_time": "2024-02-18T15:08:11.048Z"
   },
   {
    "duration": 10,
    "start_time": "2024-02-18T15:08:11.067Z"
   },
   {
    "duration": 6,
    "start_time": "2024-02-18T15:08:11.079Z"
   },
   {
    "duration": 12,
    "start_time": "2024-02-18T15:08:11.087Z"
   },
   {
    "duration": 6,
    "start_time": "2024-02-18T15:08:11.102Z"
   },
   {
    "duration": 21,
    "start_time": "2024-02-18T15:08:11.110Z"
   },
   {
    "duration": 5,
    "start_time": "2024-02-18T15:08:11.133Z"
   },
   {
    "duration": 19,
    "start_time": "2024-02-18T15:08:11.139Z"
   },
   {
    "duration": 8,
    "start_time": "2024-02-18T15:08:11.160Z"
   },
   {
    "duration": 7,
    "start_time": "2024-02-18T15:08:11.169Z"
   },
   {
    "duration": 8,
    "start_time": "2024-02-18T15:08:11.178Z"
   },
   {
    "duration": 152,
    "start_time": "2024-02-18T15:08:11.187Z"
   },
   {
    "duration": 5,
    "start_time": "2024-02-18T15:08:11.341Z"
   },
   {
    "duration": 98,
    "start_time": "2024-02-18T15:08:11.347Z"
   },
   {
    "duration": 9,
    "start_time": "2024-02-18T15:08:11.447Z"
   },
   {
    "duration": 173,
    "start_time": "2024-02-18T15:08:11.458Z"
   },
   {
    "duration": 16,
    "start_time": "2024-02-18T15:08:11.633Z"
   },
   {
    "duration": 247,
    "start_time": "2024-02-18T15:08:11.650Z"
   },
   {
    "duration": 8,
    "start_time": "2024-02-18T15:08:11.898Z"
   },
   {
    "duration": 200,
    "start_time": "2024-02-18T15:08:11.907Z"
   },
   {
    "duration": 10,
    "start_time": "2024-02-18T15:08:12.109Z"
   },
   {
    "duration": 33,
    "start_time": "2024-02-18T15:08:12.120Z"
   },
   {
    "duration": 35,
    "start_time": "2024-02-18T15:08:12.155Z"
   },
   {
    "duration": 53,
    "start_time": "2024-02-18T15:08:12.192Z"
   },
   {
    "duration": 41,
    "start_time": "2024-02-18T15:08:12.246Z"
   },
   {
    "duration": 215,
    "start_time": "2024-02-18T15:08:12.289Z"
   },
   {
    "duration": 205,
    "start_time": "2024-02-18T15:08:12.505Z"
   },
   {
    "duration": 18,
    "start_time": "2024-02-18T15:08:12.712Z"
   },
   {
    "duration": 137,
    "start_time": "2024-02-18T15:08:12.732Z"
   },
   {
    "duration": 193,
    "start_time": "2024-02-18T15:08:12.871Z"
   },
   {
    "duration": 194,
    "start_time": "2024-02-18T15:08:13.066Z"
   },
   {
    "duration": 79,
    "start_time": "2024-02-18T15:12:59.564Z"
   },
   {
    "duration": 65,
    "start_time": "2024-02-18T15:13:04.446Z"
   },
   {
    "duration": 71,
    "start_time": "2024-02-18T15:16:29.771Z"
   },
   {
    "duration": 73,
    "start_time": "2024-02-18T15:16:46.487Z"
   },
   {
    "duration": 1810,
    "start_time": "2024-02-18T15:17:09.793Z"
   },
   {
    "duration": 1867,
    "start_time": "2024-02-18T15:17:29.620Z"
   },
   {
    "duration": 1854,
    "start_time": "2024-02-18T15:18:55.125Z"
   },
   {
    "duration": 75,
    "start_time": "2024-02-18T15:21:52.648Z"
   },
   {
    "duration": 22,
    "start_time": "2024-02-18T15:22:01.905Z"
   },
   {
    "duration": 68,
    "start_time": "2024-02-18T15:23:31.839Z"
   },
   {
    "duration": 74,
    "start_time": "2024-02-18T15:23:57.130Z"
   },
   {
    "duration": 11,
    "start_time": "2024-02-18T15:24:13.865Z"
   },
   {
    "duration": 906,
    "start_time": "2024-02-18T15:24:28.207Z"
   },
   {
    "duration": 5,
    "start_time": "2024-02-18T15:24:59.337Z"
   },
   {
    "duration": 9,
    "start_time": "2024-02-18T15:25:09.367Z"
   },
   {
    "duration": 4,
    "start_time": "2024-02-18T15:25:16.110Z"
   },
   {
    "duration": 5,
    "start_time": "2024-02-18T15:26:48.287Z"
   },
   {
    "duration": 122,
    "start_time": "2024-02-18T15:27:40.064Z"
   },
   {
    "duration": 108,
    "start_time": "2024-02-18T15:27:49.658Z"
   },
   {
    "duration": 937,
    "start_time": "2024-02-18T15:28:09.322Z"
   },
   {
    "duration": 906,
    "start_time": "2024-02-18T15:28:34.891Z"
   },
   {
    "duration": 12,
    "start_time": "2024-02-18T15:30:49.670Z"
   },
   {
    "duration": 1175,
    "start_time": "2024-02-18T15:35:43.315Z"
   },
   {
    "duration": 8,
    "start_time": "2024-02-18T15:36:03.129Z"
   },
   {
    "duration": 9,
    "start_time": "2024-02-18T15:36:40.610Z"
   },
   {
    "duration": 9,
    "start_time": "2024-02-18T15:37:12.230Z"
   },
   {
    "duration": 3,
    "start_time": "2024-02-18T15:37:23.358Z"
   },
   {
    "duration": 3,
    "start_time": "2024-02-18T15:37:26.415Z"
   },
   {
    "duration": 111,
    "start_time": "2024-02-18T15:37:26.419Z"
   },
   {
    "duration": 8,
    "start_time": "2024-02-18T15:37:26.531Z"
   },
   {
    "duration": 44,
    "start_time": "2024-02-18T15:37:26.541Z"
   },
   {
    "duration": 44,
    "start_time": "2024-02-18T15:37:26.587Z"
   },
   {
    "duration": 31,
    "start_time": "2024-02-18T15:37:26.633Z"
   },
   {
    "duration": 47,
    "start_time": "2024-02-18T15:37:26.666Z"
   },
   {
    "duration": 33,
    "start_time": "2024-02-18T15:37:26.714Z"
   },
   {
    "duration": 37,
    "start_time": "2024-02-18T15:37:26.748Z"
   },
   {
    "duration": 43,
    "start_time": "2024-02-18T15:37:26.787Z"
   },
   {
    "duration": 31,
    "start_time": "2024-02-18T15:37:26.832Z"
   },
   {
    "duration": 32,
    "start_time": "2024-02-18T15:37:26.864Z"
   },
   {
    "duration": 16,
    "start_time": "2024-02-18T15:37:26.897Z"
   },
   {
    "duration": 34,
    "start_time": "2024-02-18T15:37:26.916Z"
   },
   {
    "duration": 51,
    "start_time": "2024-02-18T15:37:26.952Z"
   },
   {
    "duration": 23,
    "start_time": "2024-02-18T15:37:27.004Z"
   },
   {
    "duration": 42,
    "start_time": "2024-02-18T15:37:27.029Z"
   },
   {
    "duration": 23,
    "start_time": "2024-02-18T15:37:27.073Z"
   },
   {
    "duration": 20,
    "start_time": "2024-02-18T15:37:27.098Z"
   },
   {
    "duration": 20,
    "start_time": "2024-02-18T15:37:27.120Z"
   },
   {
    "duration": 163,
    "start_time": "2024-02-18T15:37:27.142Z"
   },
   {
    "duration": 5,
    "start_time": "2024-02-18T15:37:27.306Z"
   },
   {
    "duration": 121,
    "start_time": "2024-02-18T15:37:27.313Z"
   },
   {
    "duration": 13,
    "start_time": "2024-02-18T15:37:27.435Z"
   },
   {
    "duration": 186,
    "start_time": "2024-02-18T15:37:27.450Z"
   },
   {
    "duration": 13,
    "start_time": "2024-02-18T15:37:27.637Z"
   },
   {
    "duration": 268,
    "start_time": "2024-02-18T15:37:27.652Z"
   },
   {
    "duration": 8,
    "start_time": "2024-02-18T15:37:27.922Z"
   },
   {
    "duration": 209,
    "start_time": "2024-02-18T15:37:27.931Z"
   },
   {
    "duration": 21,
    "start_time": "2024-02-18T15:37:28.141Z"
   },
   {
    "duration": 33,
    "start_time": "2024-02-18T15:37:28.164Z"
   },
   {
    "duration": 64,
    "start_time": "2024-02-18T15:37:28.199Z"
   },
   {
    "duration": 51,
    "start_time": "2024-02-18T15:37:28.265Z"
   },
   {
    "duration": 50,
    "start_time": "2024-02-18T15:37:28.318Z"
   },
   {
    "duration": 214,
    "start_time": "2024-02-18T15:37:28.369Z"
   },
   {
    "duration": 201,
    "start_time": "2024-02-18T15:37:28.584Z"
   },
   {
    "duration": 18,
    "start_time": "2024-02-18T15:37:28.786Z"
   },
   {
    "duration": 52,
    "start_time": "2024-02-18T15:37:28.806Z"
   },
   {
    "duration": 197,
    "start_time": "2024-02-18T15:37:28.860Z"
   },
   {
    "duration": 179,
    "start_time": "2024-02-18T15:37:29.059Z"
   },
   {
    "duration": 976,
    "start_time": "2024-02-18T15:37:29.242Z"
   },
   {
    "duration": 1249,
    "start_time": "2024-02-18T15:37:30.220Z"
   },
   {
    "duration": 79,
    "start_time": "2024-02-18T15:37:59.541Z"
   },
   {
    "duration": 74,
    "start_time": "2024-02-18T15:38:28.312Z"
   },
   {
    "duration": 1250,
    "start_time": "2024-02-18T15:38:42.454Z"
   },
   {
    "duration": 4,
    "start_time": "2024-02-18T15:38:57.391Z"
   },
   {
    "duration": 21,
    "start_time": "2024-02-18T15:39:13.531Z"
   },
   {
    "duration": 83,
    "start_time": "2024-02-18T15:45:03.092Z"
   },
   {
    "duration": 96,
    "start_time": "2024-02-18T15:45:22.341Z"
   },
   {
    "duration": 18,
    "start_time": "2024-02-18T15:45:50.454Z"
   },
   {
    "duration": 22,
    "start_time": "2024-02-18T15:46:27.384Z"
   },
   {
    "duration": 16,
    "start_time": "2024-02-18T15:46:30.970Z"
   },
   {
    "duration": 3,
    "start_time": "2024-02-18T15:46:43.217Z"
   },
   {
    "duration": 94,
    "start_time": "2024-02-18T15:46:43.222Z"
   },
   {
    "duration": 11,
    "start_time": "2024-02-18T15:46:43.318Z"
   },
   {
    "duration": 22,
    "start_time": "2024-02-18T15:46:43.330Z"
   },
   {
    "duration": 9,
    "start_time": "2024-02-18T15:46:43.354Z"
   },
   {
    "duration": 124,
    "start_time": "2024-02-18T15:46:43.364Z"
   },
   {
    "duration": 18,
    "start_time": "2024-02-18T15:46:43.489Z"
   },
   {
    "duration": 6,
    "start_time": "2024-02-18T15:46:43.508Z"
   },
   {
    "duration": 31,
    "start_time": "2024-02-18T15:46:43.516Z"
   },
   {
    "duration": 7,
    "start_time": "2024-02-18T15:46:43.549Z"
   },
   {
    "duration": 10,
    "start_time": "2024-02-18T15:46:43.557Z"
   },
   {
    "duration": 18,
    "start_time": "2024-02-18T15:46:43.569Z"
   },
   {
    "duration": 8,
    "start_time": "2024-02-18T15:46:43.588Z"
   },
   {
    "duration": 8,
    "start_time": "2024-02-18T15:46:43.599Z"
   },
   {
    "duration": 7,
    "start_time": "2024-02-18T15:46:43.608Z"
   },
   {
    "duration": 6,
    "start_time": "2024-02-18T15:46:43.616Z"
   },
   {
    "duration": 25,
    "start_time": "2024-02-18T15:46:43.623Z"
   },
   {
    "duration": 28,
    "start_time": "2024-02-18T15:46:43.650Z"
   },
   {
    "duration": 15,
    "start_time": "2024-02-18T15:46:43.679Z"
   },
   {
    "duration": 5,
    "start_time": "2024-02-18T15:46:43.696Z"
   },
   {
    "duration": 145,
    "start_time": "2024-02-18T15:46:43.702Z"
   },
   {
    "duration": 6,
    "start_time": "2024-02-18T15:46:43.848Z"
   },
   {
    "duration": 129,
    "start_time": "2024-02-18T15:46:43.857Z"
   },
   {
    "duration": 6,
    "start_time": "2024-02-18T15:46:43.988Z"
   },
   {
    "duration": 214,
    "start_time": "2024-02-18T15:46:43.995Z"
   },
   {
    "duration": 9,
    "start_time": "2024-02-18T15:46:44.210Z"
   },
   {
    "duration": 215,
    "start_time": "2024-02-18T15:46:44.220Z"
   },
   {
    "duration": 22,
    "start_time": "2024-02-18T15:46:44.437Z"
   },
   {
    "duration": 199,
    "start_time": "2024-02-18T15:46:44.462Z"
   },
   {
    "duration": 10,
    "start_time": "2024-02-18T15:46:44.662Z"
   },
   {
    "duration": 34,
    "start_time": "2024-02-18T15:46:44.673Z"
   },
   {
    "duration": 57,
    "start_time": "2024-02-18T15:46:44.708Z"
   },
   {
    "duration": 21,
    "start_time": "2024-02-18T15:46:44.767Z"
   },
   {
    "duration": 42,
    "start_time": "2024-02-18T15:46:44.790Z"
   },
   {
    "duration": 201,
    "start_time": "2024-02-18T15:46:44.833Z"
   },
   {
    "duration": 198,
    "start_time": "2024-02-18T15:46:45.036Z"
   },
   {
    "duration": 30,
    "start_time": "2024-02-18T15:46:45.235Z"
   },
   {
    "duration": 30,
    "start_time": "2024-02-18T15:46:45.267Z"
   },
   {
    "duration": 218,
    "start_time": "2024-02-18T15:46:45.298Z"
   },
   {
    "duration": 186,
    "start_time": "2024-02-18T15:46:45.518Z"
   },
   {
    "duration": 863,
    "start_time": "2024-02-18T15:46:45.709Z"
   },
   {
    "duration": 22,
    "start_time": "2024-02-18T15:46:46.578Z"
   },
   {
    "duration": 15,
    "start_time": "2024-02-18T15:47:35.998Z"
   },
   {
    "duration": 19,
    "start_time": "2024-02-18T15:48:17.863Z"
   },
   {
    "duration": 884,
    "start_time": "2024-02-18T15:49:42.830Z"
   },
   {
    "duration": 922,
    "start_time": "2024-02-18T15:50:02.774Z"
   },
   {
    "duration": 33,
    "start_time": "2024-02-18T15:51:38.541Z"
   },
   {
    "duration": 13,
    "start_time": "2024-02-18T15:52:31.155Z"
   },
   {
    "duration": 12,
    "start_time": "2024-02-18T15:53:37.589Z"
   },
   {
    "duration": 3,
    "start_time": "2024-02-18T16:01:19.620Z"
   },
   {
    "duration": 147,
    "start_time": "2024-02-18T16:02:52.460Z"
   },
   {
    "duration": 19,
    "start_time": "2024-02-18T16:03:58.230Z"
   },
   {
    "duration": 4,
    "start_time": "2024-02-18T16:04:03.880Z"
   },
   {
    "duration": 76,
    "start_time": "2024-02-18T16:04:03.886Z"
   },
   {
    "duration": 8,
    "start_time": "2024-02-18T16:04:03.964Z"
   },
   {
    "duration": 13,
    "start_time": "2024-02-18T16:04:03.974Z"
   },
   {
    "duration": 20,
    "start_time": "2024-02-18T16:04:03.989Z"
   },
   {
    "duration": 20,
    "start_time": "2024-02-18T16:04:04.011Z"
   },
   {
    "duration": 24,
    "start_time": "2024-02-18T16:04:04.033Z"
   },
   {
    "duration": 6,
    "start_time": "2024-02-18T16:04:04.059Z"
   },
   {
    "duration": 14,
    "start_time": "2024-02-18T16:04:04.068Z"
   },
   {
    "duration": 7,
    "start_time": "2024-02-18T16:04:04.083Z"
   },
   {
    "duration": 15,
    "start_time": "2024-02-18T16:04:04.092Z"
   },
   {
    "duration": 22,
    "start_time": "2024-02-18T16:04:04.109Z"
   },
   {
    "duration": 15,
    "start_time": "2024-02-18T16:04:04.133Z"
   },
   {
    "duration": 9,
    "start_time": "2024-02-18T16:04:04.150Z"
   },
   {
    "duration": 8,
    "start_time": "2024-02-18T16:04:04.161Z"
   },
   {
    "duration": 6,
    "start_time": "2024-02-18T16:04:04.171Z"
   },
   {
    "duration": 6,
    "start_time": "2024-02-18T16:04:04.179Z"
   },
   {
    "duration": 9,
    "start_time": "2024-02-18T16:04:04.186Z"
   },
   {
    "duration": 9,
    "start_time": "2024-02-18T16:04:04.197Z"
   },
   {
    "duration": 42,
    "start_time": "2024-02-18T16:04:04.207Z"
   },
   {
    "duration": 155,
    "start_time": "2024-02-18T16:04:04.251Z"
   },
   {
    "duration": 5,
    "start_time": "2024-02-18T16:04:04.408Z"
   },
   {
    "duration": 206,
    "start_time": "2024-02-18T16:04:04.415Z"
   },
   {
    "duration": 10,
    "start_time": "2024-02-18T16:04:04.625Z"
   },
   {
    "duration": 191,
    "start_time": "2024-02-18T16:04:04.644Z"
   },
   {
    "duration": 25,
    "start_time": "2024-02-18T16:04:04.837Z"
   },
   {
    "duration": 210,
    "start_time": "2024-02-18T16:04:04.864Z"
   },
   {
    "duration": 8,
    "start_time": "2024-02-18T16:04:05.076Z"
   },
   {
    "duration": 226,
    "start_time": "2024-02-18T16:04:05.086Z"
   },
   {
    "duration": 10,
    "start_time": "2024-02-18T16:04:05.314Z"
   },
   {
    "duration": 10,
    "start_time": "2024-02-18T16:04:05.326Z"
   },
   {
    "duration": 23,
    "start_time": "2024-02-18T16:04:05.354Z"
   },
   {
    "duration": 21,
    "start_time": "2024-02-18T16:04:05.378Z"
   },
   {
    "duration": 29,
    "start_time": "2024-02-18T16:04:05.401Z"
   },
   {
    "duration": 255,
    "start_time": "2024-02-18T16:04:05.432Z"
   },
   {
    "duration": 215,
    "start_time": "2024-02-18T16:04:05.689Z"
   },
   {
    "duration": 19,
    "start_time": "2024-02-18T16:04:05.906Z"
   },
   {
    "duration": 52,
    "start_time": "2024-02-18T16:04:05.926Z"
   },
   {
    "duration": 199,
    "start_time": "2024-02-18T16:04:05.979Z"
   },
   {
    "duration": 205,
    "start_time": "2024-02-18T16:04:06.179Z"
   },
   {
    "duration": 874,
    "start_time": "2024-02-18T16:04:06.386Z"
   },
   {
    "duration": 15,
    "start_time": "2024-02-18T16:04:07.262Z"
   },
   {
    "duration": 18,
    "start_time": "2024-02-18T16:04:07.279Z"
   },
   {
    "duration": 150,
    "start_time": "2024-02-18T16:04:07.298Z"
   },
   {
    "duration": 3,
    "start_time": "2024-02-18T16:04:22.629Z"
   },
   {
    "duration": 1281,
    "start_time": "2024-02-19T08:24:36.227Z"
   },
   {
    "duration": 281,
    "start_time": "2024-02-19T08:24:37.510Z"
   },
   {
    "duration": 11,
    "start_time": "2024-02-19T08:24:37.792Z"
   },
   {
    "duration": 29,
    "start_time": "2024-02-19T08:24:37.804Z"
   },
   {
    "duration": 26,
    "start_time": "2024-02-19T08:24:37.835Z"
   },
   {
    "duration": 40,
    "start_time": "2024-02-19T08:24:37.862Z"
   },
   {
    "duration": 18,
    "start_time": "2024-02-19T08:24:37.903Z"
   },
   {
    "duration": 33,
    "start_time": "2024-02-19T08:24:37.922Z"
   },
   {
    "duration": 22,
    "start_time": "2024-02-19T08:24:37.956Z"
   },
   {
    "duration": 30,
    "start_time": "2024-02-19T08:24:37.980Z"
   },
   {
    "duration": 22,
    "start_time": "2024-02-19T08:24:38.011Z"
   },
   {
    "duration": 30,
    "start_time": "2024-02-19T08:24:38.035Z"
   },
   {
    "duration": 38,
    "start_time": "2024-02-19T08:24:38.067Z"
   },
   {
    "duration": 19,
    "start_time": "2024-02-19T08:24:38.108Z"
   },
   {
    "duration": 50,
    "start_time": "2024-02-19T08:24:38.128Z"
   },
   {
    "duration": 14,
    "start_time": "2024-02-19T08:24:38.180Z"
   },
   {
    "duration": 37,
    "start_time": "2024-02-19T08:24:38.196Z"
   },
   {
    "duration": 38,
    "start_time": "2024-02-19T08:24:38.235Z"
   },
   {
    "duration": 41,
    "start_time": "2024-02-19T08:24:38.274Z"
   },
   {
    "duration": 44,
    "start_time": "2024-02-19T08:24:38.316Z"
   },
   {
    "duration": 180,
    "start_time": "2024-02-19T08:24:38.361Z"
   },
   {
    "duration": 5,
    "start_time": "2024-02-19T08:24:38.542Z"
   },
   {
    "duration": 114,
    "start_time": "2024-02-19T08:24:38.549Z"
   },
   {
    "duration": 8,
    "start_time": "2024-02-19T08:24:38.664Z"
   },
   {
    "duration": 190,
    "start_time": "2024-02-19T08:24:38.673Z"
   },
   {
    "duration": 7,
    "start_time": "2024-02-19T08:24:38.865Z"
   },
   {
    "duration": 202,
    "start_time": "2024-02-19T08:24:38.874Z"
   },
   {
    "duration": 12,
    "start_time": "2024-02-19T08:24:39.078Z"
   },
   {
    "duration": 208,
    "start_time": "2024-02-19T08:24:39.091Z"
   },
   {
    "duration": 9,
    "start_time": "2024-02-19T08:24:39.300Z"
   },
   {
    "duration": 17,
    "start_time": "2024-02-19T08:24:39.311Z"
   },
   {
    "duration": 27,
    "start_time": "2024-02-19T08:24:39.329Z"
   },
   {
    "duration": 25,
    "start_time": "2024-02-19T08:24:39.357Z"
   },
   {
    "duration": 33,
    "start_time": "2024-02-19T08:24:39.383Z"
   },
   {
    "duration": 194,
    "start_time": "2024-02-19T08:24:39.417Z"
   },
   {
    "duration": 199,
    "start_time": "2024-02-19T08:24:39.612Z"
   },
   {
    "duration": 19,
    "start_time": "2024-02-19T08:24:39.813Z"
   },
   {
    "duration": 39,
    "start_time": "2024-02-19T08:24:39.833Z"
   },
   {
    "duration": 192,
    "start_time": "2024-02-19T08:24:39.873Z"
   },
   {
    "duration": 261,
    "start_time": "2024-02-19T08:24:40.066Z"
   },
   {
    "duration": 857,
    "start_time": "2024-02-19T08:24:40.331Z"
   },
   {
    "duration": 11,
    "start_time": "2024-02-19T08:24:41.190Z"
   },
   {
    "duration": 4,
    "start_time": "2024-02-19T08:24:41.203Z"
   },
   {
    "duration": 162,
    "start_time": "2024-02-19T08:24:41.208Z"
   },
   {
    "duration": 3,
    "start_time": "2024-02-19T08:27:11.780Z"
   },
   {
    "duration": 150,
    "start_time": "2024-02-19T08:27:24.432Z"
   },
   {
    "duration": 13,
    "start_time": "2024-02-19T08:41:54.183Z"
   },
   {
    "duration": 13,
    "start_time": "2024-02-19T08:42:33.270Z"
   },
   {
    "duration": 13,
    "start_time": "2024-02-19T08:49:45.740Z"
   },
   {
    "duration": 3,
    "start_time": "2024-02-19T08:49:47.558Z"
   },
   {
    "duration": 81,
    "start_time": "2024-02-19T08:49:47.563Z"
   },
   {
    "duration": 8,
    "start_time": "2024-02-19T08:49:47.645Z"
   },
   {
    "duration": 26,
    "start_time": "2024-02-19T08:49:47.655Z"
   },
   {
    "duration": 10,
    "start_time": "2024-02-19T08:49:47.683Z"
   },
   {
    "duration": 23,
    "start_time": "2024-02-19T08:49:47.694Z"
   },
   {
    "duration": 23,
    "start_time": "2024-02-19T08:49:47.718Z"
   },
   {
    "duration": 6,
    "start_time": "2024-02-19T08:49:47.742Z"
   },
   {
    "duration": 20,
    "start_time": "2024-02-19T08:49:47.750Z"
   },
   {
    "duration": 10,
    "start_time": "2024-02-19T08:49:47.771Z"
   },
   {
    "duration": 39,
    "start_time": "2024-02-19T08:49:47.782Z"
   },
   {
    "duration": 52,
    "start_time": "2024-02-19T08:49:47.823Z"
   },
   {
    "duration": 60,
    "start_time": "2024-02-19T08:49:47.876Z"
   },
   {
    "duration": 21,
    "start_time": "2024-02-19T08:49:47.939Z"
   },
   {
    "duration": 10,
    "start_time": "2024-02-19T08:49:47.961Z"
   },
   {
    "duration": 10,
    "start_time": "2024-02-19T08:49:47.972Z"
   },
   {
    "duration": 6,
    "start_time": "2024-02-19T08:49:47.983Z"
   },
   {
    "duration": 8,
    "start_time": "2024-02-19T08:49:47.990Z"
   },
   {
    "duration": 6,
    "start_time": "2024-02-19T08:49:47.999Z"
   },
   {
    "duration": 9,
    "start_time": "2024-02-19T08:49:48.007Z"
   },
   {
    "duration": 151,
    "start_time": "2024-02-19T08:49:48.018Z"
   },
   {
    "duration": 6,
    "start_time": "2024-02-19T08:49:48.170Z"
   },
   {
    "duration": 98,
    "start_time": "2024-02-19T08:49:48.177Z"
   },
   {
    "duration": 15,
    "start_time": "2024-02-19T08:49:48.277Z"
   },
   {
    "duration": 168,
    "start_time": "2024-02-19T08:49:48.294Z"
   },
   {
    "duration": 8,
    "start_time": "2024-02-19T08:49:48.463Z"
   },
   {
    "duration": 209,
    "start_time": "2024-02-19T08:49:48.472Z"
   },
   {
    "duration": 8,
    "start_time": "2024-02-19T08:49:48.687Z"
   },
   {
    "duration": 198,
    "start_time": "2024-02-19T08:49:48.697Z"
   },
   {
    "duration": 10,
    "start_time": "2024-02-19T08:49:48.897Z"
   },
   {
    "duration": 9,
    "start_time": "2024-02-19T08:49:48.909Z"
   },
   {
    "duration": 18,
    "start_time": "2024-02-19T08:49:48.920Z"
   },
   {
    "duration": 49,
    "start_time": "2024-02-19T08:49:48.939Z"
   },
   {
    "duration": 31,
    "start_time": "2024-02-19T08:49:48.990Z"
   },
   {
    "duration": 213,
    "start_time": "2024-02-19T08:49:49.023Z"
   },
   {
    "duration": 212,
    "start_time": "2024-02-19T08:49:49.238Z"
   },
   {
    "duration": 20,
    "start_time": "2024-02-19T08:49:49.451Z"
   },
   {
    "duration": 41,
    "start_time": "2024-02-19T08:49:49.473Z"
   },
   {
    "duration": 203,
    "start_time": "2024-02-19T08:49:49.515Z"
   },
   {
    "duration": 268,
    "start_time": "2024-02-19T08:49:49.719Z"
   },
   {
    "duration": 844,
    "start_time": "2024-02-19T08:49:49.991Z"
   },
   {
    "duration": 11,
    "start_time": "2024-02-19T08:49:50.836Z"
   },
   {
    "duration": 16,
    "start_time": "2024-02-19T08:49:50.849Z"
   },
   {
    "duration": 145,
    "start_time": "2024-02-19T08:49:50.867Z"
   },
   {
    "duration": 12,
    "start_time": "2024-02-19T08:49:51.013Z"
   },
   {
    "duration": 47,
    "start_time": "2024-02-19T11:51:13.536Z"
   },
   {
    "duration": 1346,
    "start_time": "2024-02-19T11:51:15.520Z"
   },
   {
    "duration": 206,
    "start_time": "2024-02-19T11:51:16.868Z"
   },
   {
    "duration": 13,
    "start_time": "2024-02-19T11:51:17.076Z"
   },
   {
    "duration": 14,
    "start_time": "2024-02-19T11:51:17.090Z"
   },
   {
    "duration": 18,
    "start_time": "2024-02-19T11:51:17.106Z"
   },
   {
    "duration": 11,
    "start_time": "2024-02-19T11:51:17.125Z"
   },
   {
    "duration": 18,
    "start_time": "2024-02-19T11:51:17.138Z"
   },
   {
    "duration": 7,
    "start_time": "2024-02-19T11:51:17.158Z"
   },
   {
    "duration": 11,
    "start_time": "2024-02-19T11:51:17.167Z"
   },
   {
    "duration": 7,
    "start_time": "2024-02-19T11:51:17.180Z"
   },
   {
    "duration": 11,
    "start_time": "2024-02-19T11:51:17.188Z"
   },
   {
    "duration": 6,
    "start_time": "2024-02-19T11:51:17.200Z"
   },
   {
    "duration": 6,
    "start_time": "2024-02-19T11:51:17.234Z"
   },
   {
    "duration": 17,
    "start_time": "2024-02-19T11:51:17.243Z"
   },
   {
    "duration": 21,
    "start_time": "2024-02-19T11:51:17.262Z"
   },
   {
    "duration": 6,
    "start_time": "2024-02-19T11:51:17.284Z"
   },
   {
    "duration": 6,
    "start_time": "2024-02-19T11:51:17.292Z"
   },
   {
    "duration": 19,
    "start_time": "2024-02-19T11:51:17.300Z"
   },
   {
    "duration": 19,
    "start_time": "2024-02-19T11:51:17.321Z"
   },
   {
    "duration": 8,
    "start_time": "2024-02-19T11:51:17.342Z"
   },
   {
    "duration": 181,
    "start_time": "2024-02-19T11:51:17.352Z"
   },
   {
    "duration": 6,
    "start_time": "2024-02-19T11:51:17.535Z"
   },
   {
    "duration": 117,
    "start_time": "2024-02-19T11:51:17.542Z"
   },
   {
    "duration": 8,
    "start_time": "2024-02-19T11:51:17.660Z"
   },
   {
    "duration": 193,
    "start_time": "2024-02-19T11:51:17.669Z"
   },
   {
    "duration": 8,
    "start_time": "2024-02-19T11:51:17.863Z"
   },
   {
    "duration": 209,
    "start_time": "2024-02-19T11:51:17.872Z"
   },
   {
    "duration": 8,
    "start_time": "2024-02-19T11:51:18.083Z"
   },
   {
    "duration": 222,
    "start_time": "2024-02-19T11:51:18.093Z"
   },
   {
    "duration": 20,
    "start_time": "2024-02-19T11:51:18.317Z"
   },
   {
    "duration": 18,
    "start_time": "2024-02-19T11:51:18.339Z"
   },
   {
    "duration": 18,
    "start_time": "2024-02-19T11:51:18.359Z"
   },
   {
    "duration": 21,
    "start_time": "2024-02-19T11:51:18.378Z"
   },
   {
    "duration": 47,
    "start_time": "2024-02-19T11:51:18.401Z"
   },
   {
    "duration": 205,
    "start_time": "2024-02-19T11:51:18.450Z"
   },
   {
    "duration": 206,
    "start_time": "2024-02-19T11:51:18.657Z"
   },
   {
    "duration": 22,
    "start_time": "2024-02-19T11:51:18.864Z"
   },
   {
    "duration": 47,
    "start_time": "2024-02-19T11:51:18.887Z"
   },
   {
    "duration": 187,
    "start_time": "2024-02-19T11:51:18.935Z"
   },
   {
    "duration": 276,
    "start_time": "2024-02-19T11:51:19.132Z"
   },
   {
    "duration": 902,
    "start_time": "2024-02-19T11:51:19.414Z"
   },
   {
    "duration": 17,
    "start_time": "2024-02-19T11:51:20.317Z"
   },
   {
    "duration": 6,
    "start_time": "2024-02-19T11:51:20.335Z"
   },
   {
    "duration": 149,
    "start_time": "2024-02-19T11:51:20.342Z"
   },
   {
    "duration": 11,
    "start_time": "2024-02-19T11:51:20.493Z"
   },
   {
    "duration": 75,
    "start_time": "2024-02-19T11:51:20.506Z"
   },
   {
    "duration": 5,
    "start_time": "2024-02-19T11:51:27.957Z"
   },
   {
    "duration": 5,
    "start_time": "2024-02-19T11:52:11.964Z"
   },
   {
    "duration": 5,
    "start_time": "2024-02-19T11:57:38.777Z"
   },
   {
    "duration": 8,
    "start_time": "2024-02-19T12:05:04.940Z"
   },
   {
    "duration": 8,
    "start_time": "2024-02-19T12:06:04.095Z"
   },
   {
    "duration": 7,
    "start_time": "2024-02-19T12:06:13.711Z"
   },
   {
    "duration": 2,
    "start_time": "2024-02-19T12:06:52.541Z"
   },
   {
    "duration": 12,
    "start_time": "2024-02-19T12:06:53.925Z"
   },
   {
    "duration": 8,
    "start_time": "2024-02-19T12:07:07.434Z"
   },
   {
    "duration": 5,
    "start_time": "2024-02-19T12:07:36.847Z"
   },
   {
    "duration": 795,
    "start_time": "2024-02-19T12:08:36.601Z"
   },
   {
    "duration": 855,
    "start_time": "2024-02-19T12:09:07.447Z"
   },
   {
    "duration": 781,
    "start_time": "2024-02-19T12:10:32.373Z"
   },
   {
    "duration": 135,
    "start_time": "2024-02-19T12:12:48.690Z"
   },
   {
    "duration": 98,
    "start_time": "2024-02-19T12:13:26.792Z"
   },
   {
    "duration": 0,
    "start_time": "2024-02-19T12:16:19.597Z"
   },
   {
    "duration": 0,
    "start_time": "2024-02-19T12:16:19.598Z"
   },
   {
    "duration": 0,
    "start_time": "2024-02-19T12:16:19.599Z"
   },
   {
    "duration": 0,
    "start_time": "2024-02-19T12:16:19.600Z"
   },
   {
    "duration": 0,
    "start_time": "2024-02-19T12:16:19.601Z"
   },
   {
    "duration": 0,
    "start_time": "2024-02-19T12:16:19.602Z"
   },
   {
    "duration": 0,
    "start_time": "2024-02-19T12:16:19.603Z"
   },
   {
    "duration": 0,
    "start_time": "2024-02-19T12:16:19.604Z"
   },
   {
    "duration": 0,
    "start_time": "2024-02-19T12:16:19.605Z"
   },
   {
    "duration": 0,
    "start_time": "2024-02-19T12:16:19.633Z"
   },
   {
    "duration": 0,
    "start_time": "2024-02-19T12:16:19.634Z"
   },
   {
    "duration": 0,
    "start_time": "2024-02-19T12:16:19.635Z"
   },
   {
    "duration": 0,
    "start_time": "2024-02-19T12:16:19.636Z"
   },
   {
    "duration": 0,
    "start_time": "2024-02-19T12:16:19.637Z"
   },
   {
    "duration": 0,
    "start_time": "2024-02-19T12:16:19.638Z"
   },
   {
    "duration": 0,
    "start_time": "2024-02-19T12:16:19.639Z"
   },
   {
    "duration": 0,
    "start_time": "2024-02-19T12:16:19.641Z"
   },
   {
    "duration": 0,
    "start_time": "2024-02-19T12:16:19.642Z"
   },
   {
    "duration": 0,
    "start_time": "2024-02-19T12:16:19.643Z"
   },
   {
    "duration": 0,
    "start_time": "2024-02-19T12:16:19.644Z"
   },
   {
    "duration": 0,
    "start_time": "2024-02-19T12:16:19.645Z"
   },
   {
    "duration": 0,
    "start_time": "2024-02-19T12:16:19.646Z"
   },
   {
    "duration": 0,
    "start_time": "2024-02-19T12:16:19.647Z"
   },
   {
    "duration": 0,
    "start_time": "2024-02-19T12:16:19.648Z"
   },
   {
    "duration": 0,
    "start_time": "2024-02-19T12:16:19.649Z"
   },
   {
    "duration": 0,
    "start_time": "2024-02-19T12:16:19.650Z"
   },
   {
    "duration": 0,
    "start_time": "2024-02-19T12:16:19.650Z"
   },
   {
    "duration": 0,
    "start_time": "2024-02-19T12:16:19.651Z"
   },
   {
    "duration": 0,
    "start_time": "2024-02-19T12:16:19.653Z"
   },
   {
    "duration": 0,
    "start_time": "2024-02-19T12:16:19.653Z"
   },
   {
    "duration": 0,
    "start_time": "2024-02-19T12:16:19.654Z"
   },
   {
    "duration": 0,
    "start_time": "2024-02-19T12:16:19.655Z"
   },
   {
    "duration": 0,
    "start_time": "2024-02-19T12:16:19.656Z"
   },
   {
    "duration": 0,
    "start_time": "2024-02-19T12:16:19.657Z"
   },
   {
    "duration": 0,
    "start_time": "2024-02-19T12:16:19.658Z"
   },
   {
    "duration": 0,
    "start_time": "2024-02-19T12:16:19.659Z"
   },
   {
    "duration": 0,
    "start_time": "2024-02-19T12:16:19.660Z"
   },
   {
    "duration": 0,
    "start_time": "2024-02-19T12:16:19.661Z"
   },
   {
    "duration": 0,
    "start_time": "2024-02-19T12:16:19.662Z"
   },
   {
    "duration": 0,
    "start_time": "2024-02-19T12:16:19.663Z"
   },
   {
    "duration": 0,
    "start_time": "2024-02-19T12:16:19.666Z"
   },
   {
    "duration": 0,
    "start_time": "2024-02-19T12:16:19.666Z"
   },
   {
    "duration": 0,
    "start_time": "2024-02-19T12:16:19.667Z"
   },
   {
    "duration": 0,
    "start_time": "2024-02-19T12:16:19.668Z"
   },
   {
    "duration": 0,
    "start_time": "2024-02-19T12:16:19.669Z"
   },
   {
    "duration": 0,
    "start_time": "2024-02-19T12:16:19.734Z"
   },
   {
    "duration": 0,
    "start_time": "2024-02-19T12:16:19.735Z"
   },
   {
    "duration": 0,
    "start_time": "2024-02-19T12:16:19.736Z"
   },
   {
    "duration": 3,
    "start_time": "2024-02-19T12:16:22.584Z"
   },
   {
    "duration": 71,
    "start_time": "2024-02-19T12:16:22.588Z"
   },
   {
    "duration": 8,
    "start_time": "2024-02-19T12:16:22.660Z"
   },
   {
    "duration": 13,
    "start_time": "2024-02-19T12:16:22.670Z"
   },
   {
    "duration": 21,
    "start_time": "2024-02-19T12:16:22.685Z"
   },
   {
    "duration": 20,
    "start_time": "2024-02-19T12:16:22.707Z"
   },
   {
    "duration": 19,
    "start_time": "2024-02-19T12:16:22.733Z"
   },
   {
    "duration": 7,
    "start_time": "2024-02-19T12:16:22.754Z"
   },
   {
    "duration": 18,
    "start_time": "2024-02-19T12:16:22.763Z"
   },
   {
    "duration": 7,
    "start_time": "2024-02-19T12:16:22.783Z"
   },
   {
    "duration": 5,
    "start_time": "2024-02-19T12:16:22.791Z"
   },
   {
    "duration": 5,
    "start_time": "2024-02-19T12:16:22.798Z"
   },
   {
    "duration": 6,
    "start_time": "2024-02-19T12:16:22.834Z"
   },
   {
    "duration": 16,
    "start_time": "2024-02-19T12:16:22.844Z"
   },
   {
    "duration": 9,
    "start_time": "2024-02-19T12:16:22.861Z"
   },
   {
    "duration": 6,
    "start_time": "2024-02-19T12:16:22.871Z"
   },
   {
    "duration": 8,
    "start_time": "2024-02-19T12:16:22.878Z"
   },
   {
    "duration": 47,
    "start_time": "2024-02-19T12:16:22.887Z"
   },
   {
    "duration": 8,
    "start_time": "2024-02-19T12:16:22.935Z"
   },
   {
    "duration": 6,
    "start_time": "2024-02-19T12:16:22.944Z"
   },
   {
    "duration": 163,
    "start_time": "2024-02-19T12:16:22.951Z"
   },
   {
    "duration": 5,
    "start_time": "2024-02-19T12:16:23.116Z"
   },
   {
    "duration": 113,
    "start_time": "2024-02-19T12:16:23.122Z"
   },
   {
    "duration": 7,
    "start_time": "2024-02-19T12:16:23.236Z"
   },
   {
    "duration": 191,
    "start_time": "2024-02-19T12:16:23.245Z"
   },
   {
    "duration": 8,
    "start_time": "2024-02-19T12:16:23.437Z"
   },
   {
    "duration": 208,
    "start_time": "2024-02-19T12:16:23.446Z"
   },
   {
    "duration": 8,
    "start_time": "2024-02-19T12:16:23.655Z"
   },
   {
    "duration": 223,
    "start_time": "2024-02-19T12:16:23.665Z"
   },
   {
    "duration": 11,
    "start_time": "2024-02-19T12:16:23.889Z"
   },
   {
    "duration": 9,
    "start_time": "2024-02-19T12:16:23.902Z"
   },
   {
    "duration": 37,
    "start_time": "2024-02-19T12:16:23.912Z"
   },
   {
    "duration": 21,
    "start_time": "2024-02-19T12:16:23.950Z"
   },
   {
    "duration": 51,
    "start_time": "2024-02-19T12:16:23.973Z"
   },
   {
    "duration": 219,
    "start_time": "2024-02-19T12:16:24.026Z"
   },
   {
    "duration": 206,
    "start_time": "2024-02-19T12:16:24.247Z"
   },
   {
    "duration": 19,
    "start_time": "2024-02-19T12:16:24.454Z"
   },
   {
    "duration": 32,
    "start_time": "2024-02-19T12:16:24.475Z"
   },
   {
    "duration": 188,
    "start_time": "2024-02-19T12:16:24.509Z"
   },
   {
    "duration": 181,
    "start_time": "2024-02-19T12:16:24.699Z"
   },
   {
    "duration": 847,
    "start_time": "2024-02-19T12:16:24.885Z"
   },
   {
    "duration": 15,
    "start_time": "2024-02-19T12:16:25.734Z"
   },
   {
    "duration": 16,
    "start_time": "2024-02-19T12:16:25.750Z"
   },
   {
    "duration": 160,
    "start_time": "2024-02-19T12:16:25.768Z"
   },
   {
    "duration": 12,
    "start_time": "2024-02-19T12:16:25.930Z"
   },
   {
    "duration": 7,
    "start_time": "2024-02-19T12:16:25.943Z"
   },
   {
    "duration": 769,
    "start_time": "2024-02-19T12:16:25.951Z"
   },
   {
    "duration": 140,
    "start_time": "2024-02-19T12:16:26.722Z"
   },
   {
    "duration": 161,
    "start_time": "2024-02-19T12:16:49.562Z"
   },
   {
    "duration": 149,
    "start_time": "2024-02-19T12:17:06.211Z"
   },
   {
    "duration": 157,
    "start_time": "2024-02-19T12:17:22.641Z"
   },
   {
    "duration": 178,
    "start_time": "2024-02-19T12:17:49.605Z"
   },
   {
    "duration": 200,
    "start_time": "2024-02-19T12:22:11.650Z"
   },
   {
    "duration": 214,
    "start_time": "2024-02-19T12:22:23.386Z"
   },
   {
    "duration": 7,
    "start_time": "2024-02-19T12:59:02.511Z"
   },
   {
    "duration": 6,
    "start_time": "2024-02-19T12:59:25.647Z"
   },
   {
    "duration": 4,
    "start_time": "2024-02-19T12:59:50.557Z"
   },
   {
    "duration": 5,
    "start_time": "2024-02-19T13:06:49.399Z"
   },
   {
    "duration": 14,
    "start_time": "2024-02-19T13:10:29.830Z"
   },
   {
    "duration": 9,
    "start_time": "2024-02-19T13:10:58.892Z"
   },
   {
    "duration": 8,
    "start_time": "2024-02-19T13:11:18.854Z"
   },
   {
    "duration": 3,
    "start_time": "2024-02-19T13:11:22.863Z"
   },
   {
    "duration": 79,
    "start_time": "2024-02-19T13:11:22.867Z"
   },
   {
    "duration": 9,
    "start_time": "2024-02-19T13:11:22.948Z"
   },
   {
    "duration": 12,
    "start_time": "2024-02-19T13:11:22.959Z"
   },
   {
    "duration": 9,
    "start_time": "2024-02-19T13:11:22.972Z"
   },
   {
    "duration": 11,
    "start_time": "2024-02-19T13:11:22.982Z"
   },
   {
    "duration": 28,
    "start_time": "2024-02-19T13:11:22.994Z"
   },
   {
    "duration": 13,
    "start_time": "2024-02-19T13:11:23.024Z"
   },
   {
    "duration": 12,
    "start_time": "2024-02-19T13:11:23.039Z"
   },
   {
    "duration": 13,
    "start_time": "2024-02-19T13:11:23.054Z"
   },
   {
    "duration": 10,
    "start_time": "2024-02-19T13:11:23.068Z"
   },
   {
    "duration": 12,
    "start_time": "2024-02-19T13:11:23.080Z"
   },
   {
    "duration": 10,
    "start_time": "2024-02-19T13:11:23.094Z"
   },
   {
    "duration": 27,
    "start_time": "2024-02-19T13:11:23.106Z"
   },
   {
    "duration": 6,
    "start_time": "2024-02-19T13:11:23.135Z"
   },
   {
    "duration": 39,
    "start_time": "2024-02-19T13:11:23.142Z"
   },
   {
    "duration": 30,
    "start_time": "2024-02-19T13:11:23.183Z"
   },
   {
    "duration": 9,
    "start_time": "2024-02-19T13:11:23.215Z"
   },
   {
    "duration": 7,
    "start_time": "2024-02-19T13:11:23.225Z"
   },
   {
    "duration": 6,
    "start_time": "2024-02-19T13:11:23.233Z"
   },
   {
    "duration": 159,
    "start_time": "2024-02-19T13:11:23.240Z"
   },
   {
    "duration": 5,
    "start_time": "2024-02-19T13:11:23.401Z"
   },
   {
    "duration": 102,
    "start_time": "2024-02-19T13:11:23.407Z"
   },
   {
    "duration": 7,
    "start_time": "2024-02-19T13:11:23.511Z"
   },
   {
    "duration": 185,
    "start_time": "2024-02-19T13:11:23.519Z"
   },
   {
    "duration": 7,
    "start_time": "2024-02-19T13:11:23.706Z"
   },
   {
    "duration": 232,
    "start_time": "2024-02-19T13:11:23.715Z"
   },
   {
    "duration": 9,
    "start_time": "2024-02-19T13:11:23.952Z"
   },
   {
    "duration": 208,
    "start_time": "2024-02-19T13:11:23.962Z"
   },
   {
    "duration": 10,
    "start_time": "2024-02-19T13:11:24.171Z"
   },
   {
    "duration": 8,
    "start_time": "2024-02-19T13:11:24.182Z"
   },
   {
    "duration": 36,
    "start_time": "2024-02-19T13:11:24.191Z"
   },
   {
    "duration": 21,
    "start_time": "2024-02-19T13:11:24.228Z"
   },
   {
    "duration": 31,
    "start_time": "2024-02-19T13:11:24.251Z"
   },
   {
    "duration": 205,
    "start_time": "2024-02-19T13:11:24.284Z"
   },
   {
    "duration": 189,
    "start_time": "2024-02-19T13:11:24.491Z"
   },
   {
    "duration": 18,
    "start_time": "2024-02-19T13:11:24.682Z"
   },
   {
    "duration": 37,
    "start_time": "2024-02-19T13:11:24.701Z"
   },
   {
    "duration": 176,
    "start_time": "2024-02-19T13:11:24.739Z"
   },
   {
    "duration": 186,
    "start_time": "2024-02-19T13:11:24.917Z"
   },
   {
    "duration": 826,
    "start_time": "2024-02-19T13:11:25.105Z"
   },
   {
    "duration": 12,
    "start_time": "2024-02-19T13:11:25.933Z"
   },
   {
    "duration": 7,
    "start_time": "2024-02-19T13:11:25.946Z"
   },
   {
    "duration": 145,
    "start_time": "2024-02-19T13:11:25.954Z"
   },
   {
    "duration": 11,
    "start_time": "2024-02-19T13:11:26.100Z"
   },
   {
    "duration": 21,
    "start_time": "2024-02-19T13:11:26.113Z"
   },
   {
    "duration": 4,
    "start_time": "2024-02-19T13:11:26.136Z"
   },
   {
    "duration": 14,
    "start_time": "2024-02-19T13:11:26.141Z"
   },
   {
    "duration": 5,
    "start_time": "2024-02-19T13:27:17.941Z"
   },
   {
    "duration": 4,
    "start_time": "2024-02-19T14:40:08.996Z"
   },
   {
    "duration": 67,
    "start_time": "2024-02-19T14:40:09.006Z"
   },
   {
    "duration": 8,
    "start_time": "2024-02-19T14:40:09.075Z"
   },
   {
    "duration": 12,
    "start_time": "2024-02-19T14:40:09.085Z"
   },
   {
    "duration": 9,
    "start_time": "2024-02-19T14:40:09.098Z"
   },
   {
    "duration": 9,
    "start_time": "2024-02-19T14:40:09.109Z"
   },
   {
    "duration": 26,
    "start_time": "2024-02-19T14:40:09.119Z"
   },
   {
    "duration": 6,
    "start_time": "2024-02-19T14:40:09.146Z"
   },
   {
    "duration": 18,
    "start_time": "2024-02-19T14:40:09.153Z"
   },
   {
    "duration": 13,
    "start_time": "2024-02-19T14:40:09.172Z"
   },
   {
    "duration": 9,
    "start_time": "2024-02-19T14:40:09.186Z"
   },
   {
    "duration": 5,
    "start_time": "2024-02-19T14:40:09.197Z"
   },
   {
    "duration": 6,
    "start_time": "2024-02-19T14:40:09.203Z"
   },
   {
    "duration": 24,
    "start_time": "2024-02-19T14:40:09.210Z"
   },
   {
    "duration": 4,
    "start_time": "2024-02-19T14:40:09.237Z"
   },
   {
    "duration": 4,
    "start_time": "2024-02-19T14:40:09.243Z"
   },
   {
    "duration": 5,
    "start_time": "2024-02-19T14:40:09.248Z"
   },
   {
    "duration": 6,
    "start_time": "2024-02-19T14:40:09.255Z"
   },
   {
    "duration": 6,
    "start_time": "2024-02-19T14:40:09.263Z"
   },
   {
    "duration": 5,
    "start_time": "2024-02-19T14:40:09.270Z"
   },
   {
    "duration": 186,
    "start_time": "2024-02-19T14:40:09.276Z"
   },
   {
    "duration": 5,
    "start_time": "2024-02-19T14:40:09.463Z"
   },
   {
    "duration": 102,
    "start_time": "2024-02-19T14:40:09.470Z"
   },
   {
    "duration": 8,
    "start_time": "2024-02-19T14:40:09.573Z"
   },
   {
    "duration": 191,
    "start_time": "2024-02-19T14:40:09.582Z"
   },
   {
    "duration": 10,
    "start_time": "2024-02-19T14:40:09.774Z"
   },
   {
    "duration": 214,
    "start_time": "2024-02-19T14:40:09.786Z"
   },
   {
    "duration": 9,
    "start_time": "2024-02-19T14:40:10.002Z"
   },
   {
    "duration": 209,
    "start_time": "2024-02-19T14:40:10.012Z"
   },
   {
    "duration": 14,
    "start_time": "2024-02-19T14:40:10.223Z"
   },
   {
    "duration": 10,
    "start_time": "2024-02-19T14:40:10.239Z"
   },
   {
    "duration": 31,
    "start_time": "2024-02-19T14:40:10.251Z"
   },
   {
    "duration": 22,
    "start_time": "2024-02-19T14:40:10.283Z"
   },
   {
    "duration": 48,
    "start_time": "2024-02-19T14:40:10.307Z"
   },
   {
    "duration": 208,
    "start_time": "2024-02-19T14:40:10.357Z"
   },
   {
    "duration": 196,
    "start_time": "2024-02-19T14:40:10.566Z"
   },
   {
    "duration": 20,
    "start_time": "2024-02-19T14:40:10.764Z"
   },
   {
    "duration": 48,
    "start_time": "2024-02-19T14:40:10.786Z"
   },
   {
    "duration": 189,
    "start_time": "2024-02-19T14:40:10.836Z"
   },
   {
    "duration": 204,
    "start_time": "2024-02-19T14:40:11.032Z"
   },
   {
    "duration": 910,
    "start_time": "2024-02-19T14:40:11.238Z"
   },
   {
    "duration": 12,
    "start_time": "2024-02-19T14:40:12.152Z"
   },
   {
    "duration": 6,
    "start_time": "2024-02-19T14:40:12.165Z"
   },
   {
    "duration": 158,
    "start_time": "2024-02-19T14:40:12.172Z"
   },
   {
    "duration": 13,
    "start_time": "2024-02-19T14:40:12.332Z"
   },
   {
    "duration": 5,
    "start_time": "2024-02-19T14:40:12.346Z"
   },
   {
    "duration": 8,
    "start_time": "2024-02-19T14:40:12.352Z"
   },
   {
    "duration": 20,
    "start_time": "2024-02-19T14:40:12.361Z"
   },
   {
    "duration": 1077,
    "start_time": "2024-02-19T16:00:40.132Z"
   },
   {
    "duration": 185,
    "start_time": "2024-02-19T16:00:41.211Z"
   },
   {
    "duration": 12,
    "start_time": "2024-02-19T16:00:41.398Z"
   },
   {
    "duration": 10,
    "start_time": "2024-02-19T16:00:41.411Z"
   },
   {
    "duration": 9,
    "start_time": "2024-02-19T16:00:41.423Z"
   },
   {
    "duration": 12,
    "start_time": "2024-02-19T16:00:41.434Z"
   },
   {
    "duration": 16,
    "start_time": "2024-02-19T16:00:41.448Z"
   },
   {
    "duration": 6,
    "start_time": "2024-02-19T16:00:41.465Z"
   },
   {
    "duration": 11,
    "start_time": "2024-02-19T16:00:41.472Z"
   },
   {
    "duration": 36,
    "start_time": "2024-02-19T16:00:41.485Z"
   },
   {
    "duration": 8,
    "start_time": "2024-02-19T16:00:41.523Z"
   },
   {
    "duration": 7,
    "start_time": "2024-02-19T16:00:41.532Z"
   },
   {
    "duration": 8,
    "start_time": "2024-02-19T16:00:41.541Z"
   },
   {
    "duration": 6,
    "start_time": "2024-02-19T16:00:41.552Z"
   },
   {
    "duration": 6,
    "start_time": "2024-02-19T16:00:41.561Z"
   },
   {
    "duration": 50,
    "start_time": "2024-02-19T16:00:41.568Z"
   },
   {
    "duration": 8,
    "start_time": "2024-02-19T16:00:41.621Z"
   },
   {
    "duration": 10,
    "start_time": "2024-02-19T16:00:41.631Z"
   },
   {
    "duration": 8,
    "start_time": "2024-02-19T16:00:41.643Z"
   },
   {
    "duration": 6,
    "start_time": "2024-02-19T16:00:41.652Z"
   },
   {
    "duration": 220,
    "start_time": "2024-02-19T16:00:41.660Z"
   },
   {
    "duration": 5,
    "start_time": "2024-02-19T16:00:41.881Z"
   },
   {
    "duration": 113,
    "start_time": "2024-02-19T16:00:41.888Z"
   },
   {
    "duration": 15,
    "start_time": "2024-02-19T16:00:42.003Z"
   },
   {
    "duration": 179,
    "start_time": "2024-02-19T16:00:42.020Z"
   },
   {
    "duration": 8,
    "start_time": "2024-02-19T16:00:42.200Z"
   },
   {
    "duration": 183,
    "start_time": "2024-02-19T16:00:42.218Z"
   },
   {
    "duration": 20,
    "start_time": "2024-02-19T16:00:42.402Z"
   },
   {
    "duration": 192,
    "start_time": "2024-02-19T16:00:42.423Z"
   },
   {
    "duration": 10,
    "start_time": "2024-02-19T16:00:42.616Z"
   },
   {
    "duration": 9,
    "start_time": "2024-02-19T16:00:42.627Z"
   },
   {
    "duration": 17,
    "start_time": "2024-02-19T16:00:42.638Z"
   },
   {
    "duration": 21,
    "start_time": "2024-02-19T16:00:42.656Z"
   },
   {
    "duration": 57,
    "start_time": "2024-02-19T16:00:42.678Z"
   },
   {
    "duration": 204,
    "start_time": "2024-02-19T16:00:42.736Z"
   },
   {
    "duration": 200,
    "start_time": "2024-02-19T16:00:42.942Z"
   },
   {
    "duration": 20,
    "start_time": "2024-02-19T16:00:43.143Z"
   },
   {
    "duration": 28,
    "start_time": "2024-02-19T16:00:43.164Z"
   },
   {
    "duration": 202,
    "start_time": "2024-02-19T16:00:43.194Z"
   },
   {
    "duration": 254,
    "start_time": "2024-02-19T16:00:43.397Z"
   },
   {
    "duration": 899,
    "start_time": "2024-02-19T16:00:43.654Z"
   },
   {
    "duration": 13,
    "start_time": "2024-02-19T16:00:44.554Z"
   },
   {
    "duration": 3,
    "start_time": "2024-02-19T16:00:44.568Z"
   },
   {
    "duration": 152,
    "start_time": "2024-02-19T16:00:44.573Z"
   },
   {
    "duration": 12,
    "start_time": "2024-02-19T16:00:44.727Z"
   },
   {
    "duration": 6,
    "start_time": "2024-02-19T16:00:44.741Z"
   },
   {
    "duration": 38,
    "start_time": "2024-02-19T16:00:44.748Z"
   },
   {
    "duration": 24,
    "start_time": "2024-02-19T16:00:44.787Z"
   },
   {
    "duration": 6,
    "start_time": "2024-02-19T16:05:26.702Z"
   },
   {
    "duration": 1208,
    "start_time": "2024-02-19T16:09:45.208Z"
   },
   {
    "duration": 68,
    "start_time": "2024-02-19T16:09:46.418Z"
   },
   {
    "duration": 11,
    "start_time": "2024-02-19T16:09:46.488Z"
   },
   {
    "duration": 11,
    "start_time": "2024-02-19T16:09:46.501Z"
   },
   {
    "duration": 12,
    "start_time": "2024-02-19T16:09:46.514Z"
   },
   {
    "duration": 10,
    "start_time": "2024-02-19T16:09:46.527Z"
   },
   {
    "duration": 17,
    "start_time": "2024-02-19T16:09:46.538Z"
   },
   {
    "duration": 6,
    "start_time": "2024-02-19T16:09:46.556Z"
   },
   {
    "duration": 9,
    "start_time": "2024-02-19T16:09:46.564Z"
   },
   {
    "duration": 5,
    "start_time": "2024-02-19T16:09:46.576Z"
   },
   {
    "duration": 35,
    "start_time": "2024-02-19T16:09:46.583Z"
   },
   {
    "duration": 6,
    "start_time": "2024-02-19T16:09:46.619Z"
   },
   {
    "duration": 7,
    "start_time": "2024-02-19T16:09:46.626Z"
   },
   {
    "duration": 6,
    "start_time": "2024-02-19T16:09:46.635Z"
   },
   {
    "duration": 8,
    "start_time": "2024-02-19T16:09:46.643Z"
   },
   {
    "duration": 5,
    "start_time": "2024-02-19T16:09:46.653Z"
   },
   {
    "duration": 6,
    "start_time": "2024-02-19T16:09:46.659Z"
   },
   {
    "duration": 7,
    "start_time": "2024-02-19T16:09:46.666Z"
   },
   {
    "duration": 47,
    "start_time": "2024-02-19T16:09:46.674Z"
   },
   {
    "duration": 5,
    "start_time": "2024-02-19T16:09:46.723Z"
   },
   {
    "duration": 169,
    "start_time": "2024-02-19T16:09:46.730Z"
   },
   {
    "duration": 6,
    "start_time": "2024-02-19T16:09:46.901Z"
   },
   {
    "duration": 118,
    "start_time": "2024-02-19T16:09:46.909Z"
   },
   {
    "duration": 8,
    "start_time": "2024-02-19T16:09:47.029Z"
   },
   {
    "duration": 202,
    "start_time": "2024-02-19T16:09:47.038Z"
   },
   {
    "duration": 8,
    "start_time": "2024-02-19T16:09:47.241Z"
   },
   {
    "duration": 209,
    "start_time": "2024-02-19T16:09:47.251Z"
   },
   {
    "duration": 8,
    "start_time": "2024-02-19T16:09:47.463Z"
   },
   {
    "duration": 204,
    "start_time": "2024-02-19T16:09:47.473Z"
   },
   {
    "duration": 9,
    "start_time": "2024-02-19T16:09:47.679Z"
   },
   {
    "duration": 17,
    "start_time": "2024-02-19T16:09:47.690Z"
   },
   {
    "duration": 22,
    "start_time": "2024-02-19T16:09:47.708Z"
   },
   {
    "duration": 23,
    "start_time": "2024-02-19T16:09:47.732Z"
   },
   {
    "duration": 31,
    "start_time": "2024-02-19T16:09:47.756Z"
   },
   {
    "duration": 216,
    "start_time": "2024-02-19T16:09:47.788Z"
   },
   {
    "duration": 199,
    "start_time": "2024-02-19T16:09:48.006Z"
   },
   {
    "duration": 32,
    "start_time": "2024-02-19T16:09:48.207Z"
   },
   {
    "duration": 44,
    "start_time": "2024-02-19T16:09:48.241Z"
   },
   {
    "duration": 201,
    "start_time": "2024-02-19T16:09:48.286Z"
   },
   {
    "duration": 280,
    "start_time": "2024-02-19T16:09:48.489Z"
   },
   {
    "duration": 816,
    "start_time": "2024-02-19T16:09:48.771Z"
   },
   {
    "duration": 12,
    "start_time": "2024-02-19T16:09:49.589Z"
   },
   {
    "duration": 18,
    "start_time": "2024-02-19T16:09:49.603Z"
   },
   {
    "duration": 147,
    "start_time": "2024-02-19T16:09:49.622Z"
   },
   {
    "duration": 12,
    "start_time": "2024-02-19T16:09:49.771Z"
   },
   {
    "duration": 17,
    "start_time": "2024-02-19T16:09:49.785Z"
   },
   {
    "duration": 21,
    "start_time": "2024-02-19T16:09:49.804Z"
   },
   {
    "duration": 31,
    "start_time": "2024-02-19T16:09:49.826Z"
   },
   {
    "duration": 47,
    "start_time": "2024-02-19T16:17:58.270Z"
   },
   {
    "duration": 1099,
    "start_time": "2024-02-19T16:18:06.927Z"
   },
   {
    "duration": 70,
    "start_time": "2024-02-19T16:18:08.028Z"
   },
   {
    "duration": 12,
    "start_time": "2024-02-19T16:18:08.099Z"
   },
   {
    "duration": 10,
    "start_time": "2024-02-19T16:18:08.112Z"
   },
   {
    "duration": 9,
    "start_time": "2024-02-19T16:18:08.124Z"
   },
   {
    "duration": 17,
    "start_time": "2024-02-19T16:18:08.134Z"
   },
   {
    "duration": 18,
    "start_time": "2024-02-19T16:18:08.152Z"
   },
   {
    "duration": 13,
    "start_time": "2024-02-19T16:18:08.171Z"
   },
   {
    "duration": 11,
    "start_time": "2024-02-19T16:18:08.185Z"
   },
   {
    "duration": 5,
    "start_time": "2024-02-19T16:18:08.198Z"
   },
   {
    "duration": 7,
    "start_time": "2024-02-19T16:18:08.205Z"
   },
   {
    "duration": 23,
    "start_time": "2024-02-19T16:18:08.214Z"
   },
   {
    "duration": 17,
    "start_time": "2024-02-19T16:18:08.239Z"
   },
   {
    "duration": 7,
    "start_time": "2024-02-19T16:18:08.258Z"
   },
   {
    "duration": 6,
    "start_time": "2024-02-19T16:18:08.266Z"
   },
   {
    "duration": 7,
    "start_time": "2024-02-19T16:18:08.273Z"
   },
   {
    "duration": 5,
    "start_time": "2024-02-19T16:18:08.281Z"
   },
   {
    "duration": 6,
    "start_time": "2024-02-19T16:18:08.288Z"
   },
   {
    "duration": 6,
    "start_time": "2024-02-19T16:18:08.296Z"
   },
   {
    "duration": 5,
    "start_time": "2024-02-19T16:18:08.333Z"
   },
   {
    "duration": 181,
    "start_time": "2024-02-19T16:18:08.340Z"
   },
   {
    "duration": 14,
    "start_time": "2024-02-19T16:18:08.523Z"
   },
   {
    "duration": 103,
    "start_time": "2024-02-19T16:18:08.539Z"
   },
   {
    "duration": 8,
    "start_time": "2024-02-19T16:18:08.645Z"
   },
   {
    "duration": 186,
    "start_time": "2024-02-19T16:18:08.655Z"
   },
   {
    "duration": 8,
    "start_time": "2024-02-19T16:18:08.842Z"
   },
   {
    "duration": 198,
    "start_time": "2024-02-19T16:18:08.851Z"
   },
   {
    "duration": 7,
    "start_time": "2024-02-19T16:18:09.052Z"
   },
   {
    "duration": 185,
    "start_time": "2024-02-19T16:18:09.060Z"
   },
   {
    "duration": 9,
    "start_time": "2024-02-19T16:18:09.247Z"
   },
   {
    "duration": 14,
    "start_time": "2024-02-19T16:18:09.257Z"
   },
   {
    "duration": 18,
    "start_time": "2024-02-19T16:18:09.272Z"
   },
   {
    "duration": 20,
    "start_time": "2024-02-19T16:18:09.291Z"
   },
   {
    "duration": 48,
    "start_time": "2024-02-19T16:18:09.312Z"
   },
   {
    "duration": 195,
    "start_time": "2024-02-19T16:18:09.362Z"
   },
   {
    "duration": 194,
    "start_time": "2024-02-19T16:18:09.558Z"
   },
   {
    "duration": 26,
    "start_time": "2024-02-19T16:18:09.754Z"
   },
   {
    "duration": 29,
    "start_time": "2024-02-19T16:18:09.781Z"
   },
   {
    "duration": 212,
    "start_time": "2024-02-19T16:18:09.812Z"
   },
   {
    "duration": 417,
    "start_time": "2024-02-19T16:18:10.026Z"
   },
   {
    "duration": 789,
    "start_time": "2024-02-19T16:18:10.444Z"
   },
   {
    "duration": 17,
    "start_time": "2024-02-19T16:18:11.234Z"
   },
   {
    "duration": 5,
    "start_time": "2024-02-19T16:18:11.252Z"
   },
   {
    "duration": 159,
    "start_time": "2024-02-19T16:18:11.259Z"
   },
   {
    "duration": 15,
    "start_time": "2024-02-19T16:18:11.420Z"
   },
   {
    "duration": 4,
    "start_time": "2024-02-19T16:18:11.437Z"
   },
   {
    "duration": 4,
    "start_time": "2024-02-19T16:18:11.443Z"
   },
   {
    "duration": 15,
    "start_time": "2024-02-19T16:18:11.448Z"
   },
   {
    "duration": 70,
    "start_time": "2024-02-21T13:39:31.007Z"
   },
   {
    "duration": 48,
    "start_time": "2024-02-21T13:44:17.651Z"
   },
   {
    "duration": 1468,
    "start_time": "2024-02-21T13:44:20.930Z"
   },
   {
    "duration": 179,
    "start_time": "2024-02-21T13:44:22.401Z"
   },
   {
    "duration": 13,
    "start_time": "2024-02-21T13:44:22.582Z"
   },
   {
    "duration": 12,
    "start_time": "2024-02-21T13:44:22.597Z"
   },
   {
    "duration": 13,
    "start_time": "2024-02-21T13:44:22.611Z"
   },
   {
    "duration": 17,
    "start_time": "2024-02-21T13:44:22.625Z"
   },
   {
    "duration": 22,
    "start_time": "2024-02-21T13:44:22.644Z"
   },
   {
    "duration": 8,
    "start_time": "2024-02-21T13:44:22.667Z"
   },
   {
    "duration": 11,
    "start_time": "2024-02-21T13:44:22.676Z"
   },
   {
    "duration": 35,
    "start_time": "2024-02-21T13:44:22.689Z"
   },
   {
    "duration": 8,
    "start_time": "2024-02-21T13:44:22.727Z"
   },
   {
    "duration": 10,
    "start_time": "2024-02-21T13:44:22.737Z"
   },
   {
    "duration": 10,
    "start_time": "2024-02-21T13:44:22.749Z"
   },
   {
    "duration": 10,
    "start_time": "2024-02-21T13:44:22.763Z"
   },
   {
    "duration": 6,
    "start_time": "2024-02-21T13:44:22.774Z"
   },
   {
    "duration": 45,
    "start_time": "2024-02-21T13:44:22.781Z"
   },
   {
    "duration": 6,
    "start_time": "2024-02-21T13:44:22.828Z"
   },
   {
    "duration": 14,
    "start_time": "2024-02-21T13:44:22.836Z"
   },
   {
    "duration": 8,
    "start_time": "2024-02-21T13:44:22.851Z"
   },
   {
    "duration": 5,
    "start_time": "2024-02-21T13:44:22.861Z"
   },
   {
    "duration": 249,
    "start_time": "2024-02-21T13:44:22.867Z"
   },
   {
    "duration": 0,
    "start_time": "2024-02-21T13:44:23.123Z"
   },
   {
    "duration": 0,
    "start_time": "2024-02-21T13:44:23.125Z"
   },
   {
    "duration": 0,
    "start_time": "2024-02-21T13:44:23.126Z"
   },
   {
    "duration": 0,
    "start_time": "2024-02-21T13:44:23.127Z"
   },
   {
    "duration": 0,
    "start_time": "2024-02-21T13:44:23.128Z"
   },
   {
    "duration": 0,
    "start_time": "2024-02-21T13:44:23.129Z"
   },
   {
    "duration": 0,
    "start_time": "2024-02-21T13:44:23.130Z"
   },
   {
    "duration": 0,
    "start_time": "2024-02-21T13:44:23.131Z"
   },
   {
    "duration": 0,
    "start_time": "2024-02-21T13:44:23.132Z"
   },
   {
    "duration": 0,
    "start_time": "2024-02-21T13:44:23.133Z"
   },
   {
    "duration": 0,
    "start_time": "2024-02-21T13:44:23.134Z"
   },
   {
    "duration": 0,
    "start_time": "2024-02-21T13:44:23.135Z"
   },
   {
    "duration": 0,
    "start_time": "2024-02-21T13:44:23.136Z"
   },
   {
    "duration": 0,
    "start_time": "2024-02-21T13:44:23.137Z"
   },
   {
    "duration": 0,
    "start_time": "2024-02-21T13:44:23.138Z"
   },
   {
    "duration": 0,
    "start_time": "2024-02-21T13:44:23.138Z"
   },
   {
    "duration": 0,
    "start_time": "2024-02-21T13:44:23.139Z"
   },
   {
    "duration": 0,
    "start_time": "2024-02-21T13:44:23.140Z"
   },
   {
    "duration": 0,
    "start_time": "2024-02-21T13:44:23.141Z"
   },
   {
    "duration": 0,
    "start_time": "2024-02-21T13:44:23.143Z"
   },
   {
    "duration": 0,
    "start_time": "2024-02-21T13:44:23.144Z"
   },
   {
    "duration": 0,
    "start_time": "2024-02-21T13:44:23.145Z"
   },
   {
    "duration": 0,
    "start_time": "2024-02-21T13:44:23.146Z"
   },
   {
    "duration": 0,
    "start_time": "2024-02-21T13:44:23.147Z"
   },
   {
    "duration": 0,
    "start_time": "2024-02-21T13:44:23.148Z"
   },
   {
    "duration": 0,
    "start_time": "2024-02-21T13:44:23.149Z"
   },
   {
    "duration": 0,
    "start_time": "2024-02-21T13:44:23.150Z"
   },
   {
    "duration": 10,
    "start_time": "2024-02-21T13:55:43.617Z"
   },
   {
    "duration": 9,
    "start_time": "2024-02-21T13:55:47.295Z"
   },
   {
    "duration": 6,
    "start_time": "2024-02-21T13:56:09.883Z"
   },
   {
    "duration": 6,
    "start_time": "2024-02-21T13:56:29.673Z"
   },
   {
    "duration": 6,
    "start_time": "2024-02-21T13:56:38.538Z"
   },
   {
    "duration": 3,
    "start_time": "2024-02-21T13:57:31.664Z"
   },
   {
    "duration": 114,
    "start_time": "2024-02-21T13:57:31.669Z"
   },
   {
    "duration": 9,
    "start_time": "2024-02-21T13:57:31.785Z"
   },
   {
    "duration": 40,
    "start_time": "2024-02-21T13:57:31.796Z"
   },
   {
    "duration": 54,
    "start_time": "2024-02-21T13:57:31.838Z"
   },
   {
    "duration": 31,
    "start_time": "2024-02-21T13:57:31.894Z"
   },
   {
    "duration": 44,
    "start_time": "2024-02-21T13:57:31.927Z"
   },
   {
    "duration": 12,
    "start_time": "2024-02-21T13:57:31.973Z"
   },
   {
    "duration": 47,
    "start_time": "2024-02-21T13:57:31.987Z"
   },
   {
    "duration": 30,
    "start_time": "2024-02-21T13:57:32.036Z"
   },
   {
    "duration": 26,
    "start_time": "2024-02-21T13:57:32.068Z"
   },
   {
    "duration": 46,
    "start_time": "2024-02-21T13:57:32.096Z"
   },
   {
    "duration": 25,
    "start_time": "2024-02-21T13:57:32.145Z"
   },
   {
    "duration": 37,
    "start_time": "2024-02-21T13:57:32.172Z"
   },
   {
    "duration": 26,
    "start_time": "2024-02-21T13:57:32.212Z"
   },
   {
    "duration": 14,
    "start_time": "2024-02-21T13:57:32.241Z"
   },
   {
    "duration": 41,
    "start_time": "2024-02-21T13:57:32.257Z"
   },
   {
    "duration": 39,
    "start_time": "2024-02-21T13:57:32.300Z"
   },
   {
    "duration": 35,
    "start_time": "2024-02-21T13:57:32.341Z"
   },
   {
    "duration": 26,
    "start_time": "2024-02-21T13:57:32.378Z"
   },
   {
    "duration": 197,
    "start_time": "2024-02-21T13:57:32.407Z"
   },
   {
    "duration": 0,
    "start_time": "2024-02-21T13:57:32.607Z"
   },
   {
    "duration": 0,
    "start_time": "2024-02-21T13:57:32.609Z"
   },
   {
    "duration": 0,
    "start_time": "2024-02-21T13:57:32.610Z"
   },
   {
    "duration": 0,
    "start_time": "2024-02-21T13:57:32.612Z"
   },
   {
    "duration": 0,
    "start_time": "2024-02-21T13:57:32.624Z"
   },
   {
    "duration": 0,
    "start_time": "2024-02-21T13:57:32.625Z"
   },
   {
    "duration": 0,
    "start_time": "2024-02-21T13:57:32.627Z"
   },
   {
    "duration": 0,
    "start_time": "2024-02-21T13:57:32.628Z"
   },
   {
    "duration": 0,
    "start_time": "2024-02-21T13:57:32.629Z"
   },
   {
    "duration": 0,
    "start_time": "2024-02-21T13:57:32.630Z"
   },
   {
    "duration": 0,
    "start_time": "2024-02-21T13:57:32.631Z"
   },
   {
    "duration": 0,
    "start_time": "2024-02-21T13:57:32.632Z"
   },
   {
    "duration": 0,
    "start_time": "2024-02-21T13:57:32.633Z"
   },
   {
    "duration": 0,
    "start_time": "2024-02-21T13:57:32.634Z"
   },
   {
    "duration": 0,
    "start_time": "2024-02-21T13:57:32.635Z"
   },
   {
    "duration": 0,
    "start_time": "2024-02-21T13:57:32.636Z"
   },
   {
    "duration": 0,
    "start_time": "2024-02-21T13:57:32.637Z"
   },
   {
    "duration": 0,
    "start_time": "2024-02-21T13:57:32.638Z"
   },
   {
    "duration": 0,
    "start_time": "2024-02-21T13:57:32.639Z"
   },
   {
    "duration": 0,
    "start_time": "2024-02-21T13:57:32.640Z"
   },
   {
    "duration": 0,
    "start_time": "2024-02-21T13:57:32.642Z"
   },
   {
    "duration": 0,
    "start_time": "2024-02-21T13:57:32.642Z"
   },
   {
    "duration": 0,
    "start_time": "2024-02-21T13:57:32.644Z"
   },
   {
    "duration": 0,
    "start_time": "2024-02-21T13:57:32.645Z"
   },
   {
    "duration": 0,
    "start_time": "2024-02-21T13:57:32.646Z"
   },
   {
    "duration": 0,
    "start_time": "2024-02-21T13:57:32.647Z"
   },
   {
    "duration": 0,
    "start_time": "2024-02-21T13:57:32.648Z"
   },
   {
    "duration": 160,
    "start_time": "2024-02-21T13:59:28.855Z"
   },
   {
    "duration": 3,
    "start_time": "2024-02-21T14:00:02.026Z"
   },
   {
    "duration": 140,
    "start_time": "2024-02-21T14:00:02.032Z"
   },
   {
    "duration": 9,
    "start_time": "2024-02-21T14:00:02.174Z"
   },
   {
    "duration": 54,
    "start_time": "2024-02-21T14:00:02.185Z"
   },
   {
    "duration": 96,
    "start_time": "2024-02-21T14:00:02.241Z"
   },
   {
    "duration": 70,
    "start_time": "2024-02-21T14:00:02.339Z"
   },
   {
    "duration": 225,
    "start_time": "2024-02-21T14:00:02.411Z"
   },
   {
    "duration": 161,
    "start_time": "2024-02-21T14:00:02.638Z"
   },
   {
    "duration": 92,
    "start_time": "2024-02-21T14:00:02.801Z"
   },
   {
    "duration": 60,
    "start_time": "2024-02-21T14:00:02.895Z"
   },
   {
    "duration": 75,
    "start_time": "2024-02-21T14:00:02.956Z"
   },
   {
    "duration": 46,
    "start_time": "2024-02-21T14:00:03.032Z"
   },
   {
    "duration": 14,
    "start_time": "2024-02-21T14:00:03.080Z"
   },
   {
    "duration": 42,
    "start_time": "2024-02-21T14:00:03.099Z"
   },
   {
    "duration": 12,
    "start_time": "2024-02-21T14:00:03.143Z"
   },
   {
    "duration": 12,
    "start_time": "2024-02-21T14:00:03.157Z"
   },
   {
    "duration": 19,
    "start_time": "2024-02-21T14:00:03.171Z"
   },
   {
    "duration": 25,
    "start_time": "2024-02-21T14:00:03.192Z"
   },
   {
    "duration": 48,
    "start_time": "2024-02-21T14:00:03.219Z"
   },
   {
    "duration": 14,
    "start_time": "2024-02-21T14:00:03.268Z"
   },
   {
    "duration": 186,
    "start_time": "2024-02-21T14:00:03.284Z"
   },
   {
    "duration": 7,
    "start_time": "2024-02-21T14:00:03.473Z"
   },
   {
    "duration": 128,
    "start_time": "2024-02-21T14:00:03.482Z"
   },
   {
    "duration": 19,
    "start_time": "2024-02-21T14:00:03.611Z"
   },
   {
    "duration": 223,
    "start_time": "2024-02-21T14:00:03.632Z"
   },
   {
    "duration": 9,
    "start_time": "2024-02-21T14:00:03.857Z"
   },
   {
    "duration": 242,
    "start_time": "2024-02-21T14:00:03.868Z"
   },
   {
    "duration": 18,
    "start_time": "2024-02-21T14:00:04.112Z"
   },
   {
    "duration": 233,
    "start_time": "2024-02-21T14:00:04.132Z"
   },
   {
    "duration": 11,
    "start_time": "2024-02-21T14:00:04.367Z"
   },
   {
    "duration": 20,
    "start_time": "2024-02-21T14:00:04.379Z"
   },
   {
    "duration": 41,
    "start_time": "2024-02-21T14:00:04.401Z"
   },
   {
    "duration": 122,
    "start_time": "2024-02-21T14:00:04.444Z"
   },
   {
    "duration": 60,
    "start_time": "2024-02-21T14:00:04.567Z"
   },
   {
    "duration": 246,
    "start_time": "2024-02-21T14:00:04.628Z"
   },
   {
    "duration": 234,
    "start_time": "2024-02-21T14:00:04.876Z"
   },
   {
    "duration": 29,
    "start_time": "2024-02-21T14:00:05.111Z"
   },
   {
    "duration": 38,
    "start_time": "2024-02-21T14:00:05.142Z"
   },
   {
    "duration": 230,
    "start_time": "2024-02-21T14:00:05.182Z"
   },
   {
    "duration": 444,
    "start_time": "2024-02-21T14:00:05.414Z"
   },
   {
    "duration": 968,
    "start_time": "2024-02-21T14:00:05.862Z"
   },
   {
    "duration": 16,
    "start_time": "2024-02-21T14:00:06.832Z"
   },
   {
    "duration": 25,
    "start_time": "2024-02-21T14:00:06.850Z"
   },
   {
    "duration": 234,
    "start_time": "2024-02-21T14:00:06.876Z"
   },
   {
    "duration": 15,
    "start_time": "2024-02-21T14:00:07.112Z"
   },
   {
    "duration": 16,
    "start_time": "2024-02-21T14:00:07.128Z"
   },
   {
    "duration": 27,
    "start_time": "2024-02-21T14:00:07.145Z"
   },
   {
    "duration": 22,
    "start_time": "2024-02-21T14:00:07.174Z"
   },
   {
    "duration": 6,
    "start_time": "2024-02-21T14:01:41.625Z"
   },
   {
    "duration": 10,
    "start_time": "2024-02-21T14:03:52.562Z"
   },
   {
    "duration": 16,
    "start_time": "2024-02-21T14:04:18.808Z"
   },
   {
    "duration": 16,
    "start_time": "2024-02-21T14:04:43.886Z"
   },
   {
    "duration": 14,
    "start_time": "2024-02-21T14:05:57.234Z"
   },
   {
    "duration": 12,
    "start_time": "2024-02-21T14:08:42.928Z"
   },
   {
    "duration": 9,
    "start_time": "2024-02-21T14:08:52.291Z"
   },
   {
    "duration": 152,
    "start_time": "2024-02-21T14:09:42.642Z"
   },
   {
    "duration": 122,
    "start_time": "2024-02-21T14:13:19.280Z"
   },
   {
    "duration": 27,
    "start_time": "2024-02-21T14:14:11.006Z"
   },
   {
    "duration": 13,
    "start_time": "2024-02-21T14:14:19.172Z"
   },
   {
    "duration": 12,
    "start_time": "2024-02-21T14:14:27.910Z"
   },
   {
    "duration": 13,
    "start_time": "2024-02-21T14:14:47.740Z"
   },
   {
    "duration": 16,
    "start_time": "2024-02-21T14:14:55.385Z"
   },
   {
    "duration": 14,
    "start_time": "2024-02-21T14:15:27.862Z"
   },
   {
    "duration": 4,
    "start_time": "2024-02-21T14:16:35.278Z"
   },
   {
    "duration": 172,
    "start_time": "2024-02-21T14:17:06.101Z"
   },
   {
    "duration": 120,
    "start_time": "2024-02-21T14:18:16.667Z"
   },
   {
    "duration": 131,
    "start_time": "2024-02-21T14:18:22.441Z"
   },
   {
    "duration": 132,
    "start_time": "2024-02-21T14:18:59.852Z"
   },
   {
    "duration": 175,
    "start_time": "2024-02-21T14:19:21.619Z"
   },
   {
    "duration": 160,
    "start_time": "2024-02-21T14:20:42.935Z"
   },
   {
    "duration": 179,
    "start_time": "2024-02-21T14:20:50.015Z"
   },
   {
    "duration": 106,
    "start_time": "2024-02-21T14:21:43.838Z"
   },
   {
    "duration": 105,
    "start_time": "2024-02-21T14:21:50.991Z"
   },
   {
    "duration": 212,
    "start_time": "2024-02-21T14:22:18.103Z"
   },
   {
    "duration": 230,
    "start_time": "2024-02-21T14:22:23.705Z"
   },
   {
    "duration": 326,
    "start_time": "2024-02-21T14:22:28.939Z"
   },
   {
    "duration": 301,
    "start_time": "2024-02-21T14:22:40.438Z"
   },
   {
    "duration": 280,
    "start_time": "2024-02-21T14:22:47.162Z"
   },
   {
    "duration": 260,
    "start_time": "2024-02-21T14:22:53.554Z"
   },
   {
    "duration": 271,
    "start_time": "2024-02-21T14:23:02.712Z"
   },
   {
    "duration": 16,
    "start_time": "2024-02-21T14:30:40.476Z"
   },
   {
    "duration": 16,
    "start_time": "2024-02-21T14:31:28.034Z"
   },
   {
    "duration": 16,
    "start_time": "2024-02-21T14:31:38.298Z"
   },
   {
    "duration": 150,
    "start_time": "2024-02-21T14:31:49.358Z"
   },
   {
    "duration": 158,
    "start_time": "2024-02-21T14:32:02.024Z"
   },
   {
    "duration": 156,
    "start_time": "2024-02-21T14:32:13.984Z"
   },
   {
    "duration": 156,
    "start_time": "2024-02-21T14:33:26.529Z"
   },
   {
    "duration": 223,
    "start_time": "2024-02-21T14:36:57.994Z"
   },
   {
    "duration": 111,
    "start_time": "2024-02-21T14:37:35.592Z"
   },
   {
    "duration": 113,
    "start_time": "2024-02-21T14:37:44.783Z"
   },
   {
    "duration": 1316,
    "start_time": "2024-02-21T14:42:05.420Z"
   },
   {
    "duration": 1162,
    "start_time": "2024-02-21T14:42:18.791Z"
   },
   {
    "duration": 17,
    "start_time": "2024-02-21T14:42:33.919Z"
   },
   {
    "duration": 6,
    "start_time": "2024-02-21T14:45:20.159Z"
   },
   {
    "duration": 76,
    "start_time": "2024-02-21T14:57:16.844Z"
   },
   {
    "duration": 74,
    "start_time": "2024-02-21T14:57:23.058Z"
   },
   {
    "duration": 71,
    "start_time": "2024-02-21T14:57:53.949Z"
   },
   {
    "duration": 74,
    "start_time": "2024-02-21T14:58:06.707Z"
   },
   {
    "duration": 123,
    "start_time": "2024-02-21T14:58:14.423Z"
   },
   {
    "duration": 79,
    "start_time": "2024-02-21T15:05:37.961Z"
   },
   {
    "duration": 65,
    "start_time": "2024-02-21T15:05:46.108Z"
   },
   {
    "duration": 80,
    "start_time": "2024-02-21T15:06:12.059Z"
   },
   {
    "duration": 83,
    "start_time": "2024-02-21T15:06:18.852Z"
   },
   {
    "duration": 16,
    "start_time": "2024-02-21T15:18:21.770Z"
   },
   {
    "duration": 13,
    "start_time": "2024-02-21T15:18:37.577Z"
   },
   {
    "duration": 12,
    "start_time": "2024-02-21T15:18:42.556Z"
   },
   {
    "duration": 28,
    "start_time": "2024-02-21T15:18:44.314Z"
   },
   {
    "duration": 12,
    "start_time": "2024-02-21T15:18:58.030Z"
   },
   {
    "duration": 20,
    "start_time": "2024-02-21T15:18:59.344Z"
   },
   {
    "duration": 3,
    "start_time": "2024-02-21T15:19:02.722Z"
   },
   {
    "duration": 121,
    "start_time": "2024-02-21T15:19:02.727Z"
   },
   {
    "duration": 10,
    "start_time": "2024-02-21T15:19:02.850Z"
   },
   {
    "duration": 15,
    "start_time": "2024-02-21T15:19:02.862Z"
   },
   {
    "duration": 37,
    "start_time": "2024-02-21T15:19:02.881Z"
   },
   {
    "duration": 55,
    "start_time": "2024-02-21T15:19:02.920Z"
   },
   {
    "duration": 56,
    "start_time": "2024-02-21T15:19:02.977Z"
   },
   {
    "duration": 8,
    "start_time": "2024-02-21T15:19:03.035Z"
   },
   {
    "duration": 32,
    "start_time": "2024-02-21T15:19:03.045Z"
   },
   {
    "duration": 24,
    "start_time": "2024-02-21T15:19:03.078Z"
   },
   {
    "duration": 28,
    "start_time": "2024-02-21T15:19:03.104Z"
   },
   {
    "duration": 21,
    "start_time": "2024-02-21T15:19:03.134Z"
   },
   {
    "duration": 12,
    "start_time": "2024-02-21T15:19:03.158Z"
   },
   {
    "duration": 12,
    "start_time": "2024-02-21T15:19:03.172Z"
   },
   {
    "duration": 22,
    "start_time": "2024-02-21T15:19:03.186Z"
   },
   {
    "duration": 12,
    "start_time": "2024-02-21T15:19:03.211Z"
   },
   {
    "duration": 9,
    "start_time": "2024-02-21T15:19:03.226Z"
   },
   {
    "duration": 25,
    "start_time": "2024-02-21T15:19:03.237Z"
   },
   {
    "duration": 12,
    "start_time": "2024-02-21T15:19:03.264Z"
   },
   {
    "duration": 12,
    "start_time": "2024-02-21T15:19:03.279Z"
   },
   {
    "duration": 230,
    "start_time": "2024-02-21T15:19:03.293Z"
   },
   {
    "duration": 7,
    "start_time": "2024-02-21T15:19:03.525Z"
   },
   {
    "duration": 150,
    "start_time": "2024-02-21T15:19:03.534Z"
   },
   {
    "duration": 8,
    "start_time": "2024-02-21T15:19:03.686Z"
   },
   {
    "duration": 216,
    "start_time": "2024-02-21T15:19:03.696Z"
   },
   {
    "duration": 16,
    "start_time": "2024-02-21T15:19:03.914Z"
   },
   {
    "duration": 232,
    "start_time": "2024-02-21T15:19:03.932Z"
   },
   {
    "duration": 9,
    "start_time": "2024-02-21T15:19:04.166Z"
   },
   {
    "duration": 292,
    "start_time": "2024-02-21T15:19:04.177Z"
   },
   {
    "duration": 11,
    "start_time": "2024-02-21T15:19:04.471Z"
   },
   {
    "duration": 11,
    "start_time": "2024-02-21T15:19:04.484Z"
   },
   {
    "duration": 42,
    "start_time": "2024-02-21T15:19:04.497Z"
   },
   {
    "duration": 26,
    "start_time": "2024-02-21T15:19:04.540Z"
   },
   {
    "duration": 68,
    "start_time": "2024-02-21T15:19:04.567Z"
   },
   {
    "duration": 252,
    "start_time": "2024-02-21T15:19:04.637Z"
   },
   {
    "duration": 233,
    "start_time": "2024-02-21T15:19:04.891Z"
   },
   {
    "duration": 23,
    "start_time": "2024-02-21T15:19:05.128Z"
   },
   {
    "duration": 36,
    "start_time": "2024-02-21T15:19:05.153Z"
   },
   {
    "duration": 245,
    "start_time": "2024-02-21T15:19:05.190Z"
   },
   {
    "duration": 610,
    "start_time": "2024-02-21T15:19:05.437Z"
   },
   {
    "duration": 929,
    "start_time": "2024-02-21T15:19:06.049Z"
   },
   {
    "duration": 13,
    "start_time": "2024-02-21T15:19:06.980Z"
   },
   {
    "duration": 20,
    "start_time": "2024-02-21T15:19:06.995Z"
   },
   {
    "duration": 179,
    "start_time": "2024-02-21T15:19:07.016Z"
   },
   {
    "duration": 14,
    "start_time": "2024-02-21T15:19:07.196Z"
   },
   {
    "duration": 14,
    "start_time": "2024-02-21T15:19:07.212Z"
   },
   {
    "duration": 14,
    "start_time": "2024-02-21T15:19:07.228Z"
   },
   {
    "duration": 14,
    "start_time": "2024-02-21T15:19:07.244Z"
   },
   {
    "duration": 8,
    "start_time": "2024-02-21T15:21:34.581Z"
   },
   {
    "duration": 74,
    "start_time": "2024-02-21T15:26:04.457Z"
   },
   {
    "duration": 7,
    "start_time": "2024-02-21T15:26:09.433Z"
   },
   {
    "duration": 7,
    "start_time": "2024-02-21T15:26:24.281Z"
   },
   {
    "duration": 7,
    "start_time": "2024-02-21T15:26:39.736Z"
   },
   {
    "duration": 8,
    "start_time": "2024-02-21T15:27:01.446Z"
   },
   {
    "duration": 4,
    "start_time": "2024-02-21T15:31:00.184Z"
   },
   {
    "duration": 65,
    "start_time": "2024-02-21T15:31:17.150Z"
   },
   {
    "duration": 4,
    "start_time": "2024-02-21T15:31:32.726Z"
   },
   {
    "duration": 5,
    "start_time": "2024-02-21T15:31:46.967Z"
   },
   {
    "duration": 4,
    "start_time": "2024-02-21T15:31:53.930Z"
   },
   {
    "duration": 3,
    "start_time": "2024-02-21T15:32:08.495Z"
   },
   {
    "duration": 23,
    "start_time": "2024-02-21T15:34:17.918Z"
   },
   {
    "duration": 12,
    "start_time": "2024-02-21T15:34:34.363Z"
   },
   {
    "duration": 10,
    "start_time": "2024-02-21T15:34:36.459Z"
   },
   {
    "duration": 22,
    "start_time": "2024-02-21T15:34:37.803Z"
   },
   {
    "duration": 11,
    "start_time": "2024-02-21T15:36:14.223Z"
   },
   {
    "duration": 13,
    "start_time": "2024-02-21T15:40:03.536Z"
   },
   {
    "duration": 12,
    "start_time": "2024-02-21T15:40:04.503Z"
   },
   {
    "duration": 23,
    "start_time": "2024-02-21T15:40:05.733Z"
   },
   {
    "duration": 106,
    "start_time": "2024-02-21T15:41:14.687Z"
   },
   {
    "duration": 148,
    "start_time": "2024-02-21T15:43:16.947Z"
   },
   {
    "duration": 5,
    "start_time": "2024-02-21T15:43:54.913Z"
   },
   {
    "duration": 167,
    "start_time": "2024-02-21T15:44:00.402Z"
   },
   {
    "duration": 11,
    "start_time": "2024-02-21T15:45:03.123Z"
   },
   {
    "duration": 161,
    "start_time": "2024-02-21T15:45:15.066Z"
   },
   {
    "duration": 11,
    "start_time": "2024-02-21T15:49:56.209Z"
   },
   {
    "duration": 10,
    "start_time": "2024-02-21T15:50:05.793Z"
   },
   {
    "duration": 260,
    "start_time": "2024-02-21T15:51:37.722Z"
   },
   {
    "duration": 256,
    "start_time": "2024-02-21T15:53:24.481Z"
   },
   {
    "duration": 257,
    "start_time": "2024-02-21T15:53:36.186Z"
   },
   {
    "duration": 293,
    "start_time": "2024-02-21T15:54:02.029Z"
   },
   {
    "duration": 271,
    "start_time": "2024-02-21T15:54:32.136Z"
   },
   {
    "duration": 386,
    "start_time": "2024-02-21T15:55:00.208Z"
   },
   {
    "duration": 274,
    "start_time": "2024-02-21T15:55:43.251Z"
   },
   {
    "duration": 319,
    "start_time": "2024-02-21T15:56:14.775Z"
   },
   {
    "duration": 13,
    "start_time": "2024-02-21T15:57:11.007Z"
   },
   {
    "duration": 3,
    "start_time": "2024-02-21T15:57:13.148Z"
   },
   {
    "duration": 417,
    "start_time": "2024-02-21T15:57:14.030Z"
   },
   {
    "duration": 420,
    "start_time": "2024-02-21T15:57:38.505Z"
   },
   {
    "duration": 274,
    "start_time": "2024-02-21T15:58:03.080Z"
   },
   {
    "duration": 270,
    "start_time": "2024-02-21T15:58:21.949Z"
   },
   {
    "duration": 278,
    "start_time": "2024-02-21T15:58:25.828Z"
   },
   {
    "duration": 271,
    "start_time": "2024-02-21T15:58:38.509Z"
   },
   {
    "duration": 389,
    "start_time": "2024-02-21T15:58:51.690Z"
   },
   {
    "duration": 8,
    "start_time": "2024-02-21T16:01:57.744Z"
   },
   {
    "duration": 210,
    "start_time": "2024-02-21T16:15:43.159Z"
   },
   {
    "duration": 285,
    "start_time": "2024-02-21T16:16:03.714Z"
   },
   {
    "duration": 267,
    "start_time": "2024-02-21T16:17:16.875Z"
   },
   {
    "duration": 279,
    "start_time": "2024-02-21T16:17:27.286Z"
   },
   {
    "duration": 6,
    "start_time": "2024-02-21T16:20:50.382Z"
   },
   {
    "duration": 1203,
    "start_time": "2024-02-21T16:21:08.459Z"
   },
   {
    "duration": 6,
    "start_time": "2024-02-21T16:21:27.505Z"
   },
   {
    "duration": 5,
    "start_time": "2024-02-21T16:21:30.479Z"
   },
   {
    "duration": 294,
    "start_time": "2024-02-21T16:21:31.602Z"
   },
   {
    "duration": 344,
    "start_time": "2024-02-21T16:25:19.411Z"
   },
   {
    "duration": 269,
    "start_time": "2024-02-21T16:26:19.030Z"
   },
   {
    "duration": 286,
    "start_time": "2024-02-21T16:26:43.155Z"
   },
   {
    "duration": 16,
    "start_time": "2024-02-21T16:30:28.117Z"
   },
   {
    "duration": 4,
    "start_time": "2024-02-21T16:31:28.981Z"
   },
   {
    "duration": 22,
    "start_time": "2024-02-21T16:31:34.092Z"
   },
   {
    "duration": 25,
    "start_time": "2024-02-21T16:31:38.047Z"
   },
   {
    "duration": 3,
    "start_time": "2024-02-21T16:32:46.361Z"
   },
   {
    "duration": 94,
    "start_time": "2024-02-21T16:32:46.366Z"
   },
   {
    "duration": 9,
    "start_time": "2024-02-21T16:32:46.462Z"
   },
   {
    "duration": 13,
    "start_time": "2024-02-21T16:32:46.473Z"
   },
   {
    "duration": 11,
    "start_time": "2024-02-21T16:32:46.488Z"
   },
   {
    "duration": 11,
    "start_time": "2024-02-21T16:32:46.501Z"
   },
   {
    "duration": 24,
    "start_time": "2024-02-21T16:32:46.514Z"
   },
   {
    "duration": 8,
    "start_time": "2024-02-21T16:32:46.540Z"
   },
   {
    "duration": 27,
    "start_time": "2024-02-21T16:32:46.550Z"
   },
   {
    "duration": 21,
    "start_time": "2024-02-21T16:32:46.578Z"
   },
   {
    "duration": 17,
    "start_time": "2024-02-21T16:32:46.600Z"
   },
   {
    "duration": 6,
    "start_time": "2024-02-21T16:32:46.619Z"
   },
   {
    "duration": 20,
    "start_time": "2024-02-21T16:32:46.626Z"
   },
   {
    "duration": 12,
    "start_time": "2024-02-21T16:32:46.649Z"
   },
   {
    "duration": 7,
    "start_time": "2024-02-21T16:32:46.663Z"
   },
   {
    "duration": 8,
    "start_time": "2024-02-21T16:32:46.672Z"
   },
   {
    "duration": 7,
    "start_time": "2024-02-21T16:32:46.681Z"
   },
   {
    "duration": 12,
    "start_time": "2024-02-21T16:32:46.689Z"
   },
   {
    "duration": 25,
    "start_time": "2024-02-21T16:32:46.703Z"
   },
   {
    "duration": 6,
    "start_time": "2024-02-21T16:32:46.730Z"
   },
   {
    "duration": 186,
    "start_time": "2024-02-21T16:32:46.738Z"
   },
   {
    "duration": 6,
    "start_time": "2024-02-21T16:32:46.925Z"
   },
   {
    "duration": 143,
    "start_time": "2024-02-21T16:32:46.933Z"
   },
   {
    "duration": 8,
    "start_time": "2024-02-21T16:32:47.078Z"
   },
   {
    "duration": 345,
    "start_time": "2024-02-21T16:32:47.087Z"
   },
   {
    "duration": 9,
    "start_time": "2024-02-21T16:32:47.434Z"
   },
   {
    "duration": 244,
    "start_time": "2024-02-21T16:32:47.444Z"
   },
   {
    "duration": 9,
    "start_time": "2024-02-21T16:32:47.690Z"
   },
   {
    "duration": 274,
    "start_time": "2024-02-21T16:32:47.700Z"
   },
   {
    "duration": 11,
    "start_time": "2024-02-21T16:32:47.976Z"
   },
   {
    "duration": 22,
    "start_time": "2024-02-21T16:32:47.989Z"
   },
   {
    "duration": 22,
    "start_time": "2024-02-21T16:32:48.013Z"
   },
   {
    "duration": 26,
    "start_time": "2024-02-21T16:32:48.037Z"
   },
   {
    "duration": 313,
    "start_time": "2024-02-21T16:32:48.065Z"
   },
   {
    "duration": 0,
    "start_time": "2024-02-21T16:32:48.380Z"
   },
   {
    "duration": 0,
    "start_time": "2024-02-21T16:32:48.382Z"
   },
   {
    "duration": 0,
    "start_time": "2024-02-21T16:32:48.384Z"
   },
   {
    "duration": 0,
    "start_time": "2024-02-21T16:32:48.385Z"
   },
   {
    "duration": 0,
    "start_time": "2024-02-21T16:32:48.387Z"
   },
   {
    "duration": 0,
    "start_time": "2024-02-21T16:32:48.389Z"
   },
   {
    "duration": 0,
    "start_time": "2024-02-21T16:32:48.390Z"
   },
   {
    "duration": 0,
    "start_time": "2024-02-21T16:32:48.392Z"
   },
   {
    "duration": 0,
    "start_time": "2024-02-21T16:32:48.393Z"
   },
   {
    "duration": 0,
    "start_time": "2024-02-21T16:32:48.395Z"
   },
   {
    "duration": 0,
    "start_time": "2024-02-21T16:32:48.396Z"
   },
   {
    "duration": 0,
    "start_time": "2024-02-21T16:32:48.398Z"
   },
   {
    "duration": 0,
    "start_time": "2024-02-21T16:32:48.400Z"
   },
   {
    "duration": 0,
    "start_time": "2024-02-21T16:32:48.401Z"
   },
   {
    "duration": 0,
    "start_time": "2024-02-21T16:32:48.402Z"
   },
   {
    "duration": 0,
    "start_time": "2024-02-21T16:32:48.404Z"
   },
   {
    "duration": 0,
    "start_time": "2024-02-21T16:32:48.406Z"
   },
   {
    "duration": 0,
    "start_time": "2024-02-21T16:32:48.407Z"
   },
   {
    "duration": 0,
    "start_time": "2024-02-21T16:32:48.409Z"
   },
   {
    "duration": 3,
    "start_time": "2024-02-21T16:33:20.970Z"
   },
   {
    "duration": 3,
    "start_time": "2024-02-21T16:33:24.967Z"
   },
   {
    "duration": 3,
    "start_time": "2024-02-21T16:33:27.799Z"
   },
   {
    "duration": 76,
    "start_time": "2024-02-21T16:33:27.804Z"
   },
   {
    "duration": 9,
    "start_time": "2024-02-21T16:33:27.882Z"
   },
   {
    "duration": 13,
    "start_time": "2024-02-21T16:33:27.893Z"
   },
   {
    "duration": 19,
    "start_time": "2024-02-21T16:33:27.907Z"
   },
   {
    "duration": 13,
    "start_time": "2024-02-21T16:33:27.928Z"
   },
   {
    "duration": 19,
    "start_time": "2024-02-21T16:33:27.943Z"
   },
   {
    "duration": 7,
    "start_time": "2024-02-21T16:33:27.963Z"
   },
   {
    "duration": 18,
    "start_time": "2024-02-21T16:33:27.972Z"
   },
   {
    "duration": 6,
    "start_time": "2024-02-21T16:33:27.993Z"
   },
   {
    "duration": 26,
    "start_time": "2024-02-21T16:33:28.000Z"
   },
   {
    "duration": 5,
    "start_time": "2024-02-21T16:33:28.028Z"
   },
   {
    "duration": 8,
    "start_time": "2024-02-21T16:33:28.035Z"
   },
   {
    "duration": 7,
    "start_time": "2024-02-21T16:33:28.045Z"
   },
   {
    "duration": 6,
    "start_time": "2024-02-21T16:33:28.053Z"
   },
   {
    "duration": 5,
    "start_time": "2024-02-21T16:33:28.061Z"
   },
   {
    "duration": 25,
    "start_time": "2024-02-21T16:33:28.067Z"
   },
   {
    "duration": 33,
    "start_time": "2024-02-21T16:33:28.094Z"
   },
   {
    "duration": 9,
    "start_time": "2024-02-21T16:33:28.128Z"
   },
   {
    "duration": 7,
    "start_time": "2024-02-21T16:33:28.138Z"
   },
   {
    "duration": 178,
    "start_time": "2024-02-21T16:33:28.146Z"
   },
   {
    "duration": 5,
    "start_time": "2024-02-21T16:33:28.326Z"
   },
   {
    "duration": 121,
    "start_time": "2024-02-21T16:33:28.333Z"
   },
   {
    "duration": 8,
    "start_time": "2024-02-21T16:33:28.455Z"
   },
   {
    "duration": 238,
    "start_time": "2024-02-21T16:33:28.465Z"
   },
   {
    "duration": 9,
    "start_time": "2024-02-21T16:33:28.704Z"
   },
   {
    "duration": 232,
    "start_time": "2024-02-21T16:33:28.723Z"
   },
   {
    "duration": 10,
    "start_time": "2024-02-21T16:33:28.959Z"
   },
   {
    "duration": 287,
    "start_time": "2024-02-21T16:33:28.970Z"
   },
   {
    "duration": 11,
    "start_time": "2024-02-21T16:33:29.259Z"
   },
   {
    "duration": 11,
    "start_time": "2024-02-21T16:33:29.271Z"
   },
   {
    "duration": 22,
    "start_time": "2024-02-21T16:33:29.284Z"
   },
   {
    "duration": 4,
    "start_time": "2024-02-21T16:33:29.323Z"
   },
   {
    "duration": 41,
    "start_time": "2024-02-21T16:33:29.328Z"
   },
   {
    "duration": 26,
    "start_time": "2024-02-21T16:33:29.371Z"
   },
   {
    "duration": 33,
    "start_time": "2024-02-21T16:33:29.399Z"
   },
   {
    "duration": 242,
    "start_time": "2024-02-21T16:33:29.434Z"
   },
   {
    "duration": 371,
    "start_time": "2024-02-21T16:33:29.678Z"
   },
   {
    "duration": 22,
    "start_time": "2024-02-21T16:33:30.051Z"
   },
   {
    "duration": 81,
    "start_time": "2024-02-21T16:33:30.075Z"
   },
   {
    "duration": 239,
    "start_time": "2024-02-21T16:33:30.158Z"
   },
   {
    "duration": 208,
    "start_time": "2024-02-21T16:33:30.399Z"
   },
   {
    "duration": 5,
    "start_time": "2024-02-21T16:33:30.609Z"
   },
   {
    "duration": 410,
    "start_time": "2024-02-21T16:33:30.622Z"
   },
   {
    "duration": 303,
    "start_time": "2024-02-21T16:33:31.033Z"
   },
   {
    "duration": 1050,
    "start_time": "2024-02-21T16:33:31.338Z"
   },
   {
    "duration": 15,
    "start_time": "2024-02-21T16:33:32.390Z"
   },
   {
    "duration": 27,
    "start_time": "2024-02-21T16:33:32.407Z"
   },
   {
    "duration": 178,
    "start_time": "2024-02-21T16:33:32.435Z"
   },
   {
    "duration": 17,
    "start_time": "2024-02-21T16:33:32.615Z"
   },
   {
    "duration": 1066,
    "start_time": "2024-02-21T16:33:32.634Z"
   },
   {
    "duration": 0,
    "start_time": "2024-02-21T16:33:33.702Z"
   },
   {
    "duration": 0,
    "start_time": "2024-02-21T16:33:33.704Z"
   },
   {
    "duration": 3,
    "start_time": "2024-02-21T16:34:52.136Z"
   },
   {
    "duration": 23,
    "start_time": "2024-02-21T16:34:56.785Z"
   },
   {
    "duration": 3,
    "start_time": "2024-02-21T16:35:03.813Z"
   },
   {
    "duration": 101,
    "start_time": "2024-02-21T16:35:03.818Z"
   },
   {
    "duration": 10,
    "start_time": "2024-02-21T16:35:03.921Z"
   },
   {
    "duration": 17,
    "start_time": "2024-02-21T16:35:03.933Z"
   },
   {
    "duration": 12,
    "start_time": "2024-02-21T16:35:03.953Z"
   },
   {
    "duration": 47,
    "start_time": "2024-02-21T16:35:03.966Z"
   },
   {
    "duration": 27,
    "start_time": "2024-02-21T16:35:04.015Z"
   },
   {
    "duration": 18,
    "start_time": "2024-02-21T16:35:04.043Z"
   },
   {
    "duration": 17,
    "start_time": "2024-02-21T16:35:04.063Z"
   },
   {
    "duration": 49,
    "start_time": "2024-02-21T16:35:04.082Z"
   },
   {
    "duration": 43,
    "start_time": "2024-02-21T16:35:04.133Z"
   },
   {
    "duration": 36,
    "start_time": "2024-02-21T16:35:04.178Z"
   },
   {
    "duration": 17,
    "start_time": "2024-02-21T16:35:04.217Z"
   },
   {
    "duration": 24,
    "start_time": "2024-02-21T16:35:04.237Z"
   },
   {
    "duration": 22,
    "start_time": "2024-02-21T16:35:04.262Z"
   },
   {
    "duration": 34,
    "start_time": "2024-02-21T16:35:04.286Z"
   },
   {
    "duration": 23,
    "start_time": "2024-02-21T16:35:04.321Z"
   },
   {
    "duration": 20,
    "start_time": "2024-02-21T16:35:04.346Z"
   },
   {
    "duration": 12,
    "start_time": "2024-02-21T16:35:04.368Z"
   },
   {
    "duration": 8,
    "start_time": "2024-02-21T16:35:04.381Z"
   },
   {
    "duration": 163,
    "start_time": "2024-02-21T16:35:04.390Z"
   },
   {
    "duration": 6,
    "start_time": "2024-02-21T16:35:04.554Z"
   },
   {
    "duration": 127,
    "start_time": "2024-02-21T16:35:04.562Z"
   },
   {
    "duration": 9,
    "start_time": "2024-02-21T16:35:04.690Z"
   },
   {
    "duration": 228,
    "start_time": "2024-02-21T16:35:04.700Z"
   },
   {
    "duration": 11,
    "start_time": "2024-02-21T16:35:04.930Z"
   },
   {
    "duration": 252,
    "start_time": "2024-02-21T16:35:04.943Z"
   },
   {
    "duration": 9,
    "start_time": "2024-02-21T16:35:05.197Z"
   },
   {
    "duration": 450,
    "start_time": "2024-02-21T16:35:05.208Z"
   },
   {
    "duration": 11,
    "start_time": "2024-02-21T16:35:05.660Z"
   },
   {
    "duration": 34,
    "start_time": "2024-02-21T16:35:05.673Z"
   },
   {
    "duration": 32,
    "start_time": "2024-02-21T16:35:05.709Z"
   },
   {
    "duration": 3,
    "start_time": "2024-02-21T16:35:05.744Z"
   },
   {
    "duration": 40,
    "start_time": "2024-02-21T16:35:05.749Z"
   },
   {
    "duration": 49,
    "start_time": "2024-02-21T16:35:05.791Z"
   },
   {
    "duration": 37,
    "start_time": "2024-02-21T16:35:05.842Z"
   },
   {
    "duration": 239,
    "start_time": "2024-02-21T16:35:05.881Z"
   },
   {
    "duration": 229,
    "start_time": "2024-02-21T16:35:06.122Z"
   },
   {
    "duration": 25,
    "start_time": "2024-02-21T16:35:06.353Z"
   },
   {
    "duration": 66,
    "start_time": "2024-02-21T16:35:06.381Z"
   },
   {
    "duration": 216,
    "start_time": "2024-02-21T16:35:06.453Z"
   },
   {
    "duration": 228,
    "start_time": "2024-02-21T16:35:06.671Z"
   },
   {
    "duration": 6,
    "start_time": "2024-02-21T16:35:06.901Z"
   },
   {
    "duration": 307,
    "start_time": "2024-02-21T16:35:06.909Z"
   },
   {
    "duration": 306,
    "start_time": "2024-02-21T16:35:07.218Z"
   },
   {
    "duration": 933,
    "start_time": "2024-02-21T16:35:07.526Z"
   },
   {
    "duration": 14,
    "start_time": "2024-02-21T16:35:08.461Z"
   },
   {
    "duration": 8,
    "start_time": "2024-02-21T16:35:08.477Z"
   },
   {
    "duration": 172,
    "start_time": "2024-02-21T16:35:08.487Z"
   },
   {
    "duration": 14,
    "start_time": "2024-02-21T16:35:08.660Z"
   },
   {
    "duration": 1170,
    "start_time": "2024-02-21T16:35:08.675Z"
   },
   {
    "duration": 0,
    "start_time": "2024-02-21T16:35:09.847Z"
   },
   {
    "duration": 0,
    "start_time": "2024-02-21T16:35:09.848Z"
   },
   {
    "duration": 3,
    "start_time": "2024-02-21T16:36:12.566Z"
   },
   {
    "duration": 23,
    "start_time": "2024-02-21T16:36:15.034Z"
   },
   {
    "duration": 32,
    "start_time": "2024-02-21T16:36:15.906Z"
   },
   {
    "duration": 76,
    "start_time": "2024-02-21T16:37:22.558Z"
   },
   {
    "duration": 44,
    "start_time": "2024-02-22T07:40:55.173Z"
   },
   {
    "duration": 1086,
    "start_time": "2024-02-22T07:41:14.197Z"
   },
   {
    "duration": 71,
    "start_time": "2024-02-22T07:41:15.284Z"
   },
   {
    "duration": 11,
    "start_time": "2024-02-22T07:41:15.357Z"
   },
   {
    "duration": 29,
    "start_time": "2024-02-22T07:41:15.369Z"
   },
   {
    "duration": 32,
    "start_time": "2024-02-22T07:41:15.401Z"
   },
   {
    "duration": 29,
    "start_time": "2024-02-22T07:41:15.434Z"
   },
   {
    "duration": 19,
    "start_time": "2024-02-22T07:41:15.465Z"
   },
   {
    "duration": 30,
    "start_time": "2024-02-22T07:41:15.486Z"
   },
   {
    "duration": 23,
    "start_time": "2024-02-22T07:41:15.517Z"
   },
   {
    "duration": 41,
    "start_time": "2024-02-22T07:41:15.541Z"
   },
   {
    "duration": 43,
    "start_time": "2024-02-22T07:41:15.584Z"
   },
   {
    "duration": 27,
    "start_time": "2024-02-22T07:41:15.628Z"
   },
   {
    "duration": 24,
    "start_time": "2024-02-22T07:41:15.657Z"
   },
   {
    "duration": 19,
    "start_time": "2024-02-22T07:41:15.685Z"
   },
   {
    "duration": 19,
    "start_time": "2024-02-22T07:41:15.706Z"
   },
   {
    "duration": 14,
    "start_time": "2024-02-22T07:41:15.727Z"
   },
   {
    "duration": 43,
    "start_time": "2024-02-22T07:41:15.743Z"
   },
   {
    "duration": 20,
    "start_time": "2024-02-22T07:41:15.788Z"
   },
   {
    "duration": 18,
    "start_time": "2024-02-22T07:41:15.810Z"
   },
   {
    "duration": 1352,
    "start_time": "2024-02-22T07:41:15.829Z"
   },
   {
    "duration": 0,
    "start_time": "2024-02-22T07:41:17.184Z"
   },
   {
    "duration": 0,
    "start_time": "2024-02-22T07:41:17.186Z"
   },
   {
    "duration": 0,
    "start_time": "2024-02-22T07:41:17.187Z"
   },
   {
    "duration": 0,
    "start_time": "2024-02-22T07:41:17.188Z"
   },
   {
    "duration": 0,
    "start_time": "2024-02-22T07:41:17.190Z"
   },
   {
    "duration": 0,
    "start_time": "2024-02-22T07:41:17.191Z"
   },
   {
    "duration": 0,
    "start_time": "2024-02-22T07:41:17.193Z"
   },
   {
    "duration": 0,
    "start_time": "2024-02-22T07:41:17.194Z"
   },
   {
    "duration": 0,
    "start_time": "2024-02-22T07:41:17.196Z"
   },
   {
    "duration": 0,
    "start_time": "2024-02-22T07:41:17.197Z"
   },
   {
    "duration": 0,
    "start_time": "2024-02-22T07:41:17.198Z"
   },
   {
    "duration": 0,
    "start_time": "2024-02-22T07:41:17.199Z"
   },
   {
    "duration": 0,
    "start_time": "2024-02-22T07:41:17.200Z"
   },
   {
    "duration": 0,
    "start_time": "2024-02-22T07:41:17.200Z"
   },
   {
    "duration": 0,
    "start_time": "2024-02-22T07:41:17.201Z"
   },
   {
    "duration": 0,
    "start_time": "2024-02-22T07:41:17.202Z"
   },
   {
    "duration": 0,
    "start_time": "2024-02-22T07:41:17.203Z"
   },
   {
    "duration": 0,
    "start_time": "2024-02-22T07:41:17.204Z"
   },
   {
    "duration": 0,
    "start_time": "2024-02-22T07:41:17.204Z"
   },
   {
    "duration": 0,
    "start_time": "2024-02-22T07:41:17.206Z"
   },
   {
    "duration": 0,
    "start_time": "2024-02-22T07:41:17.208Z"
   },
   {
    "duration": 0,
    "start_time": "2024-02-22T07:41:17.209Z"
   },
   {
    "duration": 0,
    "start_time": "2024-02-22T07:41:17.211Z"
   },
   {
    "duration": 0,
    "start_time": "2024-02-22T07:41:17.212Z"
   },
   {
    "duration": 0,
    "start_time": "2024-02-22T07:41:17.214Z"
   },
   {
    "duration": 0,
    "start_time": "2024-02-22T07:41:17.215Z"
   },
   {
    "duration": 0,
    "start_time": "2024-02-22T07:41:17.216Z"
   },
   {
    "duration": 0,
    "start_time": "2024-02-22T07:41:17.217Z"
   },
   {
    "duration": 0,
    "start_time": "2024-02-22T07:41:17.219Z"
   },
   {
    "duration": 0,
    "start_time": "2024-02-22T07:41:17.220Z"
   },
   {
    "duration": 0,
    "start_time": "2024-02-22T07:41:17.222Z"
   },
   {
    "duration": 0,
    "start_time": "2024-02-22T07:41:17.245Z"
   },
   {
    "duration": 0,
    "start_time": "2024-02-22T07:41:17.247Z"
   },
   {
    "duration": 16,
    "start_time": "2024-02-22T07:41:53.313Z"
   },
   {
    "duration": 9,
    "start_time": "2024-02-22T07:42:18.765Z"
   },
   {
    "duration": 6,
    "start_time": "2024-02-22T07:42:24.607Z"
   },
   {
    "duration": 141,
    "start_time": "2024-02-22T07:42:26.786Z"
   },
   {
    "duration": 2,
    "start_time": "2024-02-22T07:42:30.758Z"
   },
   {
    "duration": 134,
    "start_time": "2024-02-22T07:42:30.762Z"
   },
   {
    "duration": 8,
    "start_time": "2024-02-22T07:42:30.898Z"
   },
   {
    "duration": 39,
    "start_time": "2024-02-22T07:42:30.907Z"
   },
   {
    "duration": 40,
    "start_time": "2024-02-22T07:42:30.948Z"
   },
   {
    "duration": 57,
    "start_time": "2024-02-22T07:42:30.990Z"
   },
   {
    "duration": 50,
    "start_time": "2024-02-22T07:42:31.049Z"
   },
   {
    "duration": 49,
    "start_time": "2024-02-22T07:42:31.101Z"
   },
   {
    "duration": 34,
    "start_time": "2024-02-22T07:42:31.151Z"
   },
   {
    "duration": 52,
    "start_time": "2024-02-22T07:42:31.186Z"
   },
   {
    "duration": 47,
    "start_time": "2024-02-22T07:42:31.241Z"
   },
   {
    "duration": 49,
    "start_time": "2024-02-22T07:42:31.290Z"
   },
   {
    "duration": 53,
    "start_time": "2024-02-22T07:42:31.340Z"
   },
   {
    "duration": 44,
    "start_time": "2024-02-22T07:42:31.394Z"
   },
   {
    "duration": 33,
    "start_time": "2024-02-22T07:42:31.440Z"
   },
   {
    "duration": 59,
    "start_time": "2024-02-22T07:42:31.475Z"
   },
   {
    "duration": 61,
    "start_time": "2024-02-22T07:42:31.535Z"
   },
   {
    "duration": 43,
    "start_time": "2024-02-22T07:42:31.599Z"
   },
   {
    "duration": 45,
    "start_time": "2024-02-22T07:42:31.644Z"
   },
   {
    "duration": 17,
    "start_time": "2024-02-22T07:42:31.691Z"
   },
   {
    "duration": 163,
    "start_time": "2024-02-22T07:42:31.709Z"
   },
   {
    "duration": 5,
    "start_time": "2024-02-22T07:42:31.874Z"
   },
   {
    "duration": 197,
    "start_time": "2024-02-22T07:42:31.880Z"
   },
   {
    "duration": 9,
    "start_time": "2024-02-22T07:42:32.078Z"
   },
   {
    "duration": 234,
    "start_time": "2024-02-22T07:42:32.088Z"
   },
   {
    "duration": 8,
    "start_time": "2024-02-22T07:42:32.324Z"
   },
   {
    "duration": 273,
    "start_time": "2024-02-22T07:42:32.334Z"
   },
   {
    "duration": 9,
    "start_time": "2024-02-22T07:42:32.609Z"
   },
   {
    "duration": 241,
    "start_time": "2024-02-22T07:42:32.622Z"
   },
   {
    "duration": 10,
    "start_time": "2024-02-22T07:42:32.865Z"
   },
   {
    "duration": 13,
    "start_time": "2024-02-22T07:42:32.877Z"
   },
   {
    "duration": 19,
    "start_time": "2024-02-22T07:42:32.892Z"
   },
   {
    "duration": 3,
    "start_time": "2024-02-22T07:42:32.913Z"
   },
   {
    "duration": 11,
    "start_time": "2024-02-22T07:42:32.917Z"
   },
   {
    "duration": 51,
    "start_time": "2024-02-22T07:42:32.929Z"
   },
   {
    "duration": 28,
    "start_time": "2024-02-22T07:42:32.981Z"
   },
   {
    "duration": 181,
    "start_time": "2024-02-22T07:42:33.010Z"
   },
   {
    "duration": 255,
    "start_time": "2024-02-22T07:42:33.193Z"
   },
   {
    "duration": 26,
    "start_time": "2024-02-22T07:42:33.449Z"
   },
   {
    "duration": 27,
    "start_time": "2024-02-22T07:42:33.477Z"
   },
   {
    "duration": 189,
    "start_time": "2024-02-22T07:42:33.505Z"
   },
   {
    "duration": 185,
    "start_time": "2024-02-22T07:42:33.695Z"
   },
   {
    "duration": 5,
    "start_time": "2024-02-22T07:42:33.882Z"
   },
   {
    "duration": 236,
    "start_time": "2024-02-22T07:42:33.889Z"
   },
   {
    "duration": 242,
    "start_time": "2024-02-22T07:42:34.127Z"
   },
   {
    "duration": 825,
    "start_time": "2024-02-22T07:42:34.370Z"
   },
   {
    "duration": 11,
    "start_time": "2024-02-22T07:42:35.197Z"
   },
   {
    "duration": 22,
    "start_time": "2024-02-22T07:42:35.210Z"
   },
   {
    "duration": 139,
    "start_time": "2024-02-22T07:42:35.233Z"
   },
   {
    "duration": 11,
    "start_time": "2024-02-22T07:42:35.373Z"
   },
   {
    "duration": 1211,
    "start_time": "2024-02-22T07:42:35.386Z"
   },
   {
    "duration": 0,
    "start_time": "2024-02-22T07:42:36.598Z"
   },
   {
    "duration": 0,
    "start_time": "2024-02-22T07:42:36.599Z"
   },
   {
    "duration": 7,
    "start_time": "2024-02-22T07:44:04.113Z"
   },
   {
    "duration": 1334,
    "start_time": "2024-02-22T07:44:54.722Z"
   },
   {
    "duration": 6,
    "start_time": "2024-02-22T07:45:04.394Z"
   },
   {
    "duration": 6,
    "start_time": "2024-02-22T07:45:17.249Z"
   },
   {
    "duration": 6,
    "start_time": "2024-02-22T07:46:23.990Z"
   },
   {
    "duration": 6,
    "start_time": "2024-02-22T07:46:47.927Z"
   },
   {
    "duration": 91,
    "start_time": "2024-02-22T07:48:06.747Z"
   },
   {
    "duration": 9,
    "start_time": "2024-02-22T07:49:40.607Z"
   },
   {
    "duration": 7,
    "start_time": "2024-02-22T08:23:06.058Z"
   },
   {
    "duration": 6,
    "start_time": "2024-02-22T08:23:10.980Z"
   },
   {
    "duration": 11,
    "start_time": "2024-02-22T08:24:51.992Z"
   },
   {
    "duration": 12,
    "start_time": "2024-02-22T08:25:53.323Z"
   },
   {
    "duration": 3,
    "start_time": "2024-02-22T08:26:36.037Z"
   },
   {
    "duration": 102,
    "start_time": "2024-02-22T08:26:36.042Z"
   },
   {
    "duration": 8,
    "start_time": "2024-02-22T08:26:36.145Z"
   },
   {
    "duration": 36,
    "start_time": "2024-02-22T08:26:36.154Z"
   },
   {
    "duration": 23,
    "start_time": "2024-02-22T08:26:36.192Z"
   },
   {
    "duration": 20,
    "start_time": "2024-02-22T08:26:36.216Z"
   },
   {
    "duration": 28,
    "start_time": "2024-02-22T08:26:36.238Z"
   },
   {
    "duration": 17,
    "start_time": "2024-02-22T08:26:36.268Z"
   },
   {
    "duration": 16,
    "start_time": "2024-02-22T08:26:36.287Z"
   },
   {
    "duration": 34,
    "start_time": "2024-02-22T08:26:36.304Z"
   },
   {
    "duration": 37,
    "start_time": "2024-02-22T08:26:36.340Z"
   },
   {
    "duration": 15,
    "start_time": "2024-02-22T08:26:36.378Z"
   },
   {
    "duration": 27,
    "start_time": "2024-02-22T08:26:36.396Z"
   },
   {
    "duration": 56,
    "start_time": "2024-02-22T08:26:36.425Z"
   },
   {
    "duration": 39,
    "start_time": "2024-02-22T08:26:36.483Z"
   },
   {
    "duration": 27,
    "start_time": "2024-02-22T08:26:36.523Z"
   },
   {
    "duration": 28,
    "start_time": "2024-02-22T08:26:36.551Z"
   },
   {
    "duration": 36,
    "start_time": "2024-02-22T08:26:36.580Z"
   },
   {
    "duration": 51,
    "start_time": "2024-02-22T08:26:36.618Z"
   },
   {
    "duration": 37,
    "start_time": "2024-02-22T08:26:36.670Z"
   },
   {
    "duration": 170,
    "start_time": "2024-02-22T08:26:36.709Z"
   },
   {
    "duration": 6,
    "start_time": "2024-02-22T08:26:36.880Z"
   },
   {
    "duration": 146,
    "start_time": "2024-02-22T08:26:36.888Z"
   },
   {
    "duration": 13,
    "start_time": "2024-02-22T08:26:37.036Z"
   },
   {
    "duration": 208,
    "start_time": "2024-02-22T08:26:37.050Z"
   },
   {
    "duration": 9,
    "start_time": "2024-02-22T08:26:37.260Z"
   },
   {
    "duration": 193,
    "start_time": "2024-02-22T08:26:37.270Z"
   },
   {
    "duration": 19,
    "start_time": "2024-02-22T08:26:37.465Z"
   },
   {
    "duration": 302,
    "start_time": "2024-02-22T08:26:37.485Z"
   },
   {
    "duration": 10,
    "start_time": "2024-02-22T08:26:37.788Z"
   },
   {
    "duration": 14,
    "start_time": "2024-02-22T08:26:37.800Z"
   },
   {
    "duration": 34,
    "start_time": "2024-02-22T08:26:37.816Z"
   },
   {
    "duration": 4,
    "start_time": "2024-02-22T08:26:37.852Z"
   },
   {
    "duration": 5,
    "start_time": "2024-02-22T08:26:37.858Z"
   },
   {
    "duration": 23,
    "start_time": "2024-02-22T08:26:37.865Z"
   },
   {
    "duration": 59,
    "start_time": "2024-02-22T08:26:37.890Z"
   },
   {
    "duration": 192,
    "start_time": "2024-02-22T08:26:37.953Z"
   },
   {
    "duration": 193,
    "start_time": "2024-02-22T08:26:38.146Z"
   },
   {
    "duration": 22,
    "start_time": "2024-02-22T08:26:38.340Z"
   },
   {
    "duration": 27,
    "start_time": "2024-02-22T08:26:38.363Z"
   },
   {
    "duration": 182,
    "start_time": "2024-02-22T08:26:38.391Z"
   },
   {
    "duration": 184,
    "start_time": "2024-02-22T08:26:38.574Z"
   },
   {
    "duration": 4,
    "start_time": "2024-02-22T08:26:38.759Z"
   },
   {
    "duration": 237,
    "start_time": "2024-02-22T08:26:38.765Z"
   },
   {
    "duration": 257,
    "start_time": "2024-02-22T08:26:39.003Z"
   },
   {
    "duration": 829,
    "start_time": "2024-02-22T08:26:39.262Z"
   },
   {
    "duration": 11,
    "start_time": "2024-02-22T08:26:40.092Z"
   },
   {
    "duration": 35,
    "start_time": "2024-02-22T08:26:40.105Z"
   },
   {
    "duration": 141,
    "start_time": "2024-02-22T08:26:40.141Z"
   },
   {
    "duration": 11,
    "start_time": "2024-02-22T08:26:40.283Z"
   },
   {
    "duration": 7,
    "start_time": "2024-02-22T08:26:40.295Z"
   },
   {
    "duration": 11,
    "start_time": "2024-02-22T08:26:40.303Z"
   },
   {
    "duration": 32,
    "start_time": "2024-02-22T08:26:40.315Z"
   },
   {
    "duration": 1295,
    "start_time": "2024-02-22T08:28:28.006Z"
   },
   {
    "duration": 7,
    "start_time": "2024-02-22T08:28:44.177Z"
   },
   {
    "duration": 3,
    "start_time": "2024-02-22T08:29:46.555Z"
   },
   {
    "duration": 5,
    "start_time": "2024-02-22T08:29:52.611Z"
   },
   {
    "duration": 7,
    "start_time": "2024-02-22T08:32:38.336Z"
   },
   {
    "duration": 5,
    "start_time": "2024-02-22T08:33:59.140Z"
   },
   {
    "duration": 6,
    "start_time": "2024-02-22T08:34:02.666Z"
   },
   {
    "duration": 7,
    "start_time": "2024-02-22T08:34:10.533Z"
   },
   {
    "duration": 71,
    "start_time": "2024-02-22T08:34:17.172Z"
   },
   {
    "duration": 5,
    "start_time": "2024-02-22T08:34:21.253Z"
   },
   {
    "duration": 9,
    "start_time": "2024-02-22T08:34:55.865Z"
   },
   {
    "duration": 5,
    "start_time": "2024-02-22T08:35:05.044Z"
   },
   {
    "duration": 5,
    "start_time": "2024-02-22T08:35:19.849Z"
   },
   {
    "duration": 5,
    "start_time": "2024-02-22T08:36:23.021Z"
   },
   {
    "duration": 139,
    "start_time": "2024-02-22T08:36:30.089Z"
   },
   {
    "duration": 127,
    "start_time": "2024-02-22T08:36:47.348Z"
   },
   {
    "duration": 3,
    "start_time": "2024-02-22T08:37:07.102Z"
   },
   {
    "duration": 108,
    "start_time": "2024-02-22T08:37:07.107Z"
   },
   {
    "duration": 39,
    "start_time": "2024-02-22T08:37:07.217Z"
   },
   {
    "duration": 43,
    "start_time": "2024-02-22T08:37:07.257Z"
   },
   {
    "duration": 23,
    "start_time": "2024-02-22T08:37:07.302Z"
   },
   {
    "duration": 13,
    "start_time": "2024-02-22T08:37:07.326Z"
   },
   {
    "duration": 21,
    "start_time": "2024-02-22T08:37:07.341Z"
   },
   {
    "duration": 11,
    "start_time": "2024-02-22T08:37:07.364Z"
   },
   {
    "duration": 14,
    "start_time": "2024-02-22T08:37:07.377Z"
   },
   {
    "duration": 21,
    "start_time": "2024-02-22T08:37:07.392Z"
   },
   {
    "duration": 17,
    "start_time": "2024-02-22T08:37:07.415Z"
   },
   {
    "duration": 7,
    "start_time": "2024-02-22T08:37:07.434Z"
   },
   {
    "duration": 24,
    "start_time": "2024-02-22T08:37:07.442Z"
   },
   {
    "duration": 25,
    "start_time": "2024-02-22T08:37:07.467Z"
   },
   {
    "duration": 12,
    "start_time": "2024-02-22T08:37:07.494Z"
   },
   {
    "duration": 36,
    "start_time": "2024-02-22T08:37:07.507Z"
   },
   {
    "duration": 16,
    "start_time": "2024-02-22T08:37:07.544Z"
   },
   {
    "duration": 21,
    "start_time": "2024-02-22T08:37:07.562Z"
   },
   {
    "duration": 30,
    "start_time": "2024-02-22T08:37:07.584Z"
   },
   {
    "duration": 5,
    "start_time": "2024-02-22T08:37:07.615Z"
   },
   {
    "duration": 41,
    "start_time": "2024-02-22T08:37:07.621Z"
   },
   {
    "duration": 151,
    "start_time": "2024-02-22T08:37:07.663Z"
   },
   {
    "duration": 6,
    "start_time": "2024-02-22T08:37:07.818Z"
   },
   {
    "duration": 167,
    "start_time": "2024-02-22T08:37:07.827Z"
   },
   {
    "duration": 7,
    "start_time": "2024-02-22T08:37:07.995Z"
   },
   {
    "duration": 190,
    "start_time": "2024-02-22T08:37:08.003Z"
   },
   {
    "duration": 8,
    "start_time": "2024-02-22T08:37:08.195Z"
   },
   {
    "duration": 204,
    "start_time": "2024-02-22T08:37:08.204Z"
   },
   {
    "duration": 7,
    "start_time": "2024-02-22T08:37:08.409Z"
   },
   {
    "duration": 231,
    "start_time": "2024-02-22T08:37:08.417Z"
   },
   {
    "duration": 8,
    "start_time": "2024-02-22T08:37:08.650Z"
   },
   {
    "duration": 27,
    "start_time": "2024-02-22T08:37:08.659Z"
   },
   {
    "duration": 24,
    "start_time": "2024-02-22T08:37:08.687Z"
   },
   {
    "duration": 3,
    "start_time": "2024-02-22T08:37:08.712Z"
   },
   {
    "duration": 34,
    "start_time": "2024-02-22T08:37:08.716Z"
   },
   {
    "duration": 30,
    "start_time": "2024-02-22T08:37:08.752Z"
   },
   {
    "duration": 51,
    "start_time": "2024-02-22T08:37:08.784Z"
   },
   {
    "duration": 276,
    "start_time": "2024-02-22T08:37:08.837Z"
   },
   {
    "duration": 185,
    "start_time": "2024-02-22T08:37:09.115Z"
   },
   {
    "duration": 18,
    "start_time": "2024-02-22T08:37:09.301Z"
   },
   {
    "duration": 151,
    "start_time": "2024-02-22T08:37:09.320Z"
   },
   {
    "duration": 436,
    "start_time": "2024-02-22T08:37:09.472Z"
   },
   {
    "duration": 324,
    "start_time": "2024-02-22T08:37:09.909Z"
   },
   {
    "duration": 4,
    "start_time": "2024-02-22T08:37:10.234Z"
   },
   {
    "duration": 239,
    "start_time": "2024-02-22T08:37:10.239Z"
   },
   {
    "duration": 233,
    "start_time": "2024-02-22T08:37:10.479Z"
   },
   {
    "duration": 932,
    "start_time": "2024-02-22T08:37:10.714Z"
   },
   {
    "duration": 12,
    "start_time": "2024-02-22T08:37:11.647Z"
   },
   {
    "duration": 44,
    "start_time": "2024-02-22T08:37:11.660Z"
   },
   {
    "duration": 234,
    "start_time": "2024-02-22T08:37:11.705Z"
   },
   {
    "duration": 13,
    "start_time": "2024-02-22T08:37:11.940Z"
   },
   {
    "duration": 12,
    "start_time": "2024-02-22T08:37:11.954Z"
   },
   {
    "duration": 14,
    "start_time": "2024-02-22T08:37:11.968Z"
   },
   {
    "duration": 71,
    "start_time": "2024-02-22T08:37:11.984Z"
   },
   {
    "duration": 7,
    "start_time": "2024-02-22T08:38:05.142Z"
   },
   {
    "duration": 4,
    "start_time": "2024-02-22T08:40:36.320Z"
   },
   {
    "duration": 223,
    "start_time": "2024-02-22T08:41:55.832Z"
   },
   {
    "duration": 1251,
    "start_time": "2024-02-22T08:42:18.203Z"
   },
   {
    "duration": 2065,
    "start_time": "2024-02-22T08:42:26.145Z"
   },
   {
    "duration": 1194,
    "start_time": "2024-02-22T08:42:37.382Z"
   },
   {
    "duration": 1322,
    "start_time": "2024-02-22T08:42:51.308Z"
   },
   {
    "duration": 3,
    "start_time": "2024-02-22T08:43:01.455Z"
   },
   {
    "duration": 102,
    "start_time": "2024-02-22T08:43:01.460Z"
   },
   {
    "duration": 42,
    "start_time": "2024-02-22T08:43:01.563Z"
   },
   {
    "duration": 68,
    "start_time": "2024-02-22T08:43:01.607Z"
   },
   {
    "duration": 45,
    "start_time": "2024-02-22T08:43:01.677Z"
   },
   {
    "duration": 44,
    "start_time": "2024-02-22T08:43:01.724Z"
   },
   {
    "duration": 22,
    "start_time": "2024-02-22T08:43:01.770Z"
   },
   {
    "duration": 19,
    "start_time": "2024-02-22T08:43:01.793Z"
   },
   {
    "duration": 25,
    "start_time": "2024-02-22T08:43:01.814Z"
   },
   {
    "duration": 36,
    "start_time": "2024-02-22T08:43:01.840Z"
   },
   {
    "duration": 35,
    "start_time": "2024-02-22T08:43:01.877Z"
   },
   {
    "duration": 20,
    "start_time": "2024-02-22T08:43:01.913Z"
   },
   {
    "duration": 29,
    "start_time": "2024-02-22T08:43:01.934Z"
   },
   {
    "duration": 39,
    "start_time": "2024-02-22T08:43:01.966Z"
   },
   {
    "duration": 21,
    "start_time": "2024-02-22T08:43:02.007Z"
   },
   {
    "duration": 62,
    "start_time": "2024-02-22T08:43:02.029Z"
   },
   {
    "duration": 147,
    "start_time": "2024-02-22T08:43:02.092Z"
   },
   {
    "duration": 239,
    "start_time": "2024-02-22T08:43:02.240Z"
   },
   {
    "duration": 151,
    "start_time": "2024-02-22T08:43:02.480Z"
   },
   {
    "duration": 167,
    "start_time": "2024-02-22T08:43:02.633Z"
   },
   {
    "duration": 41,
    "start_time": "2024-02-22T08:43:02.801Z"
   },
   {
    "duration": 138,
    "start_time": "2024-02-22T08:43:02.843Z"
   },
   {
    "duration": 5,
    "start_time": "2024-02-22T08:43:02.982Z"
   },
   {
    "duration": 129,
    "start_time": "2024-02-22T08:43:02.989Z"
   },
   {
    "duration": 16,
    "start_time": "2024-02-22T08:43:03.120Z"
   },
   {
    "duration": 261,
    "start_time": "2024-02-22T08:43:03.138Z"
   },
   {
    "duration": 8,
    "start_time": "2024-02-22T08:43:03.401Z"
   },
   {
    "duration": 325,
    "start_time": "2024-02-22T08:43:03.411Z"
   },
   {
    "duration": 344,
    "start_time": "2024-02-22T08:43:03.745Z"
   },
   {
    "duration": 426,
    "start_time": "2024-02-22T08:43:04.091Z"
   },
   {
    "duration": 9,
    "start_time": "2024-02-22T08:43:04.519Z"
   },
   {
    "duration": 16,
    "start_time": "2024-02-22T08:43:04.529Z"
   },
   {
    "duration": 16,
    "start_time": "2024-02-22T08:43:04.546Z"
   },
   {
    "duration": 3,
    "start_time": "2024-02-22T08:43:04.563Z"
   },
   {
    "duration": 4,
    "start_time": "2024-02-22T08:43:04.568Z"
   },
   {
    "duration": 22,
    "start_time": "2024-02-22T08:43:04.573Z"
   },
   {
    "duration": 68,
    "start_time": "2024-02-22T08:43:04.596Z"
   },
   {
    "duration": 194,
    "start_time": "2024-02-22T08:43:04.666Z"
   },
   {
    "duration": 200,
    "start_time": "2024-02-22T08:43:04.861Z"
   },
   {
    "duration": 18,
    "start_time": "2024-02-22T08:43:05.062Z"
   },
   {
    "duration": 35,
    "start_time": "2024-02-22T08:43:05.084Z"
   },
   {
    "duration": 248,
    "start_time": "2024-02-22T08:43:05.121Z"
   },
   {
    "duration": 183,
    "start_time": "2024-02-22T08:43:05.370Z"
   },
   {
    "duration": 4,
    "start_time": "2024-02-22T08:43:05.555Z"
   },
   {
    "duration": 239,
    "start_time": "2024-02-22T08:43:05.560Z"
   },
   {
    "duration": 239,
    "start_time": "2024-02-22T08:43:05.800Z"
   },
   {
    "duration": 873,
    "start_time": "2024-02-22T08:43:06.040Z"
   },
   {
    "duration": 11,
    "start_time": "2024-02-22T08:43:06.914Z"
   },
   {
    "duration": 4,
    "start_time": "2024-02-22T08:43:06.945Z"
   },
   {
    "duration": 135,
    "start_time": "2024-02-22T08:43:06.950Z"
   },
   {
    "duration": 11,
    "start_time": "2024-02-22T08:43:07.087Z"
   },
   {
    "duration": 7,
    "start_time": "2024-02-22T08:43:07.100Z"
   },
   {
    "duration": 6,
    "start_time": "2024-02-22T08:43:07.109Z"
   },
   {
    "duration": 37,
    "start_time": "2024-02-22T08:43:07.117Z"
   },
   {
    "duration": 219,
    "start_time": "2024-02-22T08:45:20.484Z"
   },
   {
    "duration": 223,
    "start_time": "2024-02-22T08:45:50.338Z"
   },
   {
    "duration": 79,
    "start_time": "2024-02-22T08:46:42.314Z"
   },
   {
    "duration": 13,
    "start_time": "2024-02-22T08:54:24.176Z"
   },
   {
    "duration": 12,
    "start_time": "2024-02-22T08:54:30.964Z"
   },
   {
    "duration": 9,
    "start_time": "2024-02-22T09:01:43.349Z"
   },
   {
    "duration": 840,
    "start_time": "2024-02-22T09:01:54.381Z"
   },
   {
    "duration": 852,
    "start_time": "2024-02-22T09:02:14.883Z"
   },
   {
    "duration": 924,
    "start_time": "2024-02-22T09:02:30.198Z"
   },
   {
    "duration": 964,
    "start_time": "2024-02-22T09:02:47.913Z"
   },
   {
    "duration": 11,
    "start_time": "2024-02-22T09:04:36.517Z"
   },
   {
    "duration": 3,
    "start_time": "2024-02-22T09:04:39.067Z"
   },
   {
    "duration": 83,
    "start_time": "2024-02-22T09:04:39.071Z"
   },
   {
    "duration": 8,
    "start_time": "2024-02-22T09:04:39.155Z"
   },
   {
    "duration": 9,
    "start_time": "2024-02-22T09:04:39.165Z"
   },
   {
    "duration": 42,
    "start_time": "2024-02-22T09:04:39.176Z"
   },
   {
    "duration": 10,
    "start_time": "2024-02-22T09:04:39.220Z"
   },
   {
    "duration": 16,
    "start_time": "2024-02-22T09:04:39.231Z"
   },
   {
    "duration": 6,
    "start_time": "2024-02-22T09:04:39.248Z"
   },
   {
    "duration": 12,
    "start_time": "2024-02-22T09:04:39.256Z"
   },
   {
    "duration": 6,
    "start_time": "2024-02-22T09:04:39.269Z"
   },
   {
    "duration": 7,
    "start_time": "2024-02-22T09:04:39.276Z"
   },
   {
    "duration": 10,
    "start_time": "2024-02-22T09:04:39.284Z"
   },
   {
    "duration": 6,
    "start_time": "2024-02-22T09:04:39.295Z"
   },
   {
    "duration": 8,
    "start_time": "2024-02-22T09:04:39.302Z"
   },
   {
    "duration": 34,
    "start_time": "2024-02-22T09:04:39.312Z"
   },
   {
    "duration": 6,
    "start_time": "2024-02-22T09:04:39.348Z"
   },
   {
    "duration": 8,
    "start_time": "2024-02-22T09:04:39.355Z"
   },
   {
    "duration": 9,
    "start_time": "2024-02-22T09:04:39.365Z"
   },
   {
    "duration": 7,
    "start_time": "2024-02-22T09:04:39.375Z"
   },
   {
    "duration": 7,
    "start_time": "2024-02-22T09:04:39.383Z"
   },
   {
    "duration": 19,
    "start_time": "2024-02-22T09:04:39.392Z"
   },
   {
    "duration": 153,
    "start_time": "2024-02-22T09:04:39.412Z"
   },
   {
    "duration": 6,
    "start_time": "2024-02-22T09:04:39.566Z"
   },
   {
    "duration": 100,
    "start_time": "2024-02-22T09:04:39.576Z"
   },
   {
    "duration": 7,
    "start_time": "2024-02-22T09:04:39.678Z"
   },
   {
    "duration": 183,
    "start_time": "2024-02-22T09:04:39.686Z"
   },
   {
    "duration": 8,
    "start_time": "2024-02-22T09:04:39.871Z"
   },
   {
    "duration": 268,
    "start_time": "2024-02-22T09:04:39.881Z"
   },
   {
    "duration": 8,
    "start_time": "2024-02-22T09:04:40.151Z"
   },
   {
    "duration": 225,
    "start_time": "2024-02-22T09:04:40.160Z"
   },
   {
    "duration": 9,
    "start_time": "2024-02-22T09:04:40.387Z"
   },
   {
    "duration": 26,
    "start_time": "2024-02-22T09:04:40.397Z"
   },
   {
    "duration": 22,
    "start_time": "2024-02-22T09:04:40.425Z"
   },
   {
    "duration": 10,
    "start_time": "2024-02-22T09:04:40.449Z"
   },
   {
    "duration": 19,
    "start_time": "2024-02-22T09:04:40.460Z"
   },
   {
    "duration": 30,
    "start_time": "2024-02-22T09:04:40.481Z"
   },
   {
    "duration": 29,
    "start_time": "2024-02-22T09:04:40.512Z"
   },
   {
    "duration": 200,
    "start_time": "2024-02-22T09:04:40.542Z"
   },
   {
    "duration": 174,
    "start_time": "2024-02-22T09:04:40.745Z"
   },
   {
    "duration": 29,
    "start_time": "2024-02-22T09:04:40.921Z"
   },
   {
    "duration": 31,
    "start_time": "2024-02-22T09:04:40.952Z"
   },
   {
    "duration": 189,
    "start_time": "2024-02-22T09:04:40.985Z"
   },
   {
    "duration": 171,
    "start_time": "2024-02-22T09:04:41.175Z"
   },
   {
    "duration": 4,
    "start_time": "2024-02-22T09:04:41.347Z"
   },
   {
    "duration": 236,
    "start_time": "2024-02-22T09:04:41.352Z"
   },
   {
    "duration": 234,
    "start_time": "2024-02-22T09:04:41.589Z"
   },
   {
    "duration": 823,
    "start_time": "2024-02-22T09:04:41.825Z"
   },
   {
    "duration": 10,
    "start_time": "2024-02-22T09:04:42.650Z"
   },
   {
    "duration": 11,
    "start_time": "2024-02-22T09:04:42.661Z"
   },
   {
    "duration": 138,
    "start_time": "2024-02-22T09:04:42.674Z"
   },
   {
    "duration": 12,
    "start_time": "2024-02-22T09:04:42.813Z"
   },
   {
    "duration": 20,
    "start_time": "2024-02-22T09:04:42.826Z"
   },
   {
    "duration": 17,
    "start_time": "2024-02-22T09:04:42.848Z"
   },
   {
    "duration": 25,
    "start_time": "2024-02-22T09:04:42.866Z"
   },
   {
    "duration": 135,
    "start_time": "2024-02-22T09:05:11.152Z"
   },
   {
    "duration": 98,
    "start_time": "2024-02-22T09:08:23.059Z"
   },
   {
    "duration": 4,
    "start_time": "2024-02-22T09:08:30.439Z"
   },
   {
    "duration": 18,
    "start_time": "2024-02-22T09:08:52.039Z"
   },
   {
    "duration": 67,
    "start_time": "2024-02-22T09:09:08.223Z"
   },
   {
    "duration": 6,
    "start_time": "2024-02-22T09:09:17.694Z"
   },
   {
    "duration": 16,
    "start_time": "2024-02-22T09:09:20.416Z"
   },
   {
    "duration": 3,
    "start_time": "2024-02-22T09:09:27.052Z"
   },
   {
    "duration": 74,
    "start_time": "2024-02-22T09:09:27.056Z"
   },
   {
    "duration": 8,
    "start_time": "2024-02-22T09:09:27.131Z"
   },
   {
    "duration": 22,
    "start_time": "2024-02-22T09:09:27.140Z"
   },
   {
    "duration": 11,
    "start_time": "2024-02-22T09:09:27.165Z"
   },
   {
    "duration": 10,
    "start_time": "2024-02-22T09:09:27.178Z"
   },
   {
    "duration": 17,
    "start_time": "2024-02-22T09:09:27.189Z"
   },
   {
    "duration": 6,
    "start_time": "2024-02-22T09:09:27.208Z"
   },
   {
    "duration": 34,
    "start_time": "2024-02-22T09:09:27.216Z"
   },
   {
    "duration": 6,
    "start_time": "2024-02-22T09:09:27.252Z"
   },
   {
    "duration": 8,
    "start_time": "2024-02-22T09:09:27.260Z"
   },
   {
    "duration": 5,
    "start_time": "2024-02-22T09:09:27.269Z"
   },
   {
    "duration": 11,
    "start_time": "2024-02-22T09:09:27.276Z"
   },
   {
    "duration": 5,
    "start_time": "2024-02-22T09:09:27.290Z"
   },
   {
    "duration": 4,
    "start_time": "2024-02-22T09:09:27.297Z"
   },
   {
    "duration": 5,
    "start_time": "2024-02-22T09:09:27.302Z"
   },
   {
    "duration": 38,
    "start_time": "2024-02-22T09:09:27.309Z"
   },
   {
    "duration": 6,
    "start_time": "2024-02-22T09:09:27.349Z"
   },
   {
    "duration": 7,
    "start_time": "2024-02-22T09:09:27.356Z"
   },
   {
    "duration": 4,
    "start_time": "2024-02-22T09:09:27.365Z"
   },
   {
    "duration": 11,
    "start_time": "2024-02-22T09:09:27.370Z"
   },
   {
    "duration": 240,
    "start_time": "2024-02-22T09:09:27.382Z"
   },
   {
    "duration": 5,
    "start_time": "2024-02-22T09:09:27.624Z"
   },
   {
    "duration": 102,
    "start_time": "2024-02-22T09:09:27.630Z"
   },
   {
    "duration": 17,
    "start_time": "2024-02-22T09:09:27.734Z"
   },
   {
    "duration": 168,
    "start_time": "2024-02-22T09:09:27.752Z"
   },
   {
    "duration": 7,
    "start_time": "2024-02-22T09:09:27.922Z"
   },
   {
    "duration": 203,
    "start_time": "2024-02-22T09:09:27.931Z"
   },
   {
    "duration": 11,
    "start_time": "2024-02-22T09:09:28.136Z"
   },
   {
    "duration": 234,
    "start_time": "2024-02-22T09:09:28.148Z"
   },
   {
    "duration": 11,
    "start_time": "2024-02-22T09:09:28.383Z"
   },
   {
    "duration": 9,
    "start_time": "2024-02-22T09:09:28.395Z"
   },
   {
    "duration": 20,
    "start_time": "2024-02-22T09:09:28.405Z"
   },
   {
    "duration": 19,
    "start_time": "2024-02-22T09:09:28.427Z"
   },
   {
    "duration": 12,
    "start_time": "2024-02-22T09:09:28.447Z"
   },
   {
    "duration": 21,
    "start_time": "2024-02-22T09:09:28.460Z"
   },
   {
    "duration": 26,
    "start_time": "2024-02-22T09:09:28.483Z"
   },
   {
    "duration": 195,
    "start_time": "2024-02-22T09:09:28.510Z"
   },
   {
    "duration": 186,
    "start_time": "2024-02-22T09:09:28.706Z"
   },
   {
    "duration": 18,
    "start_time": "2024-02-22T09:09:28.894Z"
   },
   {
    "duration": 37,
    "start_time": "2024-02-22T09:09:28.916Z"
   },
   {
    "duration": 176,
    "start_time": "2024-02-22T09:09:28.955Z"
   },
   {
    "duration": 176,
    "start_time": "2024-02-22T09:09:29.133Z"
   },
   {
    "duration": 5,
    "start_time": "2024-02-22T09:09:29.310Z"
   },
   {
    "duration": 258,
    "start_time": "2024-02-22T09:09:29.316Z"
   },
   {
    "duration": 308,
    "start_time": "2024-02-22T09:09:29.575Z"
   },
   {
    "duration": 807,
    "start_time": "2024-02-22T09:09:29.884Z"
   },
   {
    "duration": 10,
    "start_time": "2024-02-22T09:09:30.693Z"
   },
   {
    "duration": 27,
    "start_time": "2024-02-22T09:09:30.705Z"
   },
   {
    "duration": 50,
    "start_time": "2024-02-22T09:09:30.733Z"
   },
   {
    "duration": 14,
    "start_time": "2024-02-22T09:09:30.785Z"
   },
   {
    "duration": 31,
    "start_time": "2024-02-22T09:09:30.800Z"
   },
   {
    "duration": 25,
    "start_time": "2024-02-22T09:09:30.832Z"
   },
   {
    "duration": 45,
    "start_time": "2024-02-22T09:09:30.858Z"
   },
   {
    "duration": 99,
    "start_time": "2024-02-22T09:11:48.337Z"
   },
   {
    "duration": 7,
    "start_time": "2024-08-16T11:17:23.638Z"
   },
   {
    "duration": 47,
    "start_time": "2024-08-16T11:18:01.022Z"
   },
   {
    "duration": 6,
    "start_time": "2024-08-16T11:18:18.728Z"
   },
   {
    "duration": 1064,
    "start_time": "2024-08-16T11:18:40.076Z"
   },
   {
    "duration": 286,
    "start_time": "2024-08-16T11:18:41.142Z"
   },
   {
    "duration": 2,
    "start_time": "2024-08-16T11:18:41.430Z"
   },
   {
    "duration": 44,
    "start_time": "2024-08-16T11:18:41.434Z"
   },
   {
    "duration": 14,
    "start_time": "2024-08-16T11:18:41.480Z"
   },
   {
    "duration": 51,
    "start_time": "2024-08-16T11:18:41.496Z"
   },
   {
    "duration": 25,
    "start_time": "2024-08-16T11:18:41.549Z"
   },
   {
    "duration": 25,
    "start_time": "2024-08-16T11:18:41.576Z"
   },
   {
    "duration": 22,
    "start_time": "2024-08-16T11:18:41.602Z"
   },
   {
    "duration": 24,
    "start_time": "2024-08-16T11:18:41.628Z"
   },
   {
    "duration": 8,
    "start_time": "2024-08-16T11:18:41.654Z"
   },
   {
    "duration": 21,
    "start_time": "2024-08-16T11:18:41.664Z"
   },
   {
    "duration": 7,
    "start_time": "2024-08-16T11:18:41.687Z"
   },
   {
    "duration": 24,
    "start_time": "2024-08-16T11:18:41.696Z"
   },
   {
    "duration": 18,
    "start_time": "2024-08-16T11:18:41.722Z"
   },
   {
    "duration": 15,
    "start_time": "2024-08-16T11:18:41.742Z"
   },
   {
    "duration": 5,
    "start_time": "2024-08-16T11:18:41.759Z"
   },
   {
    "duration": 22,
    "start_time": "2024-08-16T11:18:41.766Z"
   },
   {
    "duration": 23,
    "start_time": "2024-08-16T11:18:41.790Z"
   },
   {
    "duration": 7,
    "start_time": "2024-08-16T11:18:41.815Z"
   },
   {
    "duration": 17,
    "start_time": "2024-08-16T11:18:41.824Z"
   },
   {
    "duration": 23,
    "start_time": "2024-08-16T11:18:41.843Z"
   },
   {
    "duration": 164,
    "start_time": "2024-08-16T11:18:41.867Z"
   },
   {
    "duration": 5,
    "start_time": "2024-08-16T11:18:42.037Z"
   },
   {
    "duration": 105,
    "start_time": "2024-08-16T11:18:42.044Z"
   },
   {
    "duration": 8,
    "start_time": "2024-08-16T11:18:42.150Z"
   },
   {
    "duration": 232,
    "start_time": "2024-08-16T11:18:42.159Z"
   },
   {
    "duration": 8,
    "start_time": "2024-08-16T11:18:42.395Z"
   },
   {
    "duration": 208,
    "start_time": "2024-08-16T11:18:42.405Z"
   },
   {
    "duration": 10,
    "start_time": "2024-08-16T11:18:42.614Z"
   },
   {
    "duration": 248,
    "start_time": "2024-08-16T11:18:42.637Z"
   },
   {
    "duration": 10,
    "start_time": "2024-08-16T11:18:42.886Z"
   },
   {
    "duration": 62,
    "start_time": "2024-08-16T11:18:42.898Z"
   },
   {
    "duration": 24,
    "start_time": "2024-08-16T11:18:42.962Z"
   },
   {
    "duration": 6,
    "start_time": "2024-08-16T11:18:42.988Z"
   },
   {
    "duration": 12,
    "start_time": "2024-08-16T11:18:42.997Z"
   },
   {
    "duration": 31,
    "start_time": "2024-08-16T11:18:43.011Z"
   },
   {
    "duration": 42,
    "start_time": "2024-08-16T11:18:43.044Z"
   },
   {
    "duration": 214,
    "start_time": "2024-08-16T11:18:43.088Z"
   },
   {
    "duration": 219,
    "start_time": "2024-08-16T11:18:43.304Z"
   },
   {
    "duration": 29,
    "start_time": "2024-08-16T11:18:43.525Z"
   },
   {
    "duration": 111,
    "start_time": "2024-08-16T11:18:43.556Z"
   },
   {
    "duration": 187,
    "start_time": "2024-08-16T11:18:43.668Z"
   },
   {
    "duration": 193,
    "start_time": "2024-08-16T11:18:43.857Z"
   },
   {
    "duration": 5,
    "start_time": "2024-08-16T11:18:44.051Z"
   },
   {
    "duration": 283,
    "start_time": "2024-08-16T11:18:44.057Z"
   },
   {
    "duration": 269,
    "start_time": "2024-08-16T11:18:44.342Z"
   },
   {
    "duration": 855,
    "start_time": "2024-08-16T11:18:44.613Z"
   },
   {
    "duration": 11,
    "start_time": "2024-08-16T11:18:45.469Z"
   },
   {
    "duration": 68,
    "start_time": "2024-08-16T11:18:45.482Z"
   },
   {
    "duration": 21,
    "start_time": "2024-08-16T11:18:45.551Z"
   },
   {
    "duration": 21,
    "start_time": "2024-08-16T11:18:45.573Z"
   },
   {
    "duration": 8,
    "start_time": "2024-08-16T11:18:45.596Z"
   },
   {
    "duration": 17,
    "start_time": "2024-08-16T11:18:45.605Z"
   },
   {
    "duration": 24,
    "start_time": "2024-08-16T11:18:45.624Z"
   },
   {
    "duration": 33,
    "start_time": "2024-08-16T11:20:13.721Z"
   },
   {
    "duration": 34,
    "start_time": "2024-08-16T11:20:36.259Z"
   },
   {
    "duration": 31,
    "start_time": "2024-08-16T11:20:50.789Z"
   },
   {
    "duration": 11,
    "start_time": "2024-08-16T11:35:57.329Z"
   },
   {
    "duration": 4,
    "start_time": "2024-08-16T11:36:11.434Z"
   },
   {
    "duration": 5,
    "start_time": "2024-08-16T11:36:14.674Z"
   },
   {
    "duration": 1058,
    "start_time": "2024-08-16T11:37:08.862Z"
   },
   {
    "duration": 1324,
    "start_time": "2024-08-16T11:37:18.817Z"
   },
   {
    "duration": 69,
    "start_time": "2024-08-16T11:37:20.143Z"
   },
   {
    "duration": 3,
    "start_time": "2024-08-16T11:37:20.213Z"
   },
   {
    "duration": 104,
    "start_time": "2024-08-16T11:37:20.218Z"
   },
   {
    "duration": 33,
    "start_time": "2024-08-16T11:37:20.324Z"
   },
   {
    "duration": 29,
    "start_time": "2024-08-16T11:37:20.359Z"
   },
   {
    "duration": 6,
    "start_time": "2024-08-16T11:37:20.390Z"
   },
   {
    "duration": 11,
    "start_time": "2024-08-16T11:37:20.398Z"
   },
   {
    "duration": 7,
    "start_time": "2024-08-16T11:37:20.438Z"
   },
   {
    "duration": 31,
    "start_time": "2024-08-16T11:37:20.447Z"
   },
   {
    "duration": 8,
    "start_time": "2024-08-16T11:37:20.480Z"
   },
   {
    "duration": 6,
    "start_time": "2024-08-16T11:37:20.490Z"
   },
   {
    "duration": 11,
    "start_time": "2024-08-16T11:37:20.498Z"
   },
   {
    "duration": 10,
    "start_time": "2024-08-16T11:37:20.512Z"
   },
   {
    "duration": 17,
    "start_time": "2024-08-16T11:37:20.524Z"
   },
   {
    "duration": 9,
    "start_time": "2024-08-16T11:37:20.542Z"
   },
   {
    "duration": 5,
    "start_time": "2024-08-16T11:37:20.553Z"
   },
   {
    "duration": 10,
    "start_time": "2024-08-16T11:37:20.560Z"
   },
   {
    "duration": 176,
    "start_time": "2024-08-16T11:37:20.572Z"
   },
   {
    "duration": 5,
    "start_time": "2024-08-16T11:37:20.750Z"
   },
   {
    "duration": 110,
    "start_time": "2024-08-16T11:37:20.757Z"
   },
   {
    "duration": 8,
    "start_time": "2024-08-16T11:37:20.869Z"
   },
   {
    "duration": 222,
    "start_time": "2024-08-16T11:37:20.878Z"
   },
   {
    "duration": 9,
    "start_time": "2024-08-16T11:37:21.102Z"
   },
   {
    "duration": 227,
    "start_time": "2024-08-16T11:37:21.112Z"
   },
   {
    "duration": 8,
    "start_time": "2024-08-16T11:37:21.341Z"
   },
   {
    "duration": 356,
    "start_time": "2024-08-16T11:37:21.350Z"
   },
   {
    "duration": 10,
    "start_time": "2024-08-16T11:37:21.707Z"
   },
   {
    "duration": 85,
    "start_time": "2024-08-16T11:37:21.718Z"
   },
   {
    "duration": 12,
    "start_time": "2024-08-16T11:37:21.804Z"
   },
   {
    "duration": 10,
    "start_time": "2024-08-16T11:37:21.817Z"
   },
   {
    "duration": 8,
    "start_time": "2024-08-16T11:37:21.829Z"
   },
   {
    "duration": 29,
    "start_time": "2024-08-16T11:37:21.838Z"
   },
   {
    "duration": 29,
    "start_time": "2024-08-16T11:37:21.868Z"
   },
   {
    "duration": 215,
    "start_time": "2024-08-16T11:37:21.898Z"
   },
   {
    "duration": 190,
    "start_time": "2024-08-16T11:37:22.114Z"
   },
   {
    "duration": 31,
    "start_time": "2024-08-16T11:37:22.306Z"
   },
   {
    "duration": 109,
    "start_time": "2024-08-16T11:37:22.339Z"
   },
   {
    "duration": 192,
    "start_time": "2024-08-16T11:37:22.449Z"
   },
   {
    "duration": 213,
    "start_time": "2024-08-16T11:37:22.643Z"
   },
   {
    "duration": 8,
    "start_time": "2024-08-16T11:37:22.862Z"
   },
   {
    "duration": 292,
    "start_time": "2024-08-16T11:37:22.872Z"
   },
   {
    "duration": 279,
    "start_time": "2024-08-16T11:37:23.166Z"
   },
   {
    "duration": 893,
    "start_time": "2024-08-16T11:37:23.447Z"
   },
   {
    "duration": 12,
    "start_time": "2024-08-16T11:37:24.341Z"
   },
   {
    "duration": 12,
    "start_time": "2024-08-16T11:37:24.355Z"
   },
   {
    "duration": 32,
    "start_time": "2024-08-16T11:37:24.368Z"
   },
   {
    "duration": 13,
    "start_time": "2024-08-16T11:37:24.402Z"
   },
   {
    "duration": 7,
    "start_time": "2024-08-16T11:37:24.416Z"
   },
   {
    "duration": 16,
    "start_time": "2024-08-16T11:37:24.424Z"
   },
   {
    "duration": 18,
    "start_time": "2024-08-16T11:37:24.442Z"
   },
   {
    "duration": 1044,
    "start_time": "2024-08-16T11:38:05.934Z"
   },
   {
    "duration": 267,
    "start_time": "2024-08-16T11:38:36.478Z"
   },
   {
    "duration": 1179,
    "start_time": "2024-08-16T11:38:42.480Z"
   },
   {
    "duration": 70,
    "start_time": "2024-08-16T11:38:43.661Z"
   },
   {
    "duration": 3,
    "start_time": "2024-08-16T11:38:43.732Z"
   },
   {
    "duration": 39,
    "start_time": "2024-08-16T11:38:43.736Z"
   },
   {
    "duration": 31,
    "start_time": "2024-08-16T11:38:43.777Z"
   },
   {
    "duration": 55,
    "start_time": "2024-08-16T11:38:43.810Z"
   },
   {
    "duration": 15,
    "start_time": "2024-08-16T11:38:43.867Z"
   },
   {
    "duration": 8,
    "start_time": "2024-08-16T11:38:43.884Z"
   },
   {
    "duration": 5,
    "start_time": "2024-08-16T11:38:43.893Z"
   },
   {
    "duration": 19,
    "start_time": "2024-08-16T11:38:43.899Z"
   },
   {
    "duration": 11,
    "start_time": "2024-08-16T11:38:43.920Z"
   },
   {
    "duration": 6,
    "start_time": "2024-08-16T11:38:43.937Z"
   },
   {
    "duration": 5,
    "start_time": "2024-08-16T11:38:43.945Z"
   },
   {
    "duration": 6,
    "start_time": "2024-08-16T11:38:43.953Z"
   },
   {
    "duration": 9,
    "start_time": "2024-08-16T11:38:43.960Z"
   },
   {
    "duration": 7,
    "start_time": "2024-08-16T11:38:43.970Z"
   },
   {
    "duration": 7,
    "start_time": "2024-08-16T11:38:43.978Z"
   },
   {
    "duration": 6,
    "start_time": "2024-08-16T11:38:43.986Z"
   },
   {
    "duration": 214,
    "start_time": "2024-08-16T11:38:43.993Z"
   },
   {
    "duration": 6,
    "start_time": "2024-08-16T11:38:44.208Z"
   },
   {
    "duration": 170,
    "start_time": "2024-08-16T11:38:44.215Z"
   },
   {
    "duration": 8,
    "start_time": "2024-08-16T11:38:44.387Z"
   },
   {
    "duration": 208,
    "start_time": "2024-08-16T11:38:44.396Z"
   },
   {
    "duration": 9,
    "start_time": "2024-08-16T11:38:44.605Z"
   },
   {
    "duration": 247,
    "start_time": "2024-08-16T11:38:44.615Z"
   },
   {
    "duration": 9,
    "start_time": "2024-08-16T11:38:44.864Z"
   },
   {
    "duration": 283,
    "start_time": "2024-08-16T11:38:44.875Z"
   },
   {
    "duration": 11,
    "start_time": "2024-08-16T11:38:45.160Z"
   },
   {
    "duration": 40,
    "start_time": "2024-08-16T11:38:45.173Z"
   },
   {
    "duration": 31,
    "start_time": "2024-08-16T11:38:45.215Z"
   },
   {
    "duration": 17,
    "start_time": "2024-08-16T11:38:45.247Z"
   },
   {
    "duration": 6,
    "start_time": "2024-08-16T11:38:45.266Z"
   },
   {
    "duration": 63,
    "start_time": "2024-08-16T11:38:45.274Z"
   },
   {
    "duration": 32,
    "start_time": "2024-08-16T11:38:45.339Z"
   },
   {
    "duration": 243,
    "start_time": "2024-08-16T11:38:45.372Z"
   },
   {
    "duration": 232,
    "start_time": "2024-08-16T11:38:45.617Z"
   },
   {
    "duration": 20,
    "start_time": "2024-08-16T11:38:45.850Z"
   },
   {
    "duration": 109,
    "start_time": "2024-08-16T11:38:45.872Z"
   },
   {
    "duration": 190,
    "start_time": "2024-08-16T11:38:45.983Z"
   },
   {
    "duration": 212,
    "start_time": "2024-08-16T11:38:46.174Z"
   },
   {
    "duration": 4,
    "start_time": "2024-08-16T11:38:46.390Z"
   },
   {
    "duration": 246,
    "start_time": "2024-08-16T11:38:46.395Z"
   },
   {
    "duration": 259,
    "start_time": "2024-08-16T11:38:46.643Z"
   },
   {
    "duration": 857,
    "start_time": "2024-08-16T11:38:46.904Z"
   },
   {
    "duration": 12,
    "start_time": "2024-08-16T11:38:47.763Z"
   },
   {
    "duration": 6,
    "start_time": "2024-08-16T11:38:47.777Z"
   },
   {
    "duration": 23,
    "start_time": "2024-08-16T11:38:47.785Z"
   },
   {
    "duration": 46,
    "start_time": "2024-08-16T11:38:47.810Z"
   },
   {
    "duration": 7,
    "start_time": "2024-08-16T11:38:47.858Z"
   },
   {
    "duration": 9,
    "start_time": "2024-08-16T11:38:47.866Z"
   },
   {
    "duration": 27,
    "start_time": "2024-08-16T11:38:47.877Z"
   },
   {
    "duration": 5,
    "start_time": "2024-08-16T11:41:48.494Z"
   },
   {
    "duration": 11,
    "start_time": "2024-08-16T11:42:00.849Z"
   },
   {
    "duration": 1096,
    "start_time": "2024-08-16T11:43:31.431Z"
   },
   {
    "duration": 69,
    "start_time": "2024-08-16T11:43:32.529Z"
   },
   {
    "duration": 3,
    "start_time": "2024-08-16T11:43:32.599Z"
   },
   {
    "duration": 33,
    "start_time": "2024-08-16T11:43:32.603Z"
   },
   {
    "duration": 30,
    "start_time": "2024-08-16T11:43:32.638Z"
   },
   {
    "duration": 27,
    "start_time": "2024-08-16T11:43:32.669Z"
   },
   {
    "duration": 5,
    "start_time": "2024-08-16T11:43:32.697Z"
   },
   {
    "duration": 37,
    "start_time": "2024-08-16T11:43:32.703Z"
   },
   {
    "duration": 6,
    "start_time": "2024-08-16T11:43:32.741Z"
   },
   {
    "duration": 7,
    "start_time": "2024-08-16T11:43:32.748Z"
   },
   {
    "duration": 16,
    "start_time": "2024-08-16T11:43:32.756Z"
   },
   {
    "duration": 5,
    "start_time": "2024-08-16T11:43:32.773Z"
   },
   {
    "duration": 18,
    "start_time": "2024-08-16T11:43:32.780Z"
   },
   {
    "duration": 12,
    "start_time": "2024-08-16T11:43:32.801Z"
   },
   {
    "duration": 13,
    "start_time": "2024-08-16T11:43:32.814Z"
   },
   {
    "duration": 10,
    "start_time": "2024-08-16T11:43:32.828Z"
   },
   {
    "duration": 24,
    "start_time": "2024-08-16T11:43:32.839Z"
   },
   {
    "duration": 8,
    "start_time": "2024-08-16T11:43:32.865Z"
   },
   {
    "duration": 157,
    "start_time": "2024-08-16T11:43:32.875Z"
   },
   {
    "duration": 8,
    "start_time": "2024-08-16T11:43:33.033Z"
   },
   {
    "duration": 116,
    "start_time": "2024-08-16T11:43:33.043Z"
   },
   {
    "duration": 7,
    "start_time": "2024-08-16T11:43:33.161Z"
   },
   {
    "duration": 209,
    "start_time": "2024-08-16T11:43:33.170Z"
   },
   {
    "duration": 9,
    "start_time": "2024-08-16T11:43:33.381Z"
   },
   {
    "duration": 215,
    "start_time": "2024-08-16T11:43:33.392Z"
   },
   {
    "duration": 7,
    "start_time": "2024-08-16T11:43:33.609Z"
   },
   {
    "duration": 268,
    "start_time": "2024-08-16T11:43:33.618Z"
   },
   {
    "duration": 9,
    "start_time": "2024-08-16T11:43:33.887Z"
   },
   {
    "duration": 36,
    "start_time": "2024-08-16T11:43:33.898Z"
   },
   {
    "duration": 12,
    "start_time": "2024-08-16T11:43:33.935Z"
   },
   {
    "duration": 11,
    "start_time": "2024-08-16T11:43:33.948Z"
   },
   {
    "duration": 24,
    "start_time": "2024-08-16T11:43:33.961Z"
   },
   {
    "duration": 26,
    "start_time": "2024-08-16T11:43:33.986Z"
   },
   {
    "duration": 30,
    "start_time": "2024-08-16T11:43:34.014Z"
   },
   {
    "duration": 210,
    "start_time": "2024-08-16T11:43:34.046Z"
   },
   {
    "duration": 210,
    "start_time": "2024-08-16T11:43:34.258Z"
   },
   {
    "duration": 18,
    "start_time": "2024-08-16T11:43:34.470Z"
   },
   {
    "duration": 111,
    "start_time": "2024-08-16T11:43:34.489Z"
   },
   {
    "duration": 204,
    "start_time": "2024-08-16T11:43:34.602Z"
   },
   {
    "duration": 212,
    "start_time": "2024-08-16T11:43:34.807Z"
   },
   {
    "duration": 5,
    "start_time": "2024-08-16T11:43:35.023Z"
   },
   {
    "duration": 270,
    "start_time": "2024-08-16T11:43:35.038Z"
   },
   {
    "duration": 259,
    "start_time": "2024-08-16T11:43:35.310Z"
   },
   {
    "duration": 855,
    "start_time": "2024-08-16T11:43:35.570Z"
   },
   {
    "duration": 18,
    "start_time": "2024-08-16T11:43:36.427Z"
   },
   {
    "duration": 35,
    "start_time": "2024-08-16T11:43:36.446Z"
   },
   {
    "duration": 11,
    "start_time": "2024-08-16T11:43:36.482Z"
   },
   {
    "duration": 18,
    "start_time": "2024-08-16T11:43:36.494Z"
   },
   {
    "duration": 7,
    "start_time": "2024-08-16T11:43:36.513Z"
   },
   {
    "duration": 5,
    "start_time": "2024-08-16T11:43:36.521Z"
   },
   {
    "duration": 13,
    "start_time": "2024-08-16T11:43:36.528Z"
   }
  ],
  "kernelspec": {
   "display_name": "Python 3 (ipykernel)",
   "language": "python",
   "name": "python3"
  },
  "language_info": {
   "codemirror_mode": {
    "name": "ipython",
    "version": 3
   },
   "file_extension": ".py",
   "mimetype": "text/x-python",
   "name": "python",
   "nbconvert_exporter": "python",
   "pygments_lexer": "ipython3",
   "version": "3.9.5"
  },
  "toc": {
   "base_numbering": 1,
   "nav_menu": {},
   "number_sections": true,
   "sideBar": true,
   "skip_h1_title": true,
   "title_cell": "Table of Contents",
   "title_sidebar": "Contents",
   "toc_cell": false,
   "toc_position": {},
   "toc_section_display": true,
   "toc_window_display": true
  }
 },
 "nbformat": 4,
 "nbformat_minor": 5
}
